{
 "cells": [
  {
   "cell_type": "markdown",
   "id": "46a11457-a1a2-4514-9a68-b1a85d9b3d33",
   "metadata": {
    "tags": []
   },
   "source": [
    "# R tutorial\n",
    "`# comment`<br>\n",
    "case sensitive"
   ]
  },
  {
   "cell_type": "markdown",
   "id": "9d8dac47-8183-4b1e-8384-704ee227c38d",
   "metadata": {
    "tags": []
   },
   "source": [
    "## Install and import"
   ]
  },
  {
   "cell_type": "markdown",
   "id": "f5d0827d-4716-4923-9206-2b97795e7525",
   "metadata": {},
   "source": [
    "### Install R kernel \n",
    "\n",
    "`conda install -c r r-irkernel`"
   ]
  },
  {
   "cell_type": "markdown",
   "id": "9af7e413-f4ed-4d48-814c-e0456fbfe398",
   "metadata": {},
   "source": [
    "### Install Packages\n",
    "`install packages(ggplot2)`"
   ]
  },
  {
   "cell_type": "code",
   "execution_count": 376,
   "id": "e6073636-0dcd-4a67-ba97-209afe950fda",
   "metadata": {},
   "outputs": [],
   "source": [
    "library(ggplot2)"
   ]
  },
  {
   "cell_type": "markdown",
   "id": "49095981-9b53-4b40-bc41-e226fe8bd5a9",
   "metadata": {
    "jp-MarkdownHeadingCollapsed": true,
    "tags": []
   },
   "source": [
    "## 📎"
   ]
  },
  {
   "cell_type": "markdown",
   "id": "5ab13294-25fa-493f-a3ac-88ae090b04c3",
   "metadata": {},
   "source": [
    "### converting types of object"
   ]
  },
  {
   "cell_type": "markdown",
   "id": "ef3bb144-fc94-44fd-bb72-2f7067f17392",
   "metadata": {},
   "source": [
    "- `matrix`: all columns must contain objects of the same type <br>\n",
    "- `data.frame`:different columns can contain different types <br>\n",
    "- `data.table` <br>\n",
    "- `tbl_df` (\"tibble\"): another enhanced version of `data.frame`"
   ]
  },
  {
   "cell_type": "code",
   "execution_count": 377,
   "id": "d3c2cb4f-2e5c-49af-9082-f10f6f24018d",
   "metadata": {},
   "outputs": [
    {
     "data": {
      "text/html": [
       "'matrix'"
      ],
      "text/latex": [
       "'matrix'"
      ],
      "text/markdown": [
       "'matrix'"
      ],
      "text/plain": [
       "[1] \"matrix\""
      ]
     },
     "metadata": {},
     "output_type": "display_data"
    },
    {
     "data": {
      "text/html": [
       "<table>\n",
       "<thead><tr><th></th><th scope=col>N.Amer</th><th scope=col>Europe</th><th scope=col>Asia</th><th scope=col>S.Amer</th><th scope=col>Oceania</th><th scope=col>Africa</th><th scope=col>Mid.Amer</th></tr></thead>\n",
       "<tbody>\n",
       "\t<tr><th scope=row>1951</th><td>45939</td><td>21574</td><td>2876 </td><td>1815 </td><td>1646 </td><td>  89 </td><td> 555 </td></tr>\n",
       "\t<tr><th scope=row>1956</th><td>60423</td><td>29990</td><td>4708 </td><td>2568 </td><td>2366 </td><td>1411 </td><td> 733 </td></tr>\n",
       "\t<tr><th scope=row>1957</th><td>64721</td><td>32510</td><td>5230 </td><td>2695 </td><td>2526 </td><td>1546 </td><td> 773 </td></tr>\n",
       "\t<tr><th scope=row>1958</th><td>68484</td><td>35218</td><td>6662 </td><td>2845 </td><td>2691 </td><td>1663 </td><td> 836 </td></tr>\n",
       "\t<tr><th scope=row>1959</th><td>71799</td><td>37598</td><td>6856 </td><td>3000 </td><td>2868 </td><td>1769 </td><td> 911 </td></tr>\n",
       "\t<tr><th scope=row>1960</th><td>76036</td><td>40341</td><td>8220 </td><td>3145 </td><td>3054 </td><td>1905 </td><td>1008 </td></tr>\n",
       "</tbody>\n",
       "</table>\n"
      ],
      "text/latex": [
       "\\begin{tabular}{r|lllllll}\n",
       "  & N.Amer & Europe & Asia & S.Amer & Oceania & Africa & Mid.Amer\\\\\n",
       "\\hline\n",
       "\t1951 & 45939 & 21574 & 2876  & 1815  & 1646  &   89  &  555 \\\\\n",
       "\t1956 & 60423 & 29990 & 4708  & 2568  & 2366  & 1411  &  733 \\\\\n",
       "\t1957 & 64721 & 32510 & 5230  & 2695  & 2526  & 1546  &  773 \\\\\n",
       "\t1958 & 68484 & 35218 & 6662  & 2845  & 2691  & 1663  &  836 \\\\\n",
       "\t1959 & 71799 & 37598 & 6856  & 3000  & 2868  & 1769  &  911 \\\\\n",
       "\t1960 & 76036 & 40341 & 8220  & 3145  & 3054  & 1905  & 1008 \\\\\n",
       "\\end{tabular}\n"
      ],
      "text/markdown": [
       "\n",
       "| <!--/--> | N.Amer | Europe | Asia | S.Amer | Oceania | Africa | Mid.Amer |\n",
       "|---|---|---|---|---|---|---|---|\n",
       "| 1951 | 45939 | 21574 | 2876  | 1815  | 1646  |   89  |  555  |\n",
       "| 1956 | 60423 | 29990 | 4708  | 2568  | 2366  | 1411  |  733  |\n",
       "| 1957 | 64721 | 32510 | 5230  | 2695  | 2526  | 1546  |  773  |\n",
       "| 1958 | 68484 | 35218 | 6662  | 2845  | 2691  | 1663  |  836  |\n",
       "| 1959 | 71799 | 37598 | 6856  | 3000  | 2868  | 1769  |  911  |\n",
       "| 1960 | 76036 | 40341 | 8220  | 3145  | 3054  | 1905  | 1008  |\n",
       "\n"
      ],
      "text/plain": [
       "     N.Amer Europe Asia S.Amer Oceania Africa Mid.Amer\n",
       "1951 45939  21574  2876 1815   1646      89    555    \n",
       "1956 60423  29990  4708 2568   2366    1411    733    \n",
       "1957 64721  32510  5230 2695   2526    1546    773    \n",
       "1958 68484  35218  6662 2845   2691    1663    836    \n",
       "1959 71799  37598  6856 3000   2868    1769    911    \n",
       "1960 76036  40341  8220 3145   3054    1905   1008    "
      ]
     },
     "metadata": {},
     "output_type": "display_data"
    },
    {
     "data": {
      "text/html": [
       "'data.frame'"
      ],
      "text/latex": [
       "'data.frame'"
      ],
      "text/markdown": [
       "'data.frame'"
      ],
      "text/plain": [
       "[1] \"data.frame\""
      ]
     },
     "metadata": {},
     "output_type": "display_data"
    },
    {
     "data": {
      "text/html": [
       "<table>\n",
       "<thead><tr><th scope=col>Ozone</th><th scope=col>Solar.R</th><th scope=col>Wind</th><th scope=col>Temp</th><th scope=col>Month</th><th scope=col>Day</th><th scope=col>Hot</th></tr></thead>\n",
       "<tbody>\n",
       "\t<tr><td>41   </td><td>190  </td><td> 7.4 </td><td>67   </td><td>5    </td><td>1    </td><td>FALSE</td></tr>\n",
       "\t<tr><td>36   </td><td>118  </td><td> 8.0 </td><td>72   </td><td>5    </td><td>2    </td><td>FALSE</td></tr>\n",
       "\t<tr><td>12   </td><td>149  </td><td>12.6 </td><td>74   </td><td>5    </td><td>3    </td><td>FALSE</td></tr>\n",
       "\t<tr><td>18   </td><td>313  </td><td>11.5 </td><td>62   </td><td>5    </td><td>4    </td><td>FALSE</td></tr>\n",
       "\t<tr><td>NA   </td><td> NA  </td><td>14.3 </td><td>56   </td><td>5    </td><td>5    </td><td>FALSE</td></tr>\n",
       "\t<tr><td>28   </td><td> NA  </td><td>14.9 </td><td>66   </td><td>5    </td><td>6    </td><td>FALSE</td></tr>\n",
       "</tbody>\n",
       "</table>\n"
      ],
      "text/latex": [
       "\\begin{tabular}{r|lllllll}\n",
       " Ozone & Solar.R & Wind & Temp & Month & Day & Hot\\\\\n",
       "\\hline\n",
       "\t 41    & 190   &  7.4  & 67    & 5     & 1     & FALSE\\\\\n",
       "\t 36    & 118   &  8.0  & 72    & 5     & 2     & FALSE\\\\\n",
       "\t 12    & 149   & 12.6  & 74    & 5     & 3     & FALSE\\\\\n",
       "\t 18    & 313   & 11.5  & 62    & 5     & 4     & FALSE\\\\\n",
       "\t NA    &  NA   & 14.3  & 56    & 5     & 5     & FALSE\\\\\n",
       "\t 28    &  NA   & 14.9  & 66    & 5     & 6     & FALSE\\\\\n",
       "\\end{tabular}\n"
      ],
      "text/markdown": [
       "\n",
       "| Ozone | Solar.R | Wind | Temp | Month | Day | Hot |\n",
       "|---|---|---|---|---|---|---|\n",
       "| 41    | 190   |  7.4  | 67    | 5     | 1     | FALSE |\n",
       "| 36    | 118   |  8.0  | 72    | 5     | 2     | FALSE |\n",
       "| 12    | 149   | 12.6  | 74    | 5     | 3     | FALSE |\n",
       "| 18    | 313   | 11.5  | 62    | 5     | 4     | FALSE |\n",
       "| NA    |  NA   | 14.3  | 56    | 5     | 5     | FALSE |\n",
       "| 28    |  NA   | 14.9  | 66    | 5     | 6     | FALSE |\n",
       "\n"
      ],
      "text/plain": [
       "  Ozone Solar.R Wind Temp Month Day Hot  \n",
       "1 41    190      7.4 67   5     1   FALSE\n",
       "2 36    118      8.0 72   5     2   FALSE\n",
       "3 12    149     12.6 74   5     3   FALSE\n",
       "4 18    313     11.5 62   5     4   FALSE\n",
       "5 NA     NA     14.3 56   5     5   FALSE\n",
       "6 28     NA     14.9 66   5     6   FALSE"
      ]
     },
     "metadata": {},
     "output_type": "display_data"
    },
    {
     "data": {
      "text/html": [
       "<ol class=list-inline>\n",
       "\t<li>'tbl_df'</li>\n",
       "\t<li>'tbl'</li>\n",
       "\t<li>'data.frame'</li>\n",
       "</ol>\n"
      ],
      "text/latex": [
       "\\begin{enumerate*}\n",
       "\\item 'tbl\\_df'\n",
       "\\item 'tbl'\n",
       "\\item 'data.frame'\n",
       "\\end{enumerate*}\n"
      ],
      "text/markdown": [
       "1. 'tbl_df'\n",
       "2. 'tbl'\n",
       "3. 'data.frame'\n",
       "\n",
       "\n"
      ],
      "text/plain": [
       "[1] \"tbl_df\"     \"tbl\"        \"data.frame\""
      ]
     },
     "metadata": {},
     "output_type": "display_data"
    },
    {
     "data": {
      "text/html": [
       "<table>\n",
       "<thead><tr><th scope=col>name</th><th scope=col>genus</th><th scope=col>vore</th><th scope=col>order</th><th scope=col>conservation</th><th scope=col>sleep_total</th><th scope=col>sleep_rem</th><th scope=col>sleep_cycle</th><th scope=col>awake</th><th scope=col>brainwt</th><th scope=col>bodywt</th></tr></thead>\n",
       "<tbody>\n",
       "\t<tr><td>Cheetah                   </td><td>Acinonyx                  </td><td>carni                     </td><td>Carnivora                 </td><td>lc                        </td><td>12.1                      </td><td> NA                       </td><td>       NA                 </td><td>11.9                      </td><td>     NA                   </td><td> 50.000                   </td></tr>\n",
       "\t<tr><td>Owl monkey                </td><td>Aotus                     </td><td>omni                      </td><td>Primates                  </td><td>NA                        </td><td>17.0                      </td><td>1.8                       </td><td>       NA                 </td><td> 7.0                      </td><td>0.01550                   </td><td>  0.480                   </td></tr>\n",
       "\t<tr><td>Mountain beaver           </td><td>Aplodontia                </td><td>herbi                     </td><td>Rodentia                  </td><td>nt                        </td><td>14.4                      </td><td>2.4                       </td><td>       NA                 </td><td> 9.6                      </td><td>     NA                   </td><td>  1.350                   </td></tr>\n",
       "\t<tr><td>Greater short-tailed shrew</td><td>Blarina                   </td><td>omni                      </td><td>Soricomorpha              </td><td>lc                        </td><td>14.9                      </td><td>2.3                       </td><td>0.1333333                 </td><td> 9.1                      </td><td>0.00029                   </td><td>  0.019                   </td></tr>\n",
       "\t<tr><td>Cow                       </td><td>Bos                       </td><td>herbi                     </td><td>Artiodactyla              </td><td>domesticated              </td><td> 4.0                      </td><td>0.7                       </td><td>0.6666667                 </td><td>20.0                      </td><td>0.42300                   </td><td>600.000                   </td></tr>\n",
       "\t<tr><td>Three-toed sloth          </td><td>Bradypus                  </td><td>herbi                     </td><td>Pilosa                    </td><td>NA                        </td><td>14.4                      </td><td>2.2                       </td><td>0.7666667                 </td><td> 9.6                      </td><td>     NA                   </td><td>  3.850                   </td></tr>\n",
       "</tbody>\n",
       "</table>\n"
      ],
      "text/latex": [
       "\\begin{tabular}{r|lllllllllll}\n",
       " name & genus & vore & order & conservation & sleep\\_total & sleep\\_rem & sleep\\_cycle & awake & brainwt & bodywt\\\\\n",
       "\\hline\n",
       "\t Cheetah                    & Acinonyx                   & carni                      & Carnivora                  & lc                         & 12.1                       &  NA                        &        NA                  & 11.9                       &      NA                    &  50.000                   \\\\\n",
       "\t Owl monkey                 & Aotus                      & omni                       & Primates                   & NA                         & 17.0                       & 1.8                        &        NA                  &  7.0                       & 0.01550                    &   0.480                   \\\\\n",
       "\t Mountain beaver            & Aplodontia                 & herbi                      & Rodentia                   & nt                         & 14.4                       & 2.4                        &        NA                  &  9.6                       &      NA                    &   1.350                   \\\\\n",
       "\t Greater short-tailed shrew & Blarina                    & omni                       & Soricomorpha               & lc                         & 14.9                       & 2.3                        & 0.1333333                  &  9.1                       & 0.00029                    &   0.019                   \\\\\n",
       "\t Cow                        & Bos                        & herbi                      & Artiodactyla               & domesticated               &  4.0                       & 0.7                        & 0.6666667                  & 20.0                       & 0.42300                    & 600.000                   \\\\\n",
       "\t Three-toed sloth           & Bradypus                   & herbi                      & Pilosa                     & NA                         & 14.4                       & 2.2                        & 0.7666667                  &  9.6                       &      NA                    &   3.850                   \\\\\n",
       "\\end{tabular}\n"
      ],
      "text/markdown": [
       "\n",
       "| name | genus | vore | order | conservation | sleep_total | sleep_rem | sleep_cycle | awake | brainwt | bodywt |\n",
       "|---|---|---|---|---|---|---|---|---|---|---|\n",
       "| Cheetah                    | Acinonyx                   | carni                      | Carnivora                  | lc                         | 12.1                       |  NA                        |        NA                  | 11.9                       |      NA                    |  50.000                    |\n",
       "| Owl monkey                 | Aotus                      | omni                       | Primates                   | NA                         | 17.0                       | 1.8                        |        NA                  |  7.0                       | 0.01550                    |   0.480                    |\n",
       "| Mountain beaver            | Aplodontia                 | herbi                      | Rodentia                   | nt                         | 14.4                       | 2.4                        |        NA                  |  9.6                       |      NA                    |   1.350                    |\n",
       "| Greater short-tailed shrew | Blarina                    | omni                       | Soricomorpha               | lc                         | 14.9                       | 2.3                        | 0.1333333                  |  9.1                       | 0.00029                    |   0.019                    |\n",
       "| Cow                        | Bos                        | herbi                      | Artiodactyla               | domesticated               |  4.0                       | 0.7                        | 0.6666667                  | 20.0                       | 0.42300                    | 600.000                    |\n",
       "| Three-toed sloth           | Bradypus                   | herbi                      | Pilosa                     | NA                         | 14.4                       | 2.2                        | 0.7666667                  |  9.6                       |      NA                    |   3.850                    |\n",
       "\n"
      ],
      "text/plain": [
       "  name                       genus      vore  order        conservation\n",
       "1 Cheetah                    Acinonyx   carni Carnivora    lc          \n",
       "2 Owl monkey                 Aotus      omni  Primates     NA          \n",
       "3 Mountain beaver            Aplodontia herbi Rodentia     nt          \n",
       "4 Greater short-tailed shrew Blarina    omni  Soricomorpha lc          \n",
       "5 Cow                        Bos        herbi Artiodactyla domesticated\n",
       "6 Three-toed sloth           Bradypus   herbi Pilosa       NA          \n",
       "  sleep_total sleep_rem sleep_cycle awake brainwt bodywt \n",
       "1 12.1         NA              NA   11.9       NA  50.000\n",
       "2 17.0        1.8              NA    7.0  0.01550   0.480\n",
       "3 14.4        2.4              NA    9.6       NA   1.350\n",
       "4 14.9        2.3       0.1333333    9.1  0.00029   0.019\n",
       "5  4.0        0.7       0.6666667   20.0  0.42300 600.000\n",
       "6 14.4        2.2       0.7666667    9.6       NA   3.850"
      ]
     },
     "metadata": {},
     "output_type": "display_data"
    },
    {
     "data": {
      "text/html": [
       "\n",
       "<table width=\"100%\" summary=\"page for WorldPhones {datasets}\"><tr><td>WorldPhones {datasets}</td><td style=\"text-align: right;\">R Documentation</td></tr></table>\n",
       "\n",
       "<h2>The World's Telephones</h2>\n",
       "\n",
       "<h3>Description</h3>\n",
       "\n",
       "<p>The number of telephones in various regions of the world (in\n",
       "thousands).\n",
       "</p>\n",
       "\n",
       "\n",
       "<h3>Usage</h3>\n",
       "\n",
       "<pre>WorldPhones</pre>\n",
       "\n",
       "\n",
       "<h3>Format</h3>\n",
       "\n",
       "<p>A matrix with 7 rows and 8 columns.  The columns of the matrix give\n",
       "the figures for a given region, and the rows the figures for a year.\n",
       "</p>\n",
       "<p>The regions are: North America, Europe, Asia, South America, Oceania,\n",
       "Africa, Central America.\n",
       "</p>\n",
       "<p>The years are: 1951, 1956, 1957, 1958, 1959, 1960, 1961.\n",
       "</p>\n",
       "\n",
       "\n",
       "<h3>Source</h3>\n",
       "\n",
       "<p>AT&amp;T (1961) <em>The World's Telephones</em>.\n",
       "</p>\n",
       "\n",
       "\n",
       "<h3>References</h3>\n",
       "\n",
       "<p>McNeil, D. R. (1977)\n",
       "<em>Interactive Data Analysis</em>.\n",
       "New York: Wiley.\n",
       "</p>\n",
       "\n",
       "\n",
       "<h3>Examples</h3>\n",
       "\n",
       "<pre>\n",
       "require(graphics)\n",
       "matplot(rownames(WorldPhones), WorldPhones, type = \"b\", log = \"y\",\n",
       "        xlab = \"Year\", ylab = \"Number of telephones (1000's)\")\n",
       "legend(1951.5, 80000, colnames(WorldPhones), col = 1:6, lty = 1:5,\n",
       "       pch = rep(21, 7))\n",
       "title(main = \"World phones data: log scale for response\")\n",
       "</pre>\n",
       "\n",
       "<hr /><div style=\"text-align: center;\">[Package <em>datasets</em> version 3.6.1 ]</div>"
      ],
      "text/latex": [
       "\\inputencoding{utf8}\n",
       "\\HeaderA{WorldPhones}{The World's Telephones}{WorldPhones}\n",
       "\\keyword{datasets}{WorldPhones}\n",
       "%\n",
       "\\begin{Description}\\relax\n",
       "The number of telephones in various regions of the world (in\n",
       "thousands).\n",
       "\\end{Description}\n",
       "%\n",
       "\\begin{Usage}\n",
       "\\begin{verbatim}\n",
       "WorldPhones\n",
       "\\end{verbatim}\n",
       "\\end{Usage}\n",
       "%\n",
       "\\begin{Format}\n",
       "A matrix with 7 rows and 8 columns.  The columns of the matrix give\n",
       "the figures for a given region, and the rows the figures for a year.\n",
       "\n",
       "The regions are: North America, Europe, Asia, South America, Oceania,\n",
       "Africa, Central America.\n",
       "\n",
       "The years are: 1951, 1956, 1957, 1958, 1959, 1960, 1961.\n",
       "\\end{Format}\n",
       "%\n",
       "\\begin{Source}\\relax\n",
       "AT\\&T (1961) \\emph{The World's Telephones}.\n",
       "\\end{Source}\n",
       "%\n",
       "\\begin{References}\\relax\n",
       "McNeil, D. R. (1977)\n",
       "\\emph{Interactive Data Analysis}.\n",
       "New York: Wiley.\n",
       "\\end{References}\n",
       "%\n",
       "\\begin{Examples}\n",
       "\\begin{ExampleCode}\n",
       "require(graphics)\n",
       "matplot(rownames(WorldPhones), WorldPhones, type = \"b\", log = \"y\",\n",
       "        xlab = \"Year\", ylab = \"Number of telephones (1000's)\")\n",
       "legend(1951.5, 80000, colnames(WorldPhones), col = 1:6, lty = 1:5,\n",
       "       pch = rep(21, 7))\n",
       "title(main = \"World phones data: log scale for response\")\n",
       "\\end{ExampleCode}\n",
       "\\end{Examples}"
      ],
      "text/plain": [
       "WorldPhones              package:datasets              R Documentation\n",
       "\n",
       "_\bT_\bh_\be _\bW_\bo_\br_\bl_\bd'_\bs _\bT_\be_\bl_\be_\bp_\bh_\bo_\bn_\be_\bs\n",
       "\n",
       "_\bD_\be_\bs_\bc_\br_\bi_\bp_\bt_\bi_\bo_\bn:\n",
       "\n",
       "     The number of telephones in various regions of the world (in\n",
       "     thousands).\n",
       "\n",
       "_\bU_\bs_\ba_\bg_\be:\n",
       "\n",
       "     WorldPhones\n",
       "     \n",
       "_\bF_\bo_\br_\bm_\ba_\bt:\n",
       "\n",
       "     A matrix with 7 rows and 8 columns.  The columns of the matrix\n",
       "     give the figures for a given region, and the rows the figures for\n",
       "     a year.\n",
       "\n",
       "     The regions are: North America, Europe, Asia, South America,\n",
       "     Oceania, Africa, Central America.\n",
       "\n",
       "     The years are: 1951, 1956, 1957, 1958, 1959, 1960, 1961.\n",
       "\n",
       "_\bS_\bo_\bu_\br_\bc_\be:\n",
       "\n",
       "     AT&T (1961) _The World's Telephones_.\n",
       "\n",
       "_\bR_\be_\bf_\be_\br_\be_\bn_\bc_\be_\bs:\n",
       "\n",
       "     McNeil, D. R. (1977) _Interactive Data Analysis_.  New York:\n",
       "     Wiley.\n",
       "\n",
       "_\bE_\bx_\ba_\bm_\bp_\bl_\be_\bs:\n",
       "\n",
       "     require(graphics)\n",
       "     matplot(rownames(WorldPhones), WorldPhones, type = \"b\", log = \"y\",\n",
       "             xlab = \"Year\", ylab = \"Number of telephones (1000's)\")\n",
       "     legend(1951.5, 80000, colnames(WorldPhones), col = 1:6, lty = 1:5,\n",
       "            pch = rep(21, 7))\n",
       "     title(main = \"World phones data: log scale for response\")\n",
       "     "
      ]
     },
     "metadata": {},
     "output_type": "display_data"
    }
   ],
   "source": [
    "# First, an example of data stored in a matrix:\n",
    "?WorldPhones\n",
    "class(WorldPhones)\n",
    "head(WorldPhones)\n",
    "\n",
    "# Next, an example of data stored in a data frame:\n",
    "?airquality\n",
    "class(airquality)\n",
    "head(airquality)\n",
    "\n",
    "# Finally, an example of data stored in a tibble:\n",
    "library(ggplot2)\n",
    "?msleep\n",
    "class(msleep)\n",
    "head(msleep)"
   ]
  },
  {
   "cell_type": "code",
   "execution_count": 378,
   "id": "ab080e54-67d8-4924-8820-0a4016f80114",
   "metadata": {},
   "outputs": [
    {
     "data": {
      "text/html": [
       "'data.frame'"
      ],
      "text/latex": [
       "'data.frame'"
      ],
      "text/markdown": [
       "'data.frame'"
      ],
      "text/plain": [
       "[1] \"data.frame\""
      ]
     },
     "metadata": {},
     "output_type": "display_data"
    },
    {
     "data": {
      "text/html": [
       "'matrix'"
      ],
      "text/latex": [
       "'matrix'"
      ],
      "text/markdown": [
       "'matrix'"
      ],
      "text/plain": [
       "[1] \"matrix\""
      ]
     },
     "metadata": {},
     "output_type": "display_data"
    }
   ],
   "source": [
    "WorldPhonesDF <- as.data.frame(WorldPhones)\n",
    "class(WorldPhonesDF)\n",
    "\n",
    "airqualityMatrix <- as.matrix(airquality)\n",
    "class(airqualityMatrix)"
   ]
  },
  {
   "cell_type": "markdown",
   "id": "1cc37510-6dab-477e-9c9a-30ec004b775d",
   "metadata": {},
   "source": [
    "### apropos()"
   ]
  },
  {
   "cell_type": "code",
   "execution_count": 379,
   "id": "b4cd1f05-f8f5-4eda-a803-629850a29a7f",
   "metadata": {},
   "outputs": [
    {
     "data": {
      "text/html": [
       "<ol class=list-inline>\n",
       "\t<li>'.expand_R_libs_env_var'</li>\n",
       "\t<li>'all.vars'</li>\n",
       "\t<li>'combine_vars'</li>\n",
       "\t<li>'estVar'</li>\n",
       "\t<li>'get_all_vars'</li>\n",
       "\t<li>'globalVariables'</li>\n",
       "\t<li>'var'</li>\n",
       "\t<li>'var.test'</li>\n",
       "\t<li>'variable.names'</li>\n",
       "\t<li>'varimax'</li>\n",
       "\t<li>'vars'</li>\n",
       "</ol>\n"
      ],
      "text/latex": [
       "\\begin{enumerate*}\n",
       "\\item '.expand\\_R\\_libs\\_env\\_var'\n",
       "\\item 'all.vars'\n",
       "\\item 'combine\\_vars'\n",
       "\\item 'estVar'\n",
       "\\item 'get\\_all\\_vars'\n",
       "\\item 'globalVariables'\n",
       "\\item 'var'\n",
       "\\item 'var.test'\n",
       "\\item 'variable.names'\n",
       "\\item 'varimax'\n",
       "\\item 'vars'\n",
       "\\end{enumerate*}\n"
      ],
      "text/markdown": [
       "1. '.expand_R_libs_env_var'\n",
       "2. 'all.vars'\n",
       "3. 'combine_vars'\n",
       "4. 'estVar'\n",
       "5. 'get_all_vars'\n",
       "6. 'globalVariables'\n",
       "7. 'var'\n",
       "8. 'var.test'\n",
       "9. 'variable.names'\n",
       "10. 'varimax'\n",
       "11. 'vars'\n",
       "\n",
       "\n"
      ],
      "text/plain": [
       " [1] \".expand_R_libs_env_var\" \"all.vars\"               \"combine_vars\"          \n",
       " [4] \"estVar\"                 \"get_all_vars\"           \"globalVariables\"       \n",
       " [7] \"var\"                    \"var.test\"               \"variable.names\"        \n",
       "[10] \"varimax\"                \"vars\"                  "
      ]
     },
     "metadata": {},
     "output_type": "display_data"
    }
   ],
   "source": [
    "apropos('var')"
   ]
  },
  {
   "cell_type": "markdown",
   "id": "a6536b79-9acf-478d-bb29-6d4c6a702408",
   "metadata": {
    "jp-MarkdownHeadingCollapsed": true,
    "tags": []
   },
   "source": [
    "## Help"
   ]
  },
  {
   "cell_type": "markdown",
   "id": "4566d447",
   "metadata": {},
   "source": [
    "search for all functions that contain the word."
   ]
  },
  {
   "cell_type": "code",
   "execution_count": 380,
   "id": "c6c17a55-37d7-4ada-bfd9-64441205ede0",
   "metadata": {},
   "outputs": [
    {
     "data": {
      "text/html": [
       "\n",
       "<table width=\"100%\" summary=\"page for help {utils}\"><tr><td>help {utils}</td><td style=\"text-align: right;\">R Documentation</td></tr></table>\n",
       "\n",
       "<h2>Documentation</h2>\n",
       "\n",
       "<h3>Description</h3>\n",
       "\n",
       "<p><code>help</code> is the primary interface to the help systems.\n",
       "</p>\n",
       "\n",
       "\n",
       "<h3>Usage</h3>\n",
       "\n",
       "<pre>\n",
       "help(topic, package = NULL, lib.loc = NULL,\n",
       "     verbose = getOption(\"verbose\"),\n",
       "     try.all.packages = getOption(\"help.try.all.packages\"),\n",
       "     help_type = getOption(\"help_type\"))\n",
       "</pre>\n",
       "\n",
       "\n",
       "<h3>Arguments</h3>\n",
       "\n",
       "<table summary=\"R argblock\">\n",
       "<tr valign=\"top\"><td><code>topic</code></td>\n",
       "<td>\n",
       "<p>usually, a name or character string specifying the\n",
       "topic for which help is sought.  A character string (enclosed in\n",
       "explicit single or double quotes) is always taken as naming a topic.\n",
       "</p>\n",
       "<p>If the value of <code>topic</code> is a length-one\n",
       "character vector the topic is taken to be the value of the only\n",
       "element.  Otherwise <code>topic</code> must be a name or a reserved\n",
       "word (if syntactically valid) or character string.\n",
       "</p>\n",
       "<p>See &lsquo;Details&rsquo; for what happens if this is omitted.\n",
       "</p>\n",
       "</td></tr>\n",
       "<tr valign=\"top\"><td><code>package</code></td>\n",
       "<td>\n",
       "<p>a name or character vector giving the packages to look\n",
       "into for documentation, or <code>NULL</code>.  By default, all packages\n",
       "whose namespaces are loaded are used.  To avoid a name being deparsed use e.g.\n",
       "<code>(pkg_ref)</code> (see the examples).</p>\n",
       "</td></tr>\n",
       "<tr valign=\"top\"><td><code>lib.loc</code></td>\n",
       "<td>\n",
       "<p>a character vector of directory names of <span style=\"font-family: Courier New, Courier; color: #666666;\"><b>R</b></span> libraries,\n",
       "or <code>NULL</code>.  The default value of <code>NULL</code> corresponds to all\n",
       "libraries currently known.  If the default is used, the loaded\n",
       "packages are searched before the libraries.  This is not used for\n",
       "HTML help (see &lsquo;Details&rsquo;).</p>\n",
       "</td></tr>\n",
       "<tr valign=\"top\"><td><code>verbose</code></td>\n",
       "<td>\n",
       "<p>logical; if <code>TRUE</code>, the file name is reported.</p>\n",
       "</td></tr>\n",
       "<tr valign=\"top\"><td><code>try.all.packages</code></td>\n",
       "<td>\n",
       "<p>logical; see <code>Note</code>.</p>\n",
       "</td></tr>\n",
       "<tr valign=\"top\"><td><code>help_type</code></td>\n",
       "<td>\n",
       "<p>character string: the type of help required.\n",
       "Possible values are <code>\"text\"</code>, <code>\"html\"</code> and <code>\"pdf\"</code>.\n",
       "Case is ignored, and partial matching is allowed.</p>\n",
       "</td></tr>\n",
       "</table>\n",
       "\n",
       "\n",
       "<h3>Details</h3>\n",
       "\n",
       "<p>The following types of help are available:\n",
       "</p>\n",
       "\n",
       "<ul>\n",
       "<li><p> Plain text help\n",
       "</p>\n",
       "</li>\n",
       "<li><p> HTML help pages with hyperlinks to other topics, shown in a\n",
       "browser by <code>browseURL</code>.\n",
       "<br />\n",
       "(On Unix-alikes,\n",
       "where possible an existing browser window is re-used: the macOS\n",
       "GUI uses its own browser window.)\n",
       "</p>\n",
       "<p>If for some reason HTML help is unavailable (see\n",
       "<code>startDynamicHelp</code>), plain text help will be used\n",
       "instead.\n",
       "</p>\n",
       "</li>\n",
       "<li><p> For <code>help</code> only, typeset as PDF &ndash;\n",
       "see the section on &lsquo;Offline help&rsquo;.\n",
       "</p>\n",
       "</li></ul>\n",
       "\n",
       "\n",
       "<dl>\n",
       "<dt>On Unix-alikes:</dt><dd>\n",
       "<p>The &lsquo;factory-fresh&rsquo; default is text help except from the macOS\n",
       "GUI, which uses HTML help displayed in its own browser window.\n",
       "</p>\n",
       "</dd>\n",
       "<dt>On Windows:</dt><dd>\n",
       "<p>The default for the type of help is selected when <span style=\"font-family: Courier New, Courier; color: #666666;\"><b>R</b></span> is installed &ndash;\n",
       "the &lsquo;factory-fresh&rsquo; default is HTML help.\n",
       "</p>\n",
       "</dd>\n",
       "</dl>\n",
       "\n",
       "<p>The rendering of text help will use directional quotes in suitable\n",
       "locales (UTF-8 and single-byte Windows locales): sometimes the fonts\n",
       "used do not support these quotes so this can be turned off by setting\n",
       "<code>options(useFancyQuotes = FALSE)</code>.\n",
       "</p>\n",
       "<p><code>topic</code> is not optional: if it is omitted <span style=\"font-family: Courier New, Courier; color: #666666;\"><b>R</b></span> will give\n",
       "</p>\n",
       "\n",
       "<ul>\n",
       "<li><p> If a package is specified, (text or, in interactive use only,\n",
       "HTML) information on the package, including hints/links to suitable\n",
       "help topics.\n",
       "</p>\n",
       "</li>\n",
       "<li><p> If <code>lib.loc</code> only is specified, a (text) list of available\n",
       "packages.\n",
       "</p>\n",
       "</li>\n",
       "<li><p> Help on <code>help</code> itself if none of the first three\n",
       "arguments is specified.\n",
       "</p>\n",
       "</li></ul>\n",
       "\n",
       "<p>Some topics need to be quoted (by backticks) or given as a\n",
       "character string.  These include those which cannot syntactically\n",
       "appear on their own such as unary and binary operators,\n",
       "<code>function</code> and control-flow reserved words (including\n",
       "<code>if</code>, <code>else</code> <code>for</code>, <code>in</code>, <code>repeat</code>,\n",
       "<code>while</code>, <code>break</code> and <code>next</code>).  The other <code>reserved</code>\n",
       "words can be used as if they were names, for example <code>TRUE</code>,\n",
       "<code>NA</code> and <code>Inf</code>.\n",
       "</p>\n",
       "<p>If multiple help files matching <code>topic</code> are found, in interactive\n",
       "use a menu is presented for the user to choose one: in batch use the\n",
       "first on the search path is used.  (For HTML help the menu will be an\n",
       "HTML page, otherwise a graphical menu if possible if\n",
       "<code>getOption(\"menu.graphics\")</code> is true, the default.)\n",
       "</p>\n",
       "<p>Note that HTML help does not make use of <code>lib.loc</code>: it will\n",
       "always look first in the loaded packages and then along\n",
       "<code>.libPaths()</code>.\n",
       "</p>\n",
       "\n",
       "\n",
       "<h3>Offline help</h3>\n",
       "\n",
       "<p>Typeset documentation is produced by running the LaTeX version of the\n",
       "help page through <code>pdflatex</code>: this will produce a PDF file.\n",
       "</p>\n",
       "<p>The appearance of the output can be customized through a file\n",
       "&lsquo;<span class=\"file\">Rhelp.cfg</span>&rsquo; somewhere in your LaTeX search path: this will be\n",
       "input as a LaTeX style file after <code>Rd.sty</code>.  Some\n",
       "environment variables are consulted, notably <span class=\"env\">R_PAPERSIZE</span>\n",
       "(<em>via</em> <code>getOption(\"papersize\")</code>) and <span class=\"env\">R_RD4PDF</span> (see\n",
       "&lsquo;Making manuals&rsquo; in the &lsquo;R Installation and\n",
       "Administration Manual&rsquo;).\n",
       "</p>\n",
       "<p>If there is a function <code>offline_help_helper</code> in the workspace or\n",
       "further down the search path it is used to do the typesetting,\n",
       "otherwise the function of that name in the <code>utils</code> namespace (to\n",
       "which the first paragraph applies).  It should accept at least two\n",
       "arguments, the name of the LaTeX file to be typeset and the type\n",
       "(which is nowadays ignored).  It accepts a third argument,\n",
       "<code>texinputs</code>, which will give the graphics path when the help\n",
       "document contains figures, and will otherwise not be supplied.\n",
       "</p>\n",
       "\n",
       "\n",
       "<h3>Note</h3>\n",
       "\n",
       "<p>Unless <code>lib.loc</code> is specified explicitly, the loaded packages are\n",
       "searched before those in the specified libraries.  This ensures that\n",
       "if a library is loaded from a library not in the known library trees,\n",
       "then the help from the loaded library is used.  If <code>lib.loc</code> is\n",
       "specified explicitly, the loaded packages are <em>not</em> searched.\n",
       "</p>\n",
       "<p>If this search fails and argument <code>try.all.packages</code> is\n",
       "<code>TRUE</code> and neither <code>packages</code> nor <code>lib.loc</code> is\n",
       "specified, then all the packages in the known library trees are\n",
       "searched for help on <code>topic</code> and a list of (any) packages where\n",
       "help may be found is displayed (with hyperlinks for\n",
       "<code>help_type = \"html\"</code>).\n",
       "<strong>NB:</strong> searching all packages can be slow, especially\n",
       "the first time (caching of files by the OS can expedite subsequent\n",
       "searches dramatically).\n",
       "</p>\n",
       "\n",
       "\n",
       "<h3>References</h3>\n",
       "\n",
       "<p>Becker, R. A., Chambers, J. M. and Wilks, A. R. (1988)\n",
       "<em>The New S Language</em>.\n",
       "Wadsworth &amp; Brooks/Cole.\n",
       "</p>\n",
       "\n",
       "\n",
       "<h3>See Also</h3>\n",
       "\n",
       "<p><code>?</code> for shortcuts to help topics.\n",
       "</p>\n",
       "<p><code>help.search()</code> or <code>??</code> for finding help pages\n",
       "on a vague topic;\n",
       "<code>help.start()</code> which opens the HTML version of the <span style=\"font-family: Courier New, Courier; color: #666666;\"><b>R</b></span>\n",
       "help pages;\n",
       "<code>library()</code> for listing available packages and the\n",
       "help objects they contain;\n",
       "<code>data()</code> for listing available data sets;\n",
       "<code>methods()</code>.\n",
       "</p>\n",
       "<p>Use <code>prompt()</code> to get a prototype for writing <code>help</code>\n",
       "pages of your own package.\n",
       "</p>\n",
       "\n",
       "\n",
       "<h3>Examples</h3>\n",
       "\n",
       "<pre>\n",
       "help()\n",
       "help(help)              # the same\n",
       "\n",
       "help(lapply)\n",
       "\n",
       "help(\"for\")             # or ?\"for\", but quotes/backticks are needed\n",
       "\n",
       "try({# requires working TeX installation:\n",
       " help(dgamma, help_type = \"pdf\")\n",
       " ## -&gt; nicely formatted pdf -- including math formula -- for help(dgamma):\n",
       " system2(getOption(\"pdfviewer\"), \"dgamma.pdf\", wait = FALSE)\n",
       "})\n",
       "\n",
       "help(package = \"splines\") # get help even when package is not loaded\n",
       "\n",
       "topi &lt;- \"women\"\n",
       "help(topi)\n",
       "\n",
       "try(help(\"bs\", try.all.packages = FALSE)) # reports not found (an error)\n",
       "help(\"bs\", try.all.packages = TRUE)       # reports can be found\n",
       "                                          # in package 'splines'\n",
       "\n",
       "## For programmatic use:\n",
       "topic &lt;- \"family\"; pkg_ref &lt;- \"stats\"\n",
       "help((topic), (pkg_ref))\n",
       "</pre>\n",
       "\n",
       "<hr /><div style=\"text-align: center;\">[Package <em>utils</em> version 3.6.1 ]</div>"
      ],
      "text/latex": [
       "\\inputencoding{utf8}\n",
       "\\HeaderA{help}{Documentation}{help}\n",
       "\\keyword{documentation}{help}\n",
       "%\n",
       "\\begin{Description}\\relax\n",
       "\\code{help} is the primary interface to the help systems.\n",
       "\\end{Description}\n",
       "%\n",
       "\\begin{Usage}\n",
       "\\begin{verbatim}\n",
       "help(topic, package = NULL, lib.loc = NULL,\n",
       "     verbose = getOption(\"verbose\"),\n",
       "     try.all.packages = getOption(\"help.try.all.packages\"),\n",
       "     help_type = getOption(\"help_type\"))\n",
       "\\end{verbatim}\n",
       "\\end{Usage}\n",
       "%\n",
       "\\begin{Arguments}\n",
       "\\begin{ldescription}\n",
       "\\item[\\code{topic}] usually, a \\LinkA{name}{name} or character string specifying the\n",
       "topic for which help is sought.  A character string (enclosed in\n",
       "explicit single or double quotes) is always taken as naming a topic.\n",
       "\n",
       "If the value of \\code{topic} is a length-one\n",
       "character vector the topic is taken to be the value of the only\n",
       "element.  Otherwise \\code{topic} must be a name or a \\LinkA{reserved}{reserved}\n",
       "word (if syntactically valid) or character string.\n",
       "\n",
       "See `Details' for what happens if this is omitted.\n",
       "\n",
       "\\item[\\code{package}] a name or character vector giving the packages to look\n",
       "into for documentation, or \\code{NULL}.  By default, all packages\n",
       "whose namespaces are loaded are used.  To avoid a name being deparsed use e.g.\n",
       "\\code{(pkg\\_ref)} (see the examples).\n",
       "\\item[\\code{lib.loc}] a character vector of directory names of \\R{} libraries,\n",
       "or \\code{NULL}.  The default value of \\code{NULL} corresponds to all\n",
       "libraries currently known.  If the default is used, the loaded\n",
       "packages are searched before the libraries.  This is not used for\n",
       "HTML help (see `Details').\n",
       "\\item[\\code{verbose}] logical; if \\code{TRUE}, the file name is reported.\n",
       "\\item[\\code{try.all.packages}] logical; see \\code{Note}.\n",
       "\\item[\\code{help\\_type}] character string: the type of help required.\n",
       "Possible values are \\code{\"text\"}, \\code{\"html\"} and \\code{\"pdf\"}.\n",
       "Case is ignored, and partial matching is allowed.\n",
       "\\end{ldescription}\n",
       "\\end{Arguments}\n",
       "%\n",
       "\\begin{Details}\\relax\n",
       "The following types of help are available:\n",
       "\\begin{itemize}\n",
       "\n",
       "\\item{} Plain text help\n",
       "\\item{} HTML help pages with hyperlinks to other topics, shown in a\n",
       "browser by \\code{\\LinkA{browseURL}{browseURL}}.\n",
       "\\\\{}\n",
       "(On Unix-alikes,\n",
       "where possible an existing browser window is re-used: the macOS\n",
       "GUI uses its own browser window.)\n",
       "\n",
       "If for some reason HTML help is unavailable (see\n",
       "\\code{\\LinkA{startDynamicHelp}{startDynamicHelp}}), plain text help will be used\n",
       "instead.\n",
       "\\item{} For \\code{help} only, typeset as PDF --\n",
       "see the section on `Offline help'.\n",
       "\n",
       "\\end{itemize}\n",
       "\n",
       "\\begin{description}\n",
       "\n",
       "\\item[On Unix-alikes:] \n",
       "The `factory-fresh' default is text help except from the macOS\n",
       "GUI, which uses HTML help displayed in its own browser window.\n",
       "\n",
       "\\item[On Windows:] \n",
       "The default for the type of help is selected when \\R{} is installed --\n",
       "the `factory-fresh' default is HTML help.\n",
       "\n",
       "\n",
       "\\end{description}\n",
       "\n",
       "The rendering of text help will use directional quotes in suitable\n",
       "locales (UTF-8 and single-byte Windows locales): sometimes the fonts\n",
       "used do not support these quotes so this can be turned off by setting\n",
       "\\code{\\LinkA{options}{options}(useFancyQuotes = FALSE)}.\n",
       "\n",
       "\\code{topic} is not optional: if it is omitted \\R{} will give\n",
       "\\begin{itemize}\n",
       "\n",
       "\\item{} If a package is specified, (text or, in interactive use only,\n",
       "HTML) information on the package, including hints/links to suitable\n",
       "help topics.\n",
       "\\item{} If \\code{lib.loc} only is specified, a (text) list of available\n",
       "packages.\n",
       "\\item{} Help on \\code{help} itself if none of the first three\n",
       "arguments is specified.\n",
       "\n",
       "\\end{itemize}\n",
       "\n",
       "\n",
       "Some topics need to be quoted (by \\LinkA{backtick}{backtick}s) or given as a\n",
       "character string.  These include those which cannot syntactically\n",
       "appear on their own such as unary and binary operators,\n",
       "\\code{function} and control-flow \\LinkA{reserved}{reserved} words (including\n",
       "\\code{if}, \\code{else} \\code{for}, \\code{in}, \\code{repeat},\n",
       "\\code{while}, \\code{break} and \\code{next}).  The other \\code{reserved}\n",
       "words can be used as if they were names, for example \\code{TRUE},\n",
       "\\code{NA} and \\code{Inf}.\n",
       "\n",
       "If multiple help files matching \\code{topic} are found, in interactive\n",
       "use a menu is presented for the user to choose one: in batch use the\n",
       "first on the search path is used.  (For HTML help the menu will be an\n",
       "HTML page, otherwise a graphical menu if possible if\n",
       "\\code{\\LinkA{getOption}{getOption}(\"menu.graphics\")} is true, the default.)\n",
       "\n",
       "Note that HTML help does not make use of \\code{lib.loc}: it will\n",
       "always look first in the loaded packages and then along\n",
       "\\code{.libPaths()}.\n",
       "\\end{Details}\n",
       "%\n",
       "\\begin{Section}{Offline help}\n",
       "Typeset documentation is produced by running the LaTeX version of the\n",
       "help page through \\command{pdflatex}: this will produce a PDF file.\n",
       "\n",
       "The appearance of the output can be customized through a file\n",
       "\\file{Rhelp.cfg} somewhere in your LaTeX search path: this will be\n",
       "input as a LaTeX style file after \\code{Rd.sty}.  Some\n",
       "\\LinkA{environment variables}{environment variables} are consulted, notably \\env{R\\_PAPERSIZE}\n",
       "(\\emph{via} \\code{getOption(\"papersize\")}) and \\env{R\\_RD4PDF} (see\n",
       "`Making manuals' in the `R Installation and\n",
       "Administration Manual').\n",
       "\n",
       "If there is a function \\code{offline\\_help\\_helper} in the workspace or\n",
       "further down the search path it is used to do the typesetting,\n",
       "otherwise the function of that name in the \\code{utils} namespace (to\n",
       "which the first paragraph applies).  It should accept at least two\n",
       "arguments, the name of the LaTeX file to be typeset and the type\n",
       "(which is nowadays ignored).  It accepts a third argument,\n",
       "\\code{texinputs}, which will give the graphics path when the help\n",
       "document contains figures, and will otherwise not be supplied.\n",
       "\\end{Section}\n",
       "%\n",
       "\\begin{Note}\\relax\n",
       "Unless \\code{lib.loc} is specified explicitly, the loaded packages are\n",
       "searched before those in the specified libraries.  This ensures that\n",
       "if a library is loaded from a library not in the known library trees,\n",
       "then the help from the loaded library is used.  If \\code{lib.loc} is\n",
       "specified explicitly, the loaded packages are \\emph{not} searched.\n",
       "\n",
       "If this search fails and argument \\code{try.all.packages} is\n",
       "\\code{TRUE} and neither \\code{packages} nor \\code{lib.loc} is\n",
       "specified, then all the packages in the known library trees are\n",
       "searched for help on \\code{topic} and a list of (any) packages where\n",
       "help may be found is displayed (with hyperlinks for\n",
       "\\code{help\\_type = \"html\"}).\n",
       "\\strong{NB:} searching all packages can be slow, especially\n",
       "the first time (caching of files by the OS can expedite subsequent\n",
       "searches dramatically).\n",
       "\\end{Note}\n",
       "%\n",
       "\\begin{References}\\relax\n",
       "Becker, R. A., Chambers, J. M. and Wilks, A. R. (1988)\n",
       "\\emph{The New S Language}.\n",
       "Wadsworth \\& Brooks/Cole.\n",
       "\\end{References}\n",
       "%\n",
       "\\begin{SeeAlso}\\relax\n",
       "\\code{\\LinkA{?}{Question}} for shortcuts to help topics.\n",
       "\n",
       "\\code{\\LinkA{help.search}{help.search}()} or \\code{\\LinkA{??}{??}} for finding help pages\n",
       "on a vague topic;\n",
       "\\code{\\LinkA{help.start}{help.start}()} which opens the HTML version of the \\R{}\n",
       "help pages;\n",
       "\\code{\\LinkA{library}{library}()} for listing available packages and the\n",
       "help objects they contain;\n",
       "\\code{\\LinkA{data}{data}()} for listing available data sets;\n",
       "\\code{\\LinkA{methods}{methods}()}.\n",
       "\n",
       "Use \\code{\\LinkA{prompt}{prompt}()} to get a prototype for writing \\code{help}\n",
       "pages of your own package.\n",
       "\\end{SeeAlso}\n",
       "%\n",
       "\\begin{Examples}\n",
       "\\begin{ExampleCode}\n",
       "help()\n",
       "help(help)              # the same\n",
       "\n",
       "help(lapply)\n",
       "\n",
       "help(\"for\")             # or ?\"for\", but quotes/backticks are needed\n",
       "\n",
       "try({# requires working TeX installation:\n",
       " help(dgamma, help_type = \"pdf\")\n",
       " ## -> nicely formatted pdf -- including math formula -- for help(dgamma):\n",
       " system2(getOption(\"pdfviewer\"), \"dgamma.pdf\", wait = FALSE)\n",
       "})\n",
       "\n",
       "help(package = \"splines\") # get help even when package is not loaded\n",
       "\n",
       "topi <- \"women\"\n",
       "help(topi)\n",
       "\n",
       "try(help(\"bs\", try.all.packages = FALSE)) # reports not found (an error)\n",
       "help(\"bs\", try.all.packages = TRUE)       # reports can be found\n",
       "                                          # in package 'splines'\n",
       "\n",
       "## For programmatic use:\n",
       "topic <- \"family\"; pkg_ref <- \"stats\"\n",
       "help((topic), (pkg_ref))\n",
       "\\end{ExampleCode}\n",
       "\\end{Examples}"
      ],
      "text/plain": [
       "help                   package:utils                   R Documentation\n",
       "\n",
       "_\bD_\bo_\bc_\bu_\bm_\be_\bn_\bt_\ba_\bt_\bi_\bo_\bn\n",
       "\n",
       "_\bD_\be_\bs_\bc_\br_\bi_\bp_\bt_\bi_\bo_\bn:\n",
       "\n",
       "     'help' is the primary interface to the help systems.\n",
       "\n",
       "_\bU_\bs_\ba_\bg_\be:\n",
       "\n",
       "     help(topic, package = NULL, lib.loc = NULL,\n",
       "          verbose = getOption(\"verbose\"),\n",
       "          try.all.packages = getOption(\"help.try.all.packages\"),\n",
       "          help_type = getOption(\"help_type\"))\n",
       "     \n",
       "_\bA_\br_\bg_\bu_\bm_\be_\bn_\bt_\bs:\n",
       "\n",
       "   topic: usually, a name or character string specifying the topic for\n",
       "          which help is sought.  A character string (enclosed in\n",
       "          explicit single or double quotes) is always taken as naming a\n",
       "          topic.\n",
       "\n",
       "          If the value of 'topic' is a length-one character vector the\n",
       "          topic is taken to be the value of the only element.\n",
       "          Otherwise 'topic' must be a name or a reserved word (if\n",
       "          syntactically valid) or character string.\n",
       "\n",
       "          See 'Details' for what happens if this is omitted.\n",
       "\n",
       " package: a name or character vector giving the packages to look into\n",
       "          for documentation, or 'NULL'.  By default, all packages whose\n",
       "          namespaces are loaded are used.  To avoid a name being\n",
       "          deparsed use e.g.  '(pkg_ref)' (see the examples).\n",
       "\n",
       " lib.loc: a character vector of directory names of R libraries, or\n",
       "          'NULL'.  The default value of 'NULL' corresponds to all\n",
       "          libraries currently known.  If the default is used, the\n",
       "          loaded packages are searched before the libraries.  This is\n",
       "          not used for HTML help (see 'Details').\n",
       "\n",
       " verbose: logical; if 'TRUE', the file name is reported.\n",
       "\n",
       "try.all.packages: logical; see 'Note'.\n",
       "\n",
       "help_type: character string: the type of help required.  Possible\n",
       "          values are '\"text\"', '\"html\"' and '\"pdf\"'.  Case is ignored,\n",
       "          and partial matching is allowed.\n",
       "\n",
       "_\bD_\be_\bt_\ba_\bi_\bl_\bs:\n",
       "\n",
       "     The following types of help are available:\n",
       "\n",
       "        â€¢ Plain text help\n",
       "\n",
       "        â€¢ HTML help pages with hyperlinks to other topics, shown in a\n",
       "          browser by 'browseURL'.\n",
       "\n",
       "          (On Unix-alikes, where possible an existing browser window is\n",
       "          re-used: the macOS GUI uses its own browser window.)\n",
       "\n",
       "          If for some reason HTML help is unavailable (see\n",
       "          'startDynamicHelp'), plain text help will be used instead.\n",
       "\n",
       "        â€¢ For 'help' only, typeset as PDF - see the section on 'Offline\n",
       "          help'.\n",
       "\n",
       "     On Unix-alikes: The 'factory-fresh' default is text help except\n",
       "          from the macOS GUI, which uses HTML help displayed in its own\n",
       "          browser window.\n",
       "\n",
       "     On Windows: The default for the type of help is selected when R is\n",
       "          installed - the 'factory-fresh' default is HTML help.\n",
       "\n",
       "     The rendering of text help will use directional quotes in suitable\n",
       "     locales (UTF-8 and single-byte Windows locales): sometimes the\n",
       "     fonts used do not support these quotes so this can be turned off\n",
       "     by setting 'options(useFancyQuotes = FALSE)'.\n",
       "\n",
       "     'topic' is not optional: if it is omitted R will give\n",
       "\n",
       "        â€¢ If a package is specified, (text or, in interactive use only,\n",
       "          HTML) information on the package, including hints/links to\n",
       "          suitable help topics.\n",
       "\n",
       "        â€¢ If 'lib.loc' only is specified, a (text) list of available\n",
       "          packages.\n",
       "\n",
       "        â€¢ Help on 'help' itself if none of the first three arguments is\n",
       "          specified.\n",
       "\n",
       "     Some topics need to be quoted (by backticks) or given as a\n",
       "     character string.  These include those which cannot syntactically\n",
       "     appear on their own such as unary and binary operators, 'function'\n",
       "     and control-flow reserved words (including 'if', 'else' 'for',\n",
       "     'in', 'repeat', 'while', 'break' and 'next').  The other\n",
       "     'reserved' words can be used as if they were names, for example\n",
       "     'TRUE', 'NA' and 'Inf'.\n",
       "\n",
       "     If multiple help files matching 'topic' are found, in interactive\n",
       "     use a menu is presented for the user to choose one: in batch use\n",
       "     the first on the search path is used.  (For HTML help the menu\n",
       "     will be an HTML page, otherwise a graphical menu if possible if\n",
       "     'getOption(\"menu.graphics\")' is true, the default.)\n",
       "\n",
       "     Note that HTML help does not make use of 'lib.loc': it will always\n",
       "     look first in the loaded packages and then along '.libPaths()'.\n",
       "\n",
       "_\bO_\bf_\bf_\bl_\bi_\bn_\be _\bh_\be_\bl_\bp:\n",
       "\n",
       "     Typeset documentation is produced by running the LaTeX version of\n",
       "     the help page through 'pdflatex': this will produce a PDF file.\n",
       "\n",
       "     The appearance of the output can be customized through a file\n",
       "     'Rhelp.cfg' somewhere in your LaTeX search path: this will be\n",
       "     input as a LaTeX style file after 'Rd.sty'.  Some environment\n",
       "     variables are consulted, notably 'R_PAPERSIZE' (_via_\n",
       "     'getOption(\"papersize\")') and 'R_RD4PDF' (see 'Making manuals' in\n",
       "     the 'R Installation and Administration Manual').\n",
       "\n",
       "     If there is a function 'offline_help_helper' in the workspace or\n",
       "     further down the search path it is used to do the typesetting,\n",
       "     otherwise the function of that name in the 'utils' namespace (to\n",
       "     which the first paragraph applies).  It should accept at least two\n",
       "     arguments, the name of the LaTeX file to be typeset and the type\n",
       "     (which is nowadays ignored).  It accepts a third argument,\n",
       "     'texinputs', which will give the graphics path when the help\n",
       "     document contains figures, and will otherwise not be supplied.\n",
       "\n",
       "_\bN_\bo_\bt_\be:\n",
       "\n",
       "     Unless 'lib.loc' is specified explicitly, the loaded packages are\n",
       "     searched before those in the specified libraries.  This ensures\n",
       "     that if a library is loaded from a library not in the known\n",
       "     library trees, then the help from the loaded library is used.  If\n",
       "     'lib.loc' is specified explicitly, the loaded packages are _not_\n",
       "     searched.\n",
       "\n",
       "     If this search fails and argument 'try.all.packages' is 'TRUE' and\n",
       "     neither 'packages' nor 'lib.loc' is specified, then all the\n",
       "     packages in the known library trees are searched for help on\n",
       "     'topic' and a list of (any) packages where help may be found is\n",
       "     displayed (with hyperlinks for 'help_type = \"html\"').  *NB:*\n",
       "     searching all packages can be slow, especially the first time\n",
       "     (caching of files by the OS can expedite subsequent searches\n",
       "     dramatically).\n",
       "\n",
       "_\bR_\be_\bf_\be_\br_\be_\bn_\bc_\be_\bs:\n",
       "\n",
       "     Becker, R. A., Chambers, J. M. and Wilks, A. R. (1988) _The New S\n",
       "     Language_.  Wadsworth & Brooks/Cole.\n",
       "\n",
       "_\bS_\be_\be _\bA_\bl_\bs_\bo:\n",
       "\n",
       "     '?' for shortcuts to help topics.\n",
       "\n",
       "     'help.search()' or '??' for finding help pages on a vague topic;\n",
       "     'help.start()' which opens the HTML version of the R help pages;\n",
       "     'library()' for listing available packages and the help objects\n",
       "     they contain; 'data()' for listing available data sets;\n",
       "     'methods()'.\n",
       "\n",
       "     Use 'prompt()' to get a prototype for writing 'help' pages of your\n",
       "     own package.\n",
       "\n",
       "_\bE_\bx_\ba_\bm_\bp_\bl_\be_\bs:\n",
       "\n",
       "     help()\n",
       "     help(help)              # the same\n",
       "     \n",
       "     help(lapply)\n",
       "     \n",
       "     help(\"for\")             # or ?\"for\", but quotes/backticks are needed\n",
       "     \n",
       "     try({# requires working TeX installation:\n",
       "      help(dgamma, help_type = \"pdf\")\n",
       "      ## -> nicely formatted pdf -- including math formula -- for help(dgamma):\n",
       "      system2(getOption(\"pdfviewer\"), \"dgamma.pdf\", wait = FALSE)\n",
       "     })\n",
       "     \n",
       "     help(package = \"splines\") # get help even when package is not loaded\n",
       "     \n",
       "     topi <- \"women\"\n",
       "     help(topi)\n",
       "     \n",
       "     try(help(\"bs\", try.all.packages = FALSE)) # reports not found (an error)\n",
       "     help(\"bs\", try.all.packages = TRUE)       # reports can be found\n",
       "                                               # in package 'splines'\n",
       "     \n",
       "     ## For programmatic use:\n",
       "     topic <- \"family\"; pkg_ref <- \"stats\"\n",
       "     help((topic), (pkg_ref))\n",
       "     "
      ]
     },
     "metadata": {},
     "output_type": "display_data"
    }
   ],
   "source": [
    "help()"
   ]
  },
  {
   "cell_type": "code",
   "execution_count": 381,
   "id": "cd3b8d0f-233f-4469-a390-2c8823da0928",
   "metadata": {},
   "outputs": [
    {
     "data": {
      "text/html": [
       "\n",
       "<table width=\"100%\" summary=\"page for msleep {ggplot2}\"><tr><td>msleep {ggplot2}</td><td style=\"text-align: right;\">R Documentation</td></tr></table>\n",
       "\n",
       "<h2>An updated and expanded version of the mammals sleep dataset</h2>\n",
       "\n",
       "<h3>Description</h3>\n",
       "\n",
       "<p>This is an updated and expanded version of the mammals sleep dataset.\n",
       "Updated sleep times and weights were taken from V. M. Savage and G. B.\n",
       "West. A quantitative, theoretical framework for understanding mammalian\n",
       "sleep. Proceedings of the National Academy of Sciences, 104 (3):1051-1056,\n",
       "2007.\n",
       "</p>\n",
       "\n",
       "\n",
       "<h3>Usage</h3>\n",
       "\n",
       "<pre>\n",
       "msleep\n",
       "</pre>\n",
       "\n",
       "\n",
       "<h3>Format</h3>\n",
       "\n",
       "<p>A data frame with 83 rows and 11 variables:\n",
       "</p>\n",
       "\n",
       "<dl>\n",
       "<dt>name</dt><dd><p>common name</p>\n",
       "</dd>\n",
       "<dt>genus</dt><dd></dd>\n",
       "<dt>vore</dt><dd><p>carnivore, omnivore or herbivore?</p>\n",
       "</dd>\n",
       "<dt>order</dt><dd></dd>\n",
       "<dt>conservation</dt><dd><p>the conservation status of the animal</p>\n",
       "</dd>\n",
       "<dt>sleep_total</dt><dd><p>total amount of sleep, in hours</p>\n",
       "</dd>\n",
       "<dt>sleep_rem</dt><dd><p>rem sleep, in hours</p>\n",
       "</dd>\n",
       "<dt>sleep_cycle</dt><dd><p>length of sleep cycle, in hours</p>\n",
       "</dd>\n",
       "<dt>awake</dt><dd><p>amount of time spent awake, in hours</p>\n",
       "</dd>\n",
       "<dt>brainwt</dt><dd><p>brain weight in kilograms</p>\n",
       "</dd>\n",
       "<dt>bodywt</dt><dd><p>body weight in kilograms</p>\n",
       "</dd>\n",
       "</dl>\n",
       "\n",
       "\n",
       "\n",
       "<h3>Details</h3>\n",
       "\n",
       "<p>Additional variables order, conservation status and vore were added from\n",
       "wikipedia.\n",
       "</p>\n",
       "\n",
       "<hr /><div style=\"text-align: center;\">[Package <em>ggplot2</em> version 3.3.3 ]</div>"
      ],
      "text/latex": [
       "\\inputencoding{utf8}\n",
       "\\HeaderA{msleep}{An updated and expanded version of the mammals sleep dataset}{msleep}\n",
       "\\keyword{datasets}{msleep}\n",
       "%\n",
       "\\begin{Description}\\relax\n",
       "This is an updated and expanded version of the mammals sleep dataset.\n",
       "Updated sleep times and weights were taken from V. M. Savage and G. B.\n",
       "West. A quantitative, theoretical framework for understanding mammalian\n",
       "sleep. Proceedings of the National Academy of Sciences, 104 (3):1051-1056,\n",
       "2007.\n",
       "\\end{Description}\n",
       "%\n",
       "\\begin{Usage}\n",
       "\\begin{verbatim}\n",
       "msleep\n",
       "\\end{verbatim}\n",
       "\\end{Usage}\n",
       "%\n",
       "\\begin{Format}\n",
       "A data frame with 83 rows and 11 variables:\n",
       "\\begin{description}\n",
       "\n",
       "\\item[name] common name\n",
       "\\item[genus] \n",
       "\\item[vore] carnivore, omnivore or herbivore?\n",
       "\\item[order] \n",
       "\\item[conservation] the conservation status of the animal\n",
       "\\item[sleep\\_total] total amount of sleep, in hours\n",
       "\\item[sleep\\_rem] rem sleep, in hours\n",
       "\\item[sleep\\_cycle] length of sleep cycle, in hours\n",
       "\\item[awake] amount of time spent awake, in hours\n",
       "\\item[brainwt] brain weight in kilograms\n",
       "\\item[bodywt] body weight in kilograms\n",
       "\n",
       "\\end{description}\n",
       "\n",
       "\\end{Format}\n",
       "%\n",
       "\\begin{Details}\\relax\n",
       "Additional variables order, conservation status and vore were added from\n",
       "wikipedia.\n",
       "\\end{Details}"
      ],
      "text/plain": [
       "msleep                 package:ggplot2                 R Documentation\n",
       "\n",
       "_\bA_\bn _\bu_\bp_\bd_\ba_\bt_\be_\bd _\ba_\bn_\bd _\be_\bx_\bp_\ba_\bn_\bd_\be_\bd _\bv_\be_\br_\bs_\bi_\bo_\bn _\bo_\bf _\bt_\bh_\be _\bm_\ba_\bm_\bm_\ba_\bl_\bs _\bs_\bl_\be_\be_\bp _\bd_\ba_\bt_\ba_\bs_\be_\bt\n",
       "\n",
       "_\bD_\be_\bs_\bc_\br_\bi_\bp_\bt_\bi_\bo_\bn:\n",
       "\n",
       "     This is an updated and expanded version of the mammals sleep\n",
       "     dataset. Updated sleep times and weights were taken from V. M.\n",
       "     Savage and G. B. West. A quantitative, theoretical framework for\n",
       "     understanding mammalian sleep. Proceedings of the National Academy\n",
       "     of Sciences, 104 (3):1051-1056, 2007.\n",
       "\n",
       "_\bU_\bs_\ba_\bg_\be:\n",
       "\n",
       "     msleep\n",
       "     \n",
       "_\bF_\bo_\br_\bm_\ba_\bt:\n",
       "\n",
       "     A data frame with 83 rows and 11 variables:\n",
       "\n",
       "     name common name\n",
       "\n",
       "     genus\n",
       "\n",
       "     vore carnivore, omnivore or herbivore?\n",
       "\n",
       "     order\n",
       "\n",
       "     conservation the conservation status of the animal\n",
       "\n",
       "     sleep_total total amount of sleep, in hours\n",
       "\n",
       "     sleep_rem rem sleep, in hours\n",
       "\n",
       "     sleep_cycle length of sleep cycle, in hours\n",
       "\n",
       "     awake amount of time spent awake, in hours\n",
       "\n",
       "     brainwt brain weight in kilograms\n",
       "\n",
       "     bodywt body weight in kilograms\n",
       "\n",
       "_\bD_\be_\bt_\ba_\bi_\bl_\bs:\n",
       "\n",
       "     Additional variables order, conservation status and vore were\n",
       "     added from wikipedia.\n"
      ]
     },
     "metadata": {},
     "output_type": "display_data"
    }
   ],
   "source": [
    "? msleep"
   ]
  },
  {
   "cell_type": "code",
   "execution_count": 382,
   "id": "6ce82c25-4665-4020-a575-993c84228697",
   "metadata": {},
   "outputs": [
    {
     "data": {
      "text/html": [
       "\n",
       "<table width=\"100%\" summary=\"page for seq {base}\"><tr><td>seq {base}</td><td style=\"text-align: right;\">R Documentation</td></tr></table>\n",
       "\n",
       "<h2>Sequence Generation</h2>\n",
       "\n",
       "<h3>Description</h3>\n",
       "\n",
       "<p>Generate regular sequences.  <code>seq</code> is a standard generic with a\n",
       "default method.  <code>seq.int</code> is a primitive which can be\n",
       "much faster but has a few restrictions.  <code>seq_along</code> and\n",
       "<code>seq_len</code> are very fast primitives for two common cases.\n",
       "</p>\n",
       "\n",
       "\n",
       "<h3>Usage</h3>\n",
       "\n",
       "<pre>\n",
       "seq(...)\n",
       "\n",
       "## Default S3 method:\n",
       "seq(from = 1, to = 1, by = ((to - from)/(length.out - 1)),\n",
       "    length.out = NULL, along.with = NULL, ...)\n",
       "\n",
       "seq.int(from, to, by, length.out, along.with, ...)\n",
       "\n",
       "seq_along(along.with)\n",
       "seq_len(length.out)\n",
       "</pre>\n",
       "\n",
       "\n",
       "<h3>Arguments</h3>\n",
       "\n",
       "<table summary=\"R argblock\">\n",
       "<tr valign=\"top\"><td><code>...</code></td>\n",
       "<td>\n",
       "<p>arguments passed to or from methods.</p>\n",
       "</td></tr>\n",
       "<tr valign=\"top\"><td><code>from, to</code></td>\n",
       "<td>\n",
       "<p>the starting and (maximal) end values of the\n",
       "sequence.  Of length <code>1</code> unless just <code>from</code> is supplied as\n",
       "an unnamed argument.</p>\n",
       "</td></tr>\n",
       "<tr valign=\"top\"><td><code>by</code></td>\n",
       "<td>\n",
       "<p>number: increment of the sequence.</p>\n",
       "</td></tr>\n",
       "<tr valign=\"top\"><td><code>length.out</code></td>\n",
       "<td>\n",
       "<p>desired length of the sequence.  A\n",
       "non-negative number, which for <code>seq</code> and <code>seq.int</code> will be\n",
       "rounded up if fractional.</p>\n",
       "</td></tr>\n",
       "<tr valign=\"top\"><td><code>along.with</code></td>\n",
       "<td>\n",
       "<p>take the length from the length of this argument.</p>\n",
       "</td></tr>\n",
       "</table>\n",
       "\n",
       "\n",
       "<h3>Details</h3>\n",
       "\n",
       "<p>Numerical inputs should all be finite (that is, not infinite,\n",
       "<code>NaN</code> or <code>NA</code>).\n",
       "</p>\n",
       "<p>The interpretation of the unnamed arguments of <code>seq</code> and\n",
       "<code>seq.int</code> is <em>not</em> standard, and it is recommended always to\n",
       "name the arguments when programming.\n",
       "</p>\n",
       "<p><code>seq</code> is  generic, and only the default method is described here.\n",
       "Note that it dispatches on the class of the <strong>first</strong> argument\n",
       "irrespective of argument names.  This can have unintended consequences\n",
       "if it is called with just one argument intending this to be taken as\n",
       "<code>along.with</code>: it is much better to use <code>seq_along</code> in that\n",
       "case.\n",
       "</p>\n",
       "<p><code>seq.int</code> is an internal generic which dispatches on\n",
       "methods for <code>\"seq\"</code> based on the class of the first supplied\n",
       "argument (before argument matching).\n",
       "</p>\n",
       "<p>Typical usages are\n",
       "</p>\n",
       "<pre>seq(from, to)\n",
       "seq(from, to, by= )\n",
       "seq(from, to, length.out= )\n",
       "seq(along.with= )\n",
       "seq(from)\n",
       "seq(length.out= )\n",
       "</pre>\n",
       "<p>The first form generates the sequence <code>from, from+/-1, ..., to</code>\n",
       "(identical to <code>from:to</code>).\n",
       "</p>\n",
       "<p>The second form generates <code>from, from+by</code>, ..., up to the\n",
       "sequence value less than or equal to <code>to</code>.  Specifying <code>to -\n",
       "  from</code> and <code>by</code> of opposite signs is an error.  Note that the\n",
       "computed final value can go just beyond <code>to</code> to allow for\n",
       "rounding error, but is truncated to <code>to</code>.  (&lsquo;Just beyond&rsquo;\n",
       "is by up to <i>1e-10</i> times <code>abs(from - to)</code>.)\n",
       "</p>\n",
       "<p>The third generates a sequence of <code>length.out</code> equally spaced\n",
       "values from <code>from</code> to <code>to</code>.  (<code>length.out</code> is usually\n",
       "abbreviated to <code>length</code> or <code>len</code>, and <code>seq_len</code> is much\n",
       "faster.)\n",
       "</p>\n",
       "<p>The fourth form generates the integer sequence <code>1, 2, ...,\n",
       "    length(along.with)</code>.  (<code>along.with</code> is usually abbreviated to\n",
       "<code>along</code>, and <code>seq_along</code> is much faster.)\n",
       "</p>\n",
       "<p>The fifth form generates the sequence <code>1, 2, ..., length(from)</code>\n",
       "(as if argument <code>along.with</code> had been specified), <em>unless</em>\n",
       "the argument is numeric of length 1 when it is interpreted as\n",
       "<code>1:from</code> (even for <code>seq(0)</code> for compatibility with S).\n",
       "Using either <code>seq_along</code> or <code>seq_len</code> is much preferred\n",
       "(unless strict S compatibility is essential).\n",
       "</p>\n",
       "<p>The final form generates the integer sequence <code>1, 2, ...,\n",
       "  length.out</code> unless <code>length.out = 0</code>, when it generates\n",
       "<code>integer(0)</code>.\n",
       "</p>\n",
       "<p>Very small sequences (with <code>from - to</code> of the order of <i>10^{-14}</i>\n",
       "times the larger of the ends) will return <code>from</code>.\n",
       "</p>\n",
       "<p>For <code>seq</code> (only), up to two of <code>from</code>, <code>to</code> and\n",
       "<code>by</code> can be supplied as complex values provided <code>length.out</code>\n",
       "or <code>along.with</code> is specified.  More generally, the default method\n",
       "of <code>seq</code> will handle classed objects with methods for\n",
       "the <code>Math</code>, <code>Ops</code> and <code>Summary</code> group generics.\n",
       "</p>\n",
       "<p><code>seq.int</code>, <code>seq_along</code> and <code>seq_len</code> are\n",
       "primitive.\n",
       "</p>\n",
       "\n",
       "\n",
       "<h3>Value</h3>\n",
       "\n",
       "<p><code>seq.int</code> and the default method of <code>seq</code> for numeric\n",
       "arguments return a vector of type <code>\"integer\"</code> or <code>\"double\"</code>:\n",
       "programmers should not rely on which.\n",
       "</p>\n",
       "<p><code>seq_along</code> and <code>seq_len</code> return an integer vector, unless\n",
       "it is a <em>long vector</em> when it will be double.\n",
       "</p>\n",
       "\n",
       "\n",
       "<h3>References</h3>\n",
       "\n",
       "<p>Becker, R. A., Chambers, J. M. and Wilks, A. R. (1988)\n",
       "<em>The New S Language</em>.\n",
       "Wadsworth &amp; Brooks/Cole.\n",
       "</p>\n",
       "\n",
       "\n",
       "<h3>See Also</h3>\n",
       "\n",
       "<p>The methods <code>seq.Date</code> and <code>seq.POSIXt</code>.\n",
       "</p>\n",
       "<p><code>:</code>,\n",
       "<code>rep</code>,\n",
       "<code>sequence</code>,\n",
       "<code>row</code>,\n",
       "<code>col</code>.\n",
       "</p>\n",
       "\n",
       "\n",
       "<h3>Examples</h3>\n",
       "\n",
       "<pre>\n",
       "seq(0, 1, length.out = 11)\n",
       "seq(stats::rnorm(20)) # effectively 'along'\n",
       "seq(1, 9, by = 2)     # matches 'end'\n",
       "seq(1, 9, by = pi)    # stays below 'end'\n",
       "seq(1, 6, by = 3)\n",
       "seq(1.575, 5.125, by = 0.05)\n",
       "seq(17) # same as 1:17, or even better seq_len(17)\n",
       "</pre>\n",
       "\n",
       "<hr /><div style=\"text-align: center;\">[Package <em>base</em> version 3.6.1 ]</div>"
      ],
      "text/latex": [
       "\\inputencoding{utf8}\n",
       "\\HeaderA{seq}{Sequence Generation}{seq}\n",
       "\\methaliasA{seq.default}{seq}{seq.default}\n",
       "\\methaliasA{seq.int}{seq}{seq.int}\n",
       "\\aliasA{seq\\_along}{seq}{seq.Rul.along}\n",
       "\\aliasA{seq\\_len}{seq}{seq.Rul.len}\n",
       "\\keyword{manip}{seq}\n",
       "%\n",
       "\\begin{Description}\\relax\n",
       "Generate regular sequences.  \\code{seq} is a standard generic with a\n",
       "default method.  \\code{seq.int} is a primitive which can be\n",
       "much faster but has a few restrictions.  \\code{seq\\_along} and\n",
       "\\code{seq\\_len} are very fast primitives for two common cases.\n",
       "\\end{Description}\n",
       "%\n",
       "\\begin{Usage}\n",
       "\\begin{verbatim}\n",
       "seq(...)\n",
       "\n",
       "## Default S3 method:\n",
       "seq(from = 1, to = 1, by = ((to - from)/(length.out - 1)),\n",
       "    length.out = NULL, along.with = NULL, ...)\n",
       "\n",
       "seq.int(from, to, by, length.out, along.with, ...)\n",
       "\n",
       "seq_along(along.with)\n",
       "seq_len(length.out)\n",
       "\\end{verbatim}\n",
       "\\end{Usage}\n",
       "%\n",
       "\\begin{Arguments}\n",
       "\\begin{ldescription}\n",
       "\\item[\\code{...}] arguments passed to or from methods.\n",
       "\\item[\\code{from, to}] the starting and (maximal) end values of the\n",
       "sequence.  Of length \\code{1} unless just \\code{from} is supplied as\n",
       "an unnamed argument.\n",
       "\\item[\\code{by}] number: increment of the sequence.\n",
       "\\item[\\code{length.out}] desired length of the sequence.  A\n",
       "non-negative number, which for \\code{seq} and \\code{seq.int} will be\n",
       "rounded up if fractional.\n",
       "\\item[\\code{along.with}] take the length from the length of this argument.\n",
       "\\end{ldescription}\n",
       "\\end{Arguments}\n",
       "%\n",
       "\\begin{Details}\\relax\n",
       "Numerical inputs should all be \\LinkA{finite}{finite} (that is, not infinite,\n",
       "\\code{\\LinkA{NaN}{NaN}} or \\code{NA}).\n",
       "\n",
       "The interpretation of the unnamed arguments of \\code{seq} and\n",
       "\\code{seq.int} is \\emph{not} standard, and it is recommended always to\n",
       "name the arguments when programming.\n",
       "\n",
       "\\code{seq} is  generic, and only the default method is described here.\n",
       "Note that it dispatches on the class of the \\strong{first} argument\n",
       "irrespective of argument names.  This can have unintended consequences\n",
       "if it is called with just one argument intending this to be taken as\n",
       "\\code{along.with}: it is much better to use \\code{seq\\_along} in that\n",
       "case.\n",
       "\n",
       "\\code{seq.int} is an \\LinkA{internal generic}{internal generic} which dispatches on\n",
       "methods for \\code{\"seq\"} based on the class of the first supplied\n",
       "argument (before argument matching).\n",
       "\n",
       "Typical usages are\n",
       "\\begin{alltt}seq(from, to)\n",
       "seq(from, to, by= )\n",
       "seq(from, to, length.out= )\n",
       "seq(along.with= )\n",
       "seq(from)\n",
       "seq(length.out= )\n",
       "\\end{alltt}\n",
       "\n",
       "The first form generates the sequence \\code{from, from+/-1, ..., to}\n",
       "(identical to \\code{from:to}).\n",
       "\n",
       "The second form generates \\code{from, from+by}, \\ldots, up to the\n",
       "sequence value less than or equal to \\code{to}.  Specifying \\code{to -\n",
       "  from} and \\code{by} of opposite signs is an error.  Note that the\n",
       "computed final value can go just beyond \\code{to} to allow for\n",
       "rounding error, but is truncated to \\code{to}.  (`Just beyond'\n",
       "is by up to \\eqn{10^{-10}}{} times \\code{abs(from - to)}.)\n",
       "\n",
       "The third generates a sequence of \\code{length.out} equally spaced\n",
       "values from \\code{from} to \\code{to}.  (\\code{length.out} is usually\n",
       "abbreviated to \\code{length} or \\code{len}, and \\code{seq\\_len} is much\n",
       "faster.)\n",
       "\n",
       "The fourth form generates the integer sequence \\code{1, 2, ...,\n",
       "    length(along.with)}.  (\\code{along.with} is usually abbreviated to\n",
       "\\code{along}, and \\code{seq\\_along} is much faster.)\n",
       "\n",
       "The fifth form generates the sequence \\code{1, 2, ..., length(from)}\n",
       "(as if argument \\code{along.with} had been specified), \\emph{unless}\n",
       "the argument is numeric of length 1 when it is interpreted as\n",
       "\\code{1:from} (even for \\code{seq(0)} for compatibility with S).\n",
       "Using either \\code{seq\\_along} or \\code{seq\\_len} is much preferred\n",
       "(unless strict S compatibility is essential).\n",
       "\n",
       "The final form generates the integer sequence \\code{1, 2, ...,\n",
       "  length.out} unless \\code{length.out = 0}, when it generates\n",
       "\\code{integer(0)}.\n",
       "\n",
       "Very small sequences (with \\code{from - to} of the order of \\eqn{10^{-14}}{}\n",
       "times the larger of the ends) will return \\code{from}.\n",
       "\n",
       "For \\code{seq} (only), up to two of \\code{from}, \\code{to} and\n",
       "\\code{by} can be supplied as complex values provided \\code{length.out}\n",
       "or \\code{along.with} is specified.  More generally, the default method\n",
       "of \\code{seq} will handle classed objects with methods for\n",
       "the \\code{Math}, \\code{Ops} and \\code{Summary} group generics.\n",
       "\n",
       "\\code{seq.int}, \\code{seq\\_along} and \\code{seq\\_len} are\n",
       "\\LinkA{primitive}{primitive}.\n",
       "\\end{Details}\n",
       "%\n",
       "\\begin{Value}\n",
       "\\code{seq.int} and the default method of \\code{seq} for numeric\n",
       "arguments return a vector of type \\code{\"integer\"} or \\code{\"double\"}:\n",
       "programmers should not rely on which.\n",
       "\n",
       "\\code{seq\\_along} and \\code{seq\\_len} return an integer vector, unless\n",
       "it is a \\emph{long vector} when it will be double.\n",
       "\\end{Value}\n",
       "%\n",
       "\\begin{References}\\relax\n",
       "Becker, R. A., Chambers, J. M. and Wilks, A. R. (1988)\n",
       "\\emph{The New S Language}.\n",
       "Wadsworth \\& Brooks/Cole.\n",
       "\\end{References}\n",
       "%\n",
       "\\begin{SeeAlso}\\relax\n",
       "The methods \\code{\\LinkA{seq.Date}{seq.Date}} and \\code{\\LinkA{seq.POSIXt}{seq.POSIXt}}.\n",
       "\n",
       "\\code{\\LinkA{:}{:}},\n",
       "\\code{\\LinkA{rep}{rep}},\n",
       "\\code{\\LinkA{sequence}{sequence}},\n",
       "\\code{\\LinkA{row}{row}},\n",
       "\\code{\\LinkA{col}{col}}.\n",
       "\\end{SeeAlso}\n",
       "%\n",
       "\\begin{Examples}\n",
       "\\begin{ExampleCode}\n",
       "seq(0, 1, length.out = 11)\n",
       "seq(stats::rnorm(20)) # effectively 'along'\n",
       "seq(1, 9, by = 2)     # matches 'end'\n",
       "seq(1, 9, by = pi)    # stays below 'end'\n",
       "seq(1, 6, by = 3)\n",
       "seq(1.575, 5.125, by = 0.05)\n",
       "seq(17) # same as 1:17, or even better seq_len(17)\n",
       "\\end{ExampleCode}\n",
       "\\end{Examples}"
      ],
      "text/plain": [
       "seq                    package:base                    R Documentation\n",
       "\n",
       "_\bS_\be_\bq_\bu_\be_\bn_\bc_\be _\bG_\be_\bn_\be_\br_\ba_\bt_\bi_\bo_\bn\n",
       "\n",
       "_\bD_\be_\bs_\bc_\br_\bi_\bp_\bt_\bi_\bo_\bn:\n",
       "\n",
       "     Generate regular sequences.  'seq' is a standard generic with a\n",
       "     default method.  'seq.int' is a primitive which can be much faster\n",
       "     but has a few restrictions.  'seq_along' and 'seq_len' are very\n",
       "     fast primitives for two common cases.\n",
       "\n",
       "_\bU_\bs_\ba_\bg_\be:\n",
       "\n",
       "     seq(...)\n",
       "     \n",
       "     ## Default S3 method:\n",
       "     seq(from = 1, to = 1, by = ((to - from)/(length.out - 1)),\n",
       "         length.out = NULL, along.with = NULL, ...)\n",
       "     \n",
       "     seq.int(from, to, by, length.out, along.with, ...)\n",
       "     \n",
       "     seq_along(along.with)\n",
       "     seq_len(length.out)\n",
       "     \n",
       "_\bA_\br_\bg_\bu_\bm_\be_\bn_\bt_\bs:\n",
       "\n",
       "     ...: arguments passed to or from methods.\n",
       "\n",
       "from, to: the starting and (maximal) end values of the sequence.  Of\n",
       "          length '1' unless just 'from' is supplied as an unnamed\n",
       "          argument.\n",
       "\n",
       "      by: number: increment of the sequence.\n",
       "\n",
       "length.out: desired length of the sequence.  A non-negative number,\n",
       "          which for 'seq' and 'seq.int' will be rounded up if\n",
       "          fractional.\n",
       "\n",
       "along.with: take the length from the length of this argument.\n",
       "\n",
       "_\bD_\be_\bt_\ba_\bi_\bl_\bs:\n",
       "\n",
       "     Numerical inputs should all be finite (that is, not infinite,\n",
       "     'NaN' or 'NA').\n",
       "\n",
       "     The interpretation of the unnamed arguments of 'seq' and 'seq.int'\n",
       "     is _not_ standard, and it is recommended always to name the\n",
       "     arguments when programming.\n",
       "\n",
       "     'seq' is generic, and only the default method is described here.\n",
       "     Note that it dispatches on the class of the *first* argument\n",
       "     irrespective of argument names.  This can have unintended\n",
       "     consequences if it is called with just one argument intending this\n",
       "     to be taken as 'along.with': it is much better to use 'seq_along'\n",
       "     in that case.\n",
       "\n",
       "     'seq.int' is an internal generic which dispatches on methods for\n",
       "     '\"seq\"' based on the class of the first supplied argument (before\n",
       "     argument matching).\n",
       "\n",
       "     Typical usages are\n",
       "     \n",
       "     seq(from, to)\n",
       "     seq(from, to, by= )\n",
       "     seq(from, to, length.out= )\n",
       "     seq(along.with= )\n",
       "     seq(from)\n",
       "     seq(length.out= )\n",
       "\n",
       "     The first form generates the sequence 'from, from+/-1, ..., to'\n",
       "     (identical to 'from:to').\n",
       "\n",
       "     The second form generates 'from, from+by', ..., up to the sequence\n",
       "     value less than or equal to 'to'.  Specifying 'to - from' and 'by'\n",
       "     of opposite signs is an error.  Note that the computed final value\n",
       "     can go just beyond 'to' to allow for rounding error, but is\n",
       "     truncated to 'to'.  ('Just beyond' is by up to 1e-10 times\n",
       "     'abs(from - to)'.)\n",
       "\n",
       "     The third generates a sequence of 'length.out' equally spaced\n",
       "     values from 'from' to 'to'.  ('length.out' is usually abbreviated\n",
       "     to 'length' or 'len', and 'seq_len' is much faster.)\n",
       "\n",
       "     The fourth form generates the integer sequence '1, 2, ...,\n",
       "     length(along.with)'.  ('along.with' is usually abbreviated to\n",
       "     'along', and 'seq_along' is much faster.)\n",
       "\n",
       "     The fifth form generates the sequence '1, 2, ..., length(from)'\n",
       "     (as if argument 'along.with' had been specified), _unless_ the\n",
       "     argument is numeric of length 1 when it is interpreted as '1:from'\n",
       "     (even for 'seq(0)' for compatibility with S).  Using either\n",
       "     'seq_along' or 'seq_len' is much preferred (unless strict S\n",
       "     compatibility is essential).\n",
       "\n",
       "     The final form generates the integer sequence '1, 2, ...,\n",
       "     length.out' unless 'length.out = 0', when it generates\n",
       "     'integer(0)'.\n",
       "\n",
       "     Very small sequences (with 'from - to' of the order of 10^{-14}\n",
       "     times the larger of the ends) will return 'from'.\n",
       "\n",
       "     For 'seq' (only), up to two of 'from', 'to' and 'by' can be\n",
       "     supplied as complex values provided 'length.out' or 'along.with'\n",
       "     is specified.  More generally, the default method of 'seq' will\n",
       "     handle classed objects with methods for the 'Math', 'Ops' and\n",
       "     'Summary' group generics.\n",
       "\n",
       "     'seq.int', 'seq_along' and 'seq_len' are primitive.\n",
       "\n",
       "_\bV_\ba_\bl_\bu_\be:\n",
       "\n",
       "     'seq.int' and the default method of 'seq' for numeric arguments\n",
       "     return a vector of type '\"integer\"' or '\"double\"': programmers\n",
       "     should not rely on which.\n",
       "\n",
       "     'seq_along' and 'seq_len' return an integer vector, unless it is a\n",
       "     _long vector_ when it will be double.\n",
       "\n",
       "_\bR_\be_\bf_\be_\br_\be_\bn_\bc_\be_\bs:\n",
       "\n",
       "     Becker, R. A., Chambers, J. M. and Wilks, A. R. (1988) _The New S\n",
       "     Language_.  Wadsworth & Brooks/Cole.\n",
       "\n",
       "_\bS_\be_\be _\bA_\bl_\bs_\bo:\n",
       "\n",
       "     The methods 'seq.Date' and 'seq.POSIXt'.\n",
       "\n",
       "     ':', 'rep', 'sequence', 'row', 'col'.\n",
       "\n",
       "_\bE_\bx_\ba_\bm_\bp_\bl_\be_\bs:\n",
       "\n",
       "     seq(0, 1, length.out = 11)\n",
       "     seq(stats::rnorm(20)) # effectively 'along'\n",
       "     seq(1, 9, by = 2)     # matches 'end'\n",
       "     seq(1, 9, by = pi)    # stays below 'end'\n",
       "     seq(1, 6, by = 3)\n",
       "     seq(1.575, 5.125, by = 0.05)\n",
       "     seq(17) # same as 1:17, or even better seq_len(17)\n",
       "     "
      ]
     },
     "metadata": {},
     "output_type": "display_data"
    }
   ],
   "source": [
    "?seq"
   ]
  },
  {
   "cell_type": "code",
   "execution_count": 383,
   "id": "3b16ffc2-9cef-4da4-9e17-5f73c084fc48",
   "metadata": {},
   "outputs": [
    {
     "data": {
      "text/html": [
       "\n",
       "<table width=\"100%\" summary=\"page for mean {base}\"><tr><td>mean {base}</td><td style=\"text-align: right;\">R Documentation</td></tr></table>\n",
       "\n",
       "<h2>Arithmetic Mean</h2>\n",
       "\n",
       "<h3>Description</h3>\n",
       "\n",
       "<p>Generic function for the (trimmed) arithmetic mean.\n",
       "</p>\n",
       "\n",
       "\n",
       "<h3>Usage</h3>\n",
       "\n",
       "<pre>\n",
       "mean(x, ...)\n",
       "\n",
       "## Default S3 method:\n",
       "mean(x, trim = 0, na.rm = FALSE, ...)\n",
       "</pre>\n",
       "\n",
       "\n",
       "<h3>Arguments</h3>\n",
       "\n",
       "<table summary=\"R argblock\">\n",
       "<tr valign=\"top\"><td><code>x</code></td>\n",
       "<td>\n",
       "<p>An <span style=\"font-family: Courier New, Courier; color: #666666;\"><b>R</b></span> object.  Currently there are methods for\n",
       "numeric/logical vectors and date,\n",
       "date-time and time interval objects.  Complex vectors\n",
       "are allowed for <code>trim = 0</code>, only.</p>\n",
       "</td></tr>\n",
       "<tr valign=\"top\"><td><code>trim</code></td>\n",
       "<td>\n",
       "<p>the fraction (0 to 0.5) of observations to be\n",
       "trimmed from each end of <code>x</code> before the mean is computed.\n",
       "Values of trim outside that range are taken as the nearest endpoint.\n",
       "</p>\n",
       "</td></tr>\n",
       "<tr valign=\"top\"><td><code>na.rm</code></td>\n",
       "<td>\n",
       "<p>a logical value indicating whether <code>NA</code>\n",
       "values should be stripped before the computation proceeds.</p>\n",
       "</td></tr>\n",
       "<tr valign=\"top\"><td><code>...</code></td>\n",
       "<td>\n",
       "<p>further arguments passed to or from other methods.</p>\n",
       "</td></tr>\n",
       "</table>\n",
       "\n",
       "\n",
       "<h3>Value</h3>\n",
       "\n",
       "<p>If <code>trim</code> is zero (the default), the arithmetic mean of the\n",
       "values in <code>x</code> is computed, as a numeric or complex vector of\n",
       "length one.  If <code>x</code> is not logical (coerced to numeric), numeric\n",
       "(including integer) or complex, <code>NA_real_</code> is returned, with a warning.\n",
       "</p>\n",
       "<p>If <code>trim</code> is non-zero, a symmetrically trimmed mean is computed\n",
       "with a fraction of <code>trim</code> observations deleted from each end\n",
       "before the mean is computed.\n",
       "</p>\n",
       "\n",
       "\n",
       "<h3>References</h3>\n",
       "\n",
       "<p>Becker, R. A., Chambers, J. M. and Wilks, A. R. (1988)\n",
       "<em>The New S Language</em>.\n",
       "Wadsworth &amp; Brooks/Cole.\n",
       "</p>\n",
       "\n",
       "\n",
       "<h3>See Also</h3>\n",
       "\n",
       "<p><code>weighted.mean</code>, <code>mean.POSIXct</code>,\n",
       "<code>colMeans</code> for row and column means.\n",
       "</p>\n",
       "\n",
       "\n",
       "<h3>Examples</h3>\n",
       "\n",
       "<pre>\n",
       "x &lt;- c(0:10, 50)\n",
       "xm &lt;- mean(x)\n",
       "c(xm, mean(x, trim = 0.10))\n",
       "</pre>\n",
       "\n",
       "<hr /><div style=\"text-align: center;\">[Package <em>base</em> version 3.6.1 ]</div>"
      ],
      "text/latex": [
       "\\inputencoding{utf8}\n",
       "\\HeaderA{mean}{Arithmetic Mean}{mean}\n",
       "\\methaliasA{mean.default}{mean}{mean.default}\n",
       "\\keyword{univar}{mean}\n",
       "%\n",
       "\\begin{Description}\\relax\n",
       "Generic function for the (trimmed) arithmetic mean.\n",
       "\\end{Description}\n",
       "%\n",
       "\\begin{Usage}\n",
       "\\begin{verbatim}\n",
       "mean(x, ...)\n",
       "\n",
       "## Default S3 method:\n",
       "mean(x, trim = 0, na.rm = FALSE, ...)\n",
       "\\end{verbatim}\n",
       "\\end{Usage}\n",
       "%\n",
       "\\begin{Arguments}\n",
       "\\begin{ldescription}\n",
       "\\item[\\code{x}] An \\R{} object.  Currently there are methods for\n",
       "numeric/logical vectors and \\LinkA{date}{Dates},\n",
       "\\LinkA{date-time}{date.Rdash.time} and \\LinkA{time interval}{time interval} objects.  Complex vectors\n",
       "are allowed for \\code{trim = 0}, only.\n",
       "\\item[\\code{trim}] the fraction (0 to 0.5) of observations to be\n",
       "trimmed from each end of \\code{x} before the mean is computed.\n",
       "Values of trim outside that range are taken as the nearest endpoint.\n",
       "\n",
       "\\item[\\code{na.rm}] a logical value indicating whether \\code{NA}\n",
       "values should be stripped before the computation proceeds.\n",
       "\\item[\\code{...}] further arguments passed to or from other methods.\n",
       "\\end{ldescription}\n",
       "\\end{Arguments}\n",
       "%\n",
       "\\begin{Value}\n",
       "If \\code{trim} is zero (the default), the arithmetic mean of the\n",
       "values in \\code{x} is computed, as a numeric or complex vector of\n",
       "length one.  If \\code{x} is not logical (coerced to numeric), numeric\n",
       "(including integer) or complex, \\code{NA\\_real\\_} is returned, with a warning.\n",
       "\n",
       "If \\code{trim} is non-zero, a symmetrically trimmed mean is computed\n",
       "with a fraction of \\code{trim} observations deleted from each end\n",
       "before the mean is computed.\n",
       "\\end{Value}\n",
       "%\n",
       "\\begin{References}\\relax\n",
       "Becker, R. A., Chambers, J. M. and Wilks, A. R. (1988)\n",
       "\\emph{The New S Language}.\n",
       "Wadsworth \\& Brooks/Cole.\n",
       "\\end{References}\n",
       "%\n",
       "\\begin{SeeAlso}\\relax\n",
       "\\code{\\LinkA{weighted.mean}{weighted.mean}}, \\code{\\LinkA{mean.POSIXct}{mean.POSIXct}},\n",
       "\\code{\\LinkA{colMeans}{colMeans}} for row and column means.\n",
       "\\end{SeeAlso}\n",
       "%\n",
       "\\begin{Examples}\n",
       "\\begin{ExampleCode}\n",
       "x <- c(0:10, 50)\n",
       "xm <- mean(x)\n",
       "c(xm, mean(x, trim = 0.10))\n",
       "\\end{ExampleCode}\n",
       "\\end{Examples}"
      ],
      "text/plain": [
       "mean                   package:base                    R Documentation\n",
       "\n",
       "_\bA_\br_\bi_\bt_\bh_\bm_\be_\bt_\bi_\bc _\bM_\be_\ba_\bn\n",
       "\n",
       "_\bD_\be_\bs_\bc_\br_\bi_\bp_\bt_\bi_\bo_\bn:\n",
       "\n",
       "     Generic function for the (trimmed) arithmetic mean.\n",
       "\n",
       "_\bU_\bs_\ba_\bg_\be:\n",
       "\n",
       "     mean(x, ...)\n",
       "     \n",
       "     ## Default S3 method:\n",
       "     mean(x, trim = 0, na.rm = FALSE, ...)\n",
       "     \n",
       "_\bA_\br_\bg_\bu_\bm_\be_\bn_\bt_\bs:\n",
       "\n",
       "       x: An R object.  Currently there are methods for numeric/logical\n",
       "          vectors and date, date-time and time interval objects.\n",
       "          Complex vectors are allowed for 'trim = 0', only.\n",
       "\n",
       "    trim: the fraction (0 to 0.5) of observations to be trimmed from\n",
       "          each end of 'x' before the mean is computed.  Values of trim\n",
       "          outside that range are taken as the nearest endpoint.\n",
       "\n",
       "   na.rm: a logical value indicating whether 'NA' values should be\n",
       "          stripped before the computation proceeds.\n",
       "\n",
       "     ...: further arguments passed to or from other methods.\n",
       "\n",
       "_\bV_\ba_\bl_\bu_\be:\n",
       "\n",
       "     If 'trim' is zero (the default), the arithmetic mean of the values\n",
       "     in 'x' is computed, as a numeric or complex vector of length one.\n",
       "     If 'x' is not logical (coerced to numeric), numeric (including\n",
       "     integer) or complex, 'NA_real_' is returned, with a warning.\n",
       "\n",
       "     If 'trim' is non-zero, a symmetrically trimmed mean is computed\n",
       "     with a fraction of 'trim' observations deleted from each end\n",
       "     before the mean is computed.\n",
       "\n",
       "_\bR_\be_\bf_\be_\br_\be_\bn_\bc_\be_\bs:\n",
       "\n",
       "     Becker, R. A., Chambers, J. M. and Wilks, A. R. (1988) _The New S\n",
       "     Language_.  Wadsworth & Brooks/Cole.\n",
       "\n",
       "_\bS_\be_\be _\bA_\bl_\bs_\bo:\n",
       "\n",
       "     'weighted.mean', 'mean.POSIXct', 'colMeans' for row and column\n",
       "     means.\n",
       "\n",
       "_\bE_\bx_\ba_\bm_\bp_\bl_\be_\bs:\n",
       "\n",
       "     x <- c(0:10, 50)\n",
       "     xm <- mean(x)\n",
       "     c(xm, mean(x, trim = 0.10))\n",
       "     "
      ]
     },
     "metadata": {},
     "output_type": "display_data"
    }
   ],
   "source": [
    "?mean"
   ]
  },
  {
   "cell_type": "code",
   "execution_count": null,
   "id": "56e83e70",
   "metadata": {},
   "outputs": [],
   "source": []
  },
  {
   "cell_type": "code",
   "execution_count": 384,
   "id": "e9b266c6-9ba7-4b03-a16a-ec234962ffbb",
   "metadata": {},
   "outputs": [
    {
     "data": {
      "text/html": [
       "\n",
       "<table width=\"100%\" summary=\"page for IQR {stats}\"><tr><td>IQR {stats}</td><td style=\"text-align: right;\">R Documentation</td></tr></table>\n",
       "\n",
       "<h2>The Interquartile Range</h2>\n",
       "\n",
       "<h3>Description</h3>\n",
       "\n",
       "<p>computes interquartile range of the <code>x</code> values.</p>\n",
       "\n",
       "\n",
       "<h3>Usage</h3>\n",
       "\n",
       "<pre>\n",
       "IQR(x, na.rm = FALSE, type = 7)\n",
       "</pre>\n",
       "\n",
       "\n",
       "<h3>Arguments</h3>\n",
       "\n",
       "<table summary=\"R argblock\">\n",
       "<tr valign=\"top\"><td><code>x</code></td>\n",
       "<td>\n",
       "<p>a numeric vector.</p>\n",
       "</td></tr>\n",
       "<tr valign=\"top\"><td><code>na.rm</code></td>\n",
       "<td>\n",
       "<p>logical. Should missing values be removed?</p>\n",
       "</td></tr>\n",
       "<tr valign=\"top\"><td><code>type</code></td>\n",
       "<td>\n",
       "<p>an integer selecting one of the many quantile algorithms,\n",
       "see <code>quantile</code>.</p>\n",
       "</td></tr>\n",
       "</table>\n",
       "\n",
       "\n",
       "<h3>Details</h3>\n",
       "\n",
       "<p>Note that this function computes the quartiles using the\n",
       "<code>quantile</code> function rather than following\n",
       "Tukey's recommendations,\n",
       "i.e., <code>IQR(x) = quantile(x, 3/4) - quantile(x, 1/4)</code>.\n",
       "</p>\n",
       "<p>For normally <i>N(m,1)</i> distributed <i>X</i>, the expected value of\n",
       "<code>IQR(X)</code> is <code>2*qnorm(3/4) = 1.3490</code>, i.e., for a normal-consistent\n",
       "estimate of the standard deviation, use <code>IQR(x) / 1.349</code>.\n",
       "</p>\n",
       "\n",
       "\n",
       "<h3>References</h3>\n",
       "\n",
       "<p>Tukey, J. W. (1977).\n",
       "<em>Exploratory Data Analysis.</em>\n",
       "Reading: Addison-Wesley.\n",
       "</p>\n",
       "\n",
       "\n",
       "<h3>See Also</h3>\n",
       "\n",
       "<p><code>fivenum</code>, <code>mad</code> which is more robust,\n",
       "<code>range</code>, <code>quantile</code>.\n",
       "</p>\n",
       "\n",
       "\n",
       "<h3>Examples</h3>\n",
       "\n",
       "<pre>\n",
       "IQR(rivers)\n",
       "</pre>\n",
       "\n",
       "<hr /><div style=\"text-align: center;\">[Package <em>stats</em> version 3.6.1 ]</div>"
      ],
      "text/latex": [
       "\\inputencoding{utf8}\n",
       "\\HeaderA{IQR}{The Interquartile Range}{IQR}\n",
       "\\keyword{univar}{IQR}\n",
       "\\keyword{robust}{IQR}\n",
       "\\keyword{distribution}{IQR}\n",
       "%\n",
       "\\begin{Description}\\relax\n",
       "computes interquartile range of the \\code{x} values.\n",
       "\\end{Description}\n",
       "%\n",
       "\\begin{Usage}\n",
       "\\begin{verbatim}\n",
       "IQR(x, na.rm = FALSE, type = 7)\n",
       "\\end{verbatim}\n",
       "\\end{Usage}\n",
       "%\n",
       "\\begin{Arguments}\n",
       "\\begin{ldescription}\n",
       "\\item[\\code{x}] a numeric vector.\n",
       "\\item[\\code{na.rm}] logical. Should missing values be removed?\n",
       "\\item[\\code{type}] an integer selecting one of the many quantile algorithms,\n",
       "see \\code{\\LinkA{quantile}{quantile}}.\n",
       "\\end{ldescription}\n",
       "\\end{Arguments}\n",
       "%\n",
       "\\begin{Details}\\relax\n",
       "Note that this function computes the quartiles using the\n",
       "\\code{\\LinkA{quantile}{quantile}} function rather than following\n",
       "Tukey's recommendations,\n",
       "i.e., \\code{IQR(x) = quantile(x, 3/4) - quantile(x, 1/4)}.\n",
       "\n",
       "For normally \\eqn{N(m,1)}{} distributed \\eqn{X}{}, the expected value of\n",
       "\\code{IQR(X)} is \\code{2*qnorm(3/4) = 1.3490}, i.e., for a normal-consistent\n",
       "estimate of the standard deviation, use \\code{IQR(x) / 1.349}.\n",
       "\\end{Details}\n",
       "%\n",
       "\\begin{References}\\relax\n",
       "Tukey, J. W. (1977).\n",
       "\\emph{Exploratory Data Analysis.}\n",
       "Reading: Addison-Wesley.\n",
       "\\end{References}\n",
       "%\n",
       "\\begin{SeeAlso}\\relax\n",
       "\\code{\\LinkA{fivenum}{fivenum}}, \\code{\\LinkA{mad}{mad}} which is more robust,\n",
       "\\code{\\LinkA{range}{range}}, \\code{\\LinkA{quantile}{quantile}}.\n",
       "\\end{SeeAlso}\n",
       "%\n",
       "\\begin{Examples}\n",
       "\\begin{ExampleCode}\n",
       "IQR(rivers)\n",
       "\\end{ExampleCode}\n",
       "\\end{Examples}"
      ],
      "text/plain": [
       "IQR                   package:stats                    R Documentation\n",
       "\n",
       "_\bT_\bh_\be _\bI_\bn_\bt_\be_\br_\bq_\bu_\ba_\br_\bt_\bi_\bl_\be _\bR_\ba_\bn_\bg_\be\n",
       "\n",
       "_\bD_\be_\bs_\bc_\br_\bi_\bp_\bt_\bi_\bo_\bn:\n",
       "\n",
       "     computes interquartile range of the 'x' values.\n",
       "\n",
       "_\bU_\bs_\ba_\bg_\be:\n",
       "\n",
       "     IQR(x, na.rm = FALSE, type = 7)\n",
       "     \n",
       "_\bA_\br_\bg_\bu_\bm_\be_\bn_\bt_\bs:\n",
       "\n",
       "       x: a numeric vector.\n",
       "\n",
       "   na.rm: logical. Should missing values be removed?\n",
       "\n",
       "    type: an integer selecting one of the many quantile algorithms, see\n",
       "          'quantile'.\n",
       "\n",
       "_\bD_\be_\bt_\ba_\bi_\bl_\bs:\n",
       "\n",
       "     Note that this function computes the quartiles using the\n",
       "     'quantile' function rather than following Tukey's recommendations,\n",
       "     i.e., 'IQR(x) = quantile(x, 3/4) - quantile(x, 1/4)'.\n",
       "\n",
       "     For normally N(m,1) distributed X, the expected value of 'IQR(X)'\n",
       "     is '2*qnorm(3/4) = 1.3490', i.e., for a normal-consistent estimate\n",
       "     of the standard deviation, use 'IQR(x) / 1.349'.\n",
       "\n",
       "_\bR_\be_\bf_\be_\br_\be_\bn_\bc_\be_\bs:\n",
       "\n",
       "     Tukey, J. W. (1977).  _Exploratory Data Analysis._ Reading:\n",
       "     Addison-Wesley.\n",
       "\n",
       "_\bS_\be_\be _\bA_\bl_\bs_\bo:\n",
       "\n",
       "     'fivenum', 'mad' which is more robust, 'range', 'quantile'.\n",
       "\n",
       "_\bE_\bx_\ba_\bm_\bp_\bl_\be_\bs:\n",
       "\n",
       "     IQR(rivers)\n",
       "     "
      ]
     },
     "metadata": {},
     "output_type": "display_data"
    }
   ],
   "source": [
    "help(IQR)"
   ]
  },
  {
   "cell_type": "markdown",
   "id": "23da258d-c7f2-4915-b532-b16846d3397d",
   "metadata": {
    "tags": []
   },
   "source": [
    "## To read in data"
   ]
  },
  {
   "cell_type": "markdown",
   "id": "6e7bf71a-1e44-4581-9e55-661dd9981303",
   "metadata": {
    "tags": []
   },
   "source": [
    "### from file"
   ]
  },
  {
   "cell_type": "markdown",
   "id": "f3c2a14b-ed2c-4188-b045-114210456d11",
   "metadata": {},
   "source": [
    "`imported_data <- read.csv(\"philosophers.csv\")`<br>\n",
    "\n",
    "`file_path <- readClipboard()`\n",
    "`imported_data <- read.csv(file_path)` <br>\n",
    "\n",
    "`tb_data <- read.csv(\"https://tinyurl.com/whotbdata\")`<br>"
   ]
  },
  {
   "cell_type": "markdown",
   "id": "ddcbfb40-0a30-4883-8f36-b5ffa4b1da1e",
   "metadata": {},
   "source": [
    "⤴️ path\n",
    "file_path <- \"Data/bookstore.csv\"\n",
    "\n",
    "file_path <- \"../bookstore.csv\""
   ]
  },
  {
   "cell_type": "markdown",
   "id": "adeb9b0b-d16d-4f0d-b781-754619b01308",
   "metadata": {
    "jp-MarkdownHeadingCollapsed": true,
    "tags": []
   },
   "source": [
    "### Excel"
   ]
  },
  {
   "cell_type": "code",
   "execution_count": 385,
   "id": "1cb770c5-1650-43fc-9315-acab4428f16e",
   "metadata": {},
   "outputs": [
    {
     "name": "stdout",
     "output_type": "stream",
     "text": [
      "\n",
      "  There is a binary version available but the source version is later:\n",
      "         binary  source needs_compilation\n",
      "openxlsx  4.2.3 4.2.5.1              TRUE\n",
      "\n",
      "  Binaries will be installed\n"
     ]
    },
    {
     "name": "stderr",
     "output_type": "stream",
     "text": [
      "Warning message:\n",
      "\"package 'openxlsx' is in use and will not be installed\""
     ]
    }
   ],
   "source": [
    "install.packages(\"openxlsx\")"
   ]
  },
  {
   "cell_type": "markdown",
   "id": "9f08d7cc-ce4f-42a0-8b00-2231e4ed6891",
   "metadata": {},
   "source": [
    "\n",
    "`library(openxlsx)` <br>\n",
    "`imported_from_Excel <- read.xlsx(file_path)` <br>\n",
    "\n",
    "`View(imported_from_Excel)` <br>\n",
    "`str(imported_from_Excel)`\n",
    "`"
   ]
  },
  {
   "cell_type": "code",
   "execution_count": 386,
   "id": "28266149-720e-4841-8a5e-3b6340031352",
   "metadata": {},
   "outputs": [
    {
     "data": {
      "text/html": [
       "<table>\n",
       "<thead><tr><th scope=col>V1</th><th scope=col>V2</th><th scope=col>V3</th></tr></thead>\n",
       "<tbody>\n",
       "\t<tr><td>5 </td><td>9 </td><td>13</td></tr>\n",
       "\t<tr><td>1 </td><td>6 </td><td>15</td></tr>\n",
       "\t<tr><td>3 </td><td>8 </td><td>29</td></tr>\n",
       "</tbody>\n",
       "</table>\n"
      ],
      "text/latex": [
       "\\begin{tabular}{r|lll}\n",
       " V1 & V2 & V3\\\\\n",
       "\\hline\n",
       "\t 5  & 9  & 13\\\\\n",
       "\t 1  & 6  & 15\\\\\n",
       "\t 3  & 8  & 29\\\\\n",
       "\\end{tabular}\n"
      ],
      "text/markdown": [
       "\n",
       "| V1 | V2 | V3 |\n",
       "|---|---|---|\n",
       "| 5  | 9  | 13 |\n",
       "| 1  | 6  | 15 |\n",
       "| 3  | 8  | 29 |\n",
       "\n"
      ],
      "text/plain": [
       "  V1 V2 V3\n",
       "1 5  9  13\n",
       "2 1  6  15\n",
       "3 3  8  29"
      ]
     },
     "metadata": {},
     "output_type": "display_data"
    }
   ],
   "source": [
    "example1 = read.table('daTa.txt', header = T)\n",
    "example1"
   ]
  },
  {
   "cell_type": "markdown",
   "id": "63a35626-952f-4d9a-9b02-eb387c015fe5",
   "metadata": {},
   "source": [
    "### from library"
   ]
  },
  {
   "cell_type": "code",
   "execution_count": 387,
   "id": "12314a53-8674-417b-8f58-6617910bedc1",
   "metadata": {},
   "outputs": [
    {
     "data": {
      "text/html": [
       "<table>\n",
       "<thead><tr><th scope=col>name</th><th scope=col>genus</th><th scope=col>vore</th><th scope=col>order</th><th scope=col>conservation</th><th scope=col>sleep_total</th><th scope=col>sleep_rem</th><th scope=col>sleep_cycle</th><th scope=col>awake</th><th scope=col>brainwt</th><th scope=col>bodywt</th></tr></thead>\n",
       "<tbody>\n",
       "\t<tr><td>Cheetah                   </td><td>Acinonyx                  </td><td>carni                     </td><td>Carnivora                 </td><td>lc                        </td><td>12.1                      </td><td> NA                       </td><td>       NA                 </td><td>11.9                      </td><td>     NA                   </td><td> 50.000                   </td></tr>\n",
       "\t<tr><td>Owl monkey                </td><td>Aotus                     </td><td>omni                      </td><td>Primates                  </td><td>NA                        </td><td>17.0                      </td><td>1.8                       </td><td>       NA                 </td><td> 7.0                      </td><td>0.01550                   </td><td>  0.480                   </td></tr>\n",
       "\t<tr><td>Mountain beaver           </td><td>Aplodontia                </td><td>herbi                     </td><td>Rodentia                  </td><td>nt                        </td><td>14.4                      </td><td>2.4                       </td><td>       NA                 </td><td> 9.6                      </td><td>     NA                   </td><td>  1.350                   </td></tr>\n",
       "\t<tr><td>Greater short-tailed shrew</td><td>Blarina                   </td><td>omni                      </td><td>Soricomorpha              </td><td>lc                        </td><td>14.9                      </td><td>2.3                       </td><td>0.1333333                 </td><td> 9.1                      </td><td>0.00029                   </td><td>  0.019                   </td></tr>\n",
       "\t<tr><td>Cow                       </td><td>Bos                       </td><td>herbi                     </td><td>Artiodactyla              </td><td>domesticated              </td><td> 4.0                      </td><td>0.7                       </td><td>0.6666667                 </td><td>20.0                      </td><td>0.42300                   </td><td>600.000                   </td></tr>\n",
       "\t<tr><td>Three-toed sloth          </td><td>Bradypus                  </td><td>herbi                     </td><td>Pilosa                    </td><td>NA                        </td><td>14.4                      </td><td>2.2                       </td><td>0.7666667                 </td><td> 9.6                      </td><td>     NA                   </td><td>  3.850                   </td></tr>\n",
       "</tbody>\n",
       "</table>\n"
      ],
      "text/latex": [
       "\\begin{tabular}{r|lllllllllll}\n",
       " name & genus & vore & order & conservation & sleep\\_total & sleep\\_rem & sleep\\_cycle & awake & brainwt & bodywt\\\\\n",
       "\\hline\n",
       "\t Cheetah                    & Acinonyx                   & carni                      & Carnivora                  & lc                         & 12.1                       &  NA                        &        NA                  & 11.9                       &      NA                    &  50.000                   \\\\\n",
       "\t Owl monkey                 & Aotus                      & omni                       & Primates                   & NA                         & 17.0                       & 1.8                        &        NA                  &  7.0                       & 0.01550                    &   0.480                   \\\\\n",
       "\t Mountain beaver            & Aplodontia                 & herbi                      & Rodentia                   & nt                         & 14.4                       & 2.4                        &        NA                  &  9.6                       &      NA                    &   1.350                   \\\\\n",
       "\t Greater short-tailed shrew & Blarina                    & omni                       & Soricomorpha               & lc                         & 14.9                       & 2.3                        & 0.1333333                  &  9.1                       & 0.00029                    &   0.019                   \\\\\n",
       "\t Cow                        & Bos                        & herbi                      & Artiodactyla               & domesticated               &  4.0                       & 0.7                        & 0.6666667                  & 20.0                       & 0.42300                    & 600.000                   \\\\\n",
       "\t Three-toed sloth           & Bradypus                   & herbi                      & Pilosa                     & NA                         & 14.4                       & 2.2                        & 0.7666667                  &  9.6                       &      NA                    &   3.850                   \\\\\n",
       "\\end{tabular}\n"
      ],
      "text/markdown": [
       "\n",
       "| name | genus | vore | order | conservation | sleep_total | sleep_rem | sleep_cycle | awake | brainwt | bodywt |\n",
       "|---|---|---|---|---|---|---|---|---|---|---|\n",
       "| Cheetah                    | Acinonyx                   | carni                      | Carnivora                  | lc                         | 12.1                       |  NA                        |        NA                  | 11.9                       |      NA                    |  50.000                    |\n",
       "| Owl monkey                 | Aotus                      | omni                       | Primates                   | NA                         | 17.0                       | 1.8                        |        NA                  |  7.0                       | 0.01550                    |   0.480                    |\n",
       "| Mountain beaver            | Aplodontia                 | herbi                      | Rodentia                   | nt                         | 14.4                       | 2.4                        |        NA                  |  9.6                       |      NA                    |   1.350                    |\n",
       "| Greater short-tailed shrew | Blarina                    | omni                       | Soricomorpha               | lc                         | 14.9                       | 2.3                        | 0.1333333                  |  9.1                       | 0.00029                    |   0.019                    |\n",
       "| Cow                        | Bos                        | herbi                      | Artiodactyla               | domesticated               |  4.0                       | 0.7                        | 0.6666667                  | 20.0                       | 0.42300                    | 600.000                    |\n",
       "| Three-toed sloth           | Bradypus                   | herbi                      | Pilosa                     | NA                         | 14.4                       | 2.2                        | 0.7666667                  |  9.6                       |      NA                    |   3.850                    |\n",
       "\n"
      ],
      "text/plain": [
       "  name                       genus      vore  order        conservation\n",
       "1 Cheetah                    Acinonyx   carni Carnivora    lc          \n",
       "2 Owl monkey                 Aotus      omni  Primates     NA          \n",
       "3 Mountain beaver            Aplodontia herbi Rodentia     nt          \n",
       "4 Greater short-tailed shrew Blarina    omni  Soricomorpha lc          \n",
       "5 Cow                        Bos        herbi Artiodactyla domesticated\n",
       "6 Three-toed sloth           Bradypus   herbi Pilosa       NA          \n",
       "  sleep_total sleep_rem sleep_cycle awake brainwt bodywt \n",
       "1 12.1         NA              NA   11.9       NA  50.000\n",
       "2 17.0        1.8              NA    7.0  0.01550   0.480\n",
       "3 14.4        2.4              NA    9.6       NA   1.350\n",
       "4 14.9        2.3       0.1333333    9.1  0.00029   0.019\n",
       "5  4.0        0.7       0.6666667   20.0  0.42300 600.000\n",
       "6 14.4        2.2       0.7666667    9.6       NA   3.850"
      ]
     },
     "metadata": {},
     "output_type": "display_data"
    }
   ],
   "source": [
    "head(msleep)"
   ]
  },
  {
   "cell_type": "markdown",
   "id": "f15e7fcb-3df3-4513-a9fc-13d51461ca86",
   "metadata": {
    "tags": []
   },
   "source": [
    "## Saving, exporting and editing"
   ]
  },
  {
   "cell_type": "markdown",
   "id": "8a03cb68-7a90-4afa-94ee-741787ed6cde",
   "metadata": {},
   "source": [
    "### Saving"
   ]
  },
  {
   "cell_type": "code",
   "execution_count": 388,
   "id": "e3b62b9f-ec5d-48c7-924f-9b498b48b74c",
   "metadata": {},
   "outputs": [],
   "source": [
    "save.image(file = \"allMyData.RData\")"
   ]
  },
  {
   "cell_type": "code",
   "execution_count": 389,
   "id": "38807176-8ea6-465c-9d61-e0104774410b",
   "metadata": {},
   "outputs": [],
   "source": [
    "load(file = \"allMyData.RData\")"
   ]
  },
  {
   "cell_type": "code",
   "execution_count": 390,
   "id": "3afffd44-b567-4e9c-a699-e6e75271d660",
   "metadata": {},
   "outputs": [],
   "source": [
    "myPlot <- ggplot(msleep, aes(vore, fill =vore)) +\n",
    "      geom_bar(width = 0.4) "
   ]
  },
  {
   "cell_type": "code",
   "execution_count": 391,
   "id": "f3bfd20e-7562-4640-aad3-60e156214ac1",
   "metadata": {},
   "outputs": [
    {
     "data": {
      "image/png": "[encoded data removed]",
      "text/plain": [
       "plot without title"
      ]
     },
     "metadata": {},
     "output_type": "display_data"
    }
   ],
   "source": [
    "myPlot"
   ]
  },
  {
   "cell_type": "code",
   "execution_count": 392,
   "id": "ecc926e7-df28-4346-a3a8-ab47bb3b1d5f",
   "metadata": {},
   "outputs": [
    {
     "data": {
      "image/png": "[encoded data removed]",
      "text/plain": [
       "plot without title"
      ]
     },
     "metadata": {},
     "output_type": "display_data"
    }
   ],
   "source": [
    "myPlot + xlab(\"You can add label later\")"
   ]
  },
  {
   "cell_type": "code",
   "execution_count": 393,
   "id": "b118afb2-e488-4172-9fc9-fea22f5da906",
   "metadata": {},
   "outputs": [],
   "source": [
    "ggsave(\"filename.pdf\", myPlot, width = 5, height = 5)"
   ]
  },
  {
   "cell_type": "code",
   "execution_count": 394,
   "id": "b9ef6764-81e7-439c-b53e-c981c73577b6",
   "metadata": {},
   "outputs": [
    {
     "data": {
      "text/html": [
       "<strong>png:</strong> 2"
      ],
      "text/latex": [
       "\\textbf{png:} 2"
      ],
      "text/markdown": [
       "**png:** 2"
      ],
      "text/plain": [
       "png \n",
       "  2 "
      ]
     },
     "metadata": {},
     "output_type": "display_data"
    }
   ],
   "source": [
    "pdf(\"filename.pdf\", width = 5, height = 5)\n",
    "myPlot\n",
    "dev.off()"
   ]
  },
  {
   "cell_type": "code",
   "execution_count": 395,
   "id": "fc9e6bfa-56ce-4b06-bf4d-289d8617bac0",
   "metadata": {},
   "outputs": [
    {
     "data": {
      "text/html": [
       "<strong>png:</strong> 2"
      ],
      "text/latex": [
       "\\textbf{png:} 2"
      ],
      "text/markdown": [
       "**png:** 2"
      ],
      "text/plain": [
       "png \n",
       "  2 "
      ]
     },
     "metadata": {},
     "output_type": "display_data"
    }
   ],
   "source": [
    "png(\"filename.png\", width = 500, height = 500)\n",
    "plot(msleep$sleep_total, msleep$sleep_rem)\n",
    "dev.off()"
   ]
  },
  {
   "cell_type": "markdown",
   "id": "e8b487fc-00dc-4a74-b983-3ddde85e364a",
   "metadata": {},
   "source": [
    "### Exporting data"
   ]
  },
  {
   "cell_type": "code",
   "execution_count": 396,
   "id": "ad67ac41-9577-4ec6-9c2b-e69daeae3916",
   "metadata": {},
   "outputs": [],
   "source": [
    "write.csv(msleep, 'msleep2.csv')"
   ]
  },
  {
   "cell_type": "code",
   "execution_count": 397,
   "id": "ce9f6849-2471-48bb-8cb4-31c539b95959",
   "metadata": {},
   "outputs": [],
   "source": [
    "library(openxlsx)"
   ]
  },
  {
   "cell_type": "code",
   "execution_count": 398,
   "id": "06f520d1-cd03-47bd-8a87-097c11a9dbea",
   "metadata": {},
   "outputs": [],
   "source": [
    "write.xlsx(msleep,'msleep.xlsx')"
   ]
  },
  {
   "cell_type": "markdown",
   "id": "5951e9a1-2c00-4b0e-bf5e-34e2e3f71499",
   "metadata": {},
   "source": [
    "### Load"
   ]
  },
  {
   "cell_type": "code",
   "execution_count": 399,
   "id": "12826ca1-62ce-46a4-8d73-a6bca387ed86",
   "metadata": {},
   "outputs": [],
   "source": [
    "load(file = 'allMyData.RData')"
   ]
  },
  {
   "cell_type": "markdown",
   "id": "83943a68-3b10-425c-bdc2-cc9e161dfa74",
   "metadata": {
    "tags": []
   },
   "source": [
    "## Data Types "
   ]
  },
  {
   "cell_type": "markdown",
   "id": "3a9e394e-cd6c-468c-845a-96ed0c838f8f",
   "metadata": {},
   "source": [
    "- Six basic data types <br>\n",
    "    `numeric`:`double` &emsp; 1,  16.823 <br>\n",
    "    `logical`: `TRUE` or `FALSE` <br>\n",
    "    `character`: text \"a\", \"any string\" <br>\n",
    "    `integer`: integer numbers &emsp;`L`: 1L,55L <br>\n",
    "    `complex`:complex numbers &emsp `2+3i`\n",
    "    `raw`: used to hold raw bytes\n",
    "   \n",
    "- Special data types\n",
    "    `data structures`\n",
    "        - vectors\n",
    "        - data frames\n",
    "        - `factor` : used to store categorical data\n",
    "        - `POSIXct` :used to store date and time data"
   ]
  },
  {
   "cell_type": "code",
   "execution_count": 400,
   "id": "f7b2205d-e1fb-497c-86f0-71f218011338",
   "metadata": {},
   "outputs": [
    {
     "data": {
      "text/html": [
       "'numeric'"
      ],
      "text/latex": [
       "'numeric'"
      ],
      "text/markdown": [
       "'numeric'"
      ],
      "text/plain": [
       "[1] \"numeric\""
      ]
     },
     "metadata": {},
     "output_type": "display_data"
    }
   ],
   "source": [
    "x <-3\n",
    "class(x)"
   ]
  },
  {
   "cell_type": "markdown",
   "id": "b46e1054-2da9-473a-95be-9dca3df01f7c",
   "metadata": {
    "tags": []
   },
   "source": [
    "### Numeric"
   ]
  },
  {
   "cell_type": "code",
   "execution_count": 401,
   "id": "6c82802c-0110-4744-b88e-4952eb2db4a2",
   "metadata": {},
   "outputs": [
    {
     "data": {
      "text/html": [
       "<ol class=list-inline>\n",
       "\t<li>1</li>\n",
       "\t<li>2</li>\n",
       "\t<li>3</li>\n",
       "\t<li>4</li>\n",
       "\t<li>6</li>\n",
       "\t<li>7</li>\n",
       "</ol>\n"
      ],
      "text/latex": [
       "\\begin{enumerate*}\n",
       "\\item 1\n",
       "\\item 2\n",
       "\\item 3\n",
       "\\item 4\n",
       "\\item 6\n",
       "\\item 7\n",
       "\\end{enumerate*}\n"
      ],
      "text/markdown": [
       "1. 1\n",
       "2. 2\n",
       "3. 3\n",
       "4. 4\n",
       "5. 6\n",
       "6. 7\n",
       "\n",
       "\n"
      ],
      "text/plain": [
       "[1] 1 2 3 4 6 7"
      ]
     },
     "metadata": {},
     "output_type": "display_data"
    }
   ],
   "source": [
    "x=c(1,2,3,4,6,7)\n",
    "x"
   ]
  },
  {
   "cell_type": "code",
   "execution_count": 402,
   "id": "aae75a64-f10b-4040-96c5-f40b2a9fe26a",
   "metadata": {},
   "outputs": [
    {
     "data": {
      "text/html": [
       "'numeric'"
      ],
      "text/latex": [
       "'numeric'"
      ],
      "text/markdown": [
       "'numeric'"
      ],
      "text/plain": [
       "[1] \"numeric\""
      ]
     },
     "metadata": {},
     "output_type": "display_data"
    }
   ],
   "source": [
    "class(x)"
   ]
  },
  {
   "cell_type": "code",
   "execution_count": 403,
   "id": "4389e2a6-0650-42c7-a087-305511be80a6",
   "metadata": {},
   "outputs": [
    {
     "data": {
      "text/html": [
       "TRUE"
      ],
      "text/latex": [
       "TRUE"
      ],
      "text/markdown": [
       "TRUE"
      ],
      "text/plain": [
       "[1] TRUE"
      ]
     },
     "metadata": {},
     "output_type": "display_data"
    }
   ],
   "source": [
    "is.numeric(x)"
   ]
  },
  {
   "cell_type": "markdown",
   "id": "55cfae27-0b85-4454-8455-e5ca300962e6",
   "metadata": {},
   "source": [
    "### Integer"
   ]
  },
  {
   "cell_type": "code",
   "execution_count": 404,
   "id": "6e17ab9a-5682-46ee-81e1-0a23624f0bf1",
   "metadata": {},
   "outputs": [
    {
     "data": {
      "text/html": [
       "FALSE"
      ],
      "text/latex": [
       "FALSE"
      ],
      "text/markdown": [
       "FALSE"
      ],
      "text/plain": [
       "[1] FALSE"
      ]
     },
     "metadata": {},
     "output_type": "display_data"
    }
   ],
   "source": [
    "is.integer(x)"
   ]
  },
  {
   "cell_type": "code",
   "execution_count": 405,
   "id": "38776103-6919-40b1-968b-e8458717abb8",
   "metadata": {},
   "outputs": [
    {
     "data": {
      "text/html": [
       "'integer'"
      ],
      "text/latex": [
       "'integer'"
      ],
      "text/markdown": [
       "'integer'"
      ],
      "text/plain": [
       "[1] \"integer\""
      ]
     },
     "metadata": {},
     "output_type": "display_data"
    }
   ],
   "source": [
    "y <- as.integer(x)\n",
    "class(y)"
   ]
  },
  {
   "cell_type": "code",
   "execution_count": 406,
   "id": "5b320572-c581-44ad-a0cc-a974d72a4fe5",
   "metadata": {},
   "outputs": [
    {
     "data": {
      "text/html": [
       "TRUE"
      ],
      "text/latex": [
       "TRUE"
      ],
      "text/markdown": [
       "TRUE"
      ],
      "text/plain": [
       "[1] TRUE"
      ]
     },
     "metadata": {},
     "output_type": "display_data"
    }
   ],
   "source": [
    "is.integer(y)"
   ]
  },
  {
   "cell_type": "markdown",
   "id": "1e6fcacc-5a14-40a7-b846-76495de36ffb",
   "metadata": {},
   "source": [
    "### Character"
   ]
  },
  {
   "cell_type": "code",
   "execution_count": 407,
   "id": "63c521f7-9a02-4374-b5ae-761da0fcfad1",
   "metadata": {},
   "outputs": [
    {
     "data": {
      "text/html": [
       "FALSE"
      ],
      "text/latex": [
       "FALSE"
      ],
      "text/markdown": [
       "FALSE"
      ],
      "text/plain": [
       "[1] FALSE"
      ]
     },
     "metadata": {},
     "output_type": "display_data"
    }
   ],
   "source": [
    "is.character(x)"
   ]
  },
  {
   "cell_type": "code",
   "execution_count": 408,
   "id": "c7b83745-a055-4d70-a652-5451c4cbd6d5",
   "metadata": {},
   "outputs": [
    {
     "data": {
      "text/html": [
       "'character'"
      ],
      "text/latex": [
       "'character'"
      ],
      "text/markdown": [
       "'character'"
      ],
      "text/plain": [
       "[1] \"character\""
      ]
     },
     "metadata": {},
     "output_type": "display_data"
    }
   ],
   "source": [
    "a <- 'This is an apple'\n",
    "class(a)"
   ]
  },
  {
   "cell_type": "code",
   "execution_count": 409,
   "id": "e97d9d64-e38f-43ad-af49-94c17d943330",
   "metadata": {},
   "outputs": [
    {
     "data": {
      "text/html": [
       "'character'"
      ],
      "text/latex": [
       "'character'"
      ],
      "text/markdown": [
       "'character'"
      ],
      "text/plain": [
       "[1] \"character\""
      ]
     },
     "metadata": {},
     "output_type": "display_data"
    }
   ],
   "source": [
    "b <- \"T\"\n",
    "class(b)"
   ]
  },
  {
   "cell_type": "markdown",
   "id": "e7ceff97-d20e-44cb-8e4a-aec5cd2f5151",
   "metadata": {},
   "source": [
    "### Factor"
   ]
  },
  {
   "cell_type": "code",
   "execution_count": 410,
   "id": "a542917e-c7be-497e-b3b4-e0bebfc0e878",
   "metadata": {},
   "outputs": [
    {
     "data": {
      "text/html": [
       "FALSE"
      ],
      "text/latex": [
       "FALSE"
      ],
      "text/markdown": [
       "FALSE"
      ],
      "text/plain": [
       "[1] FALSE"
      ]
     },
     "metadata": {},
     "output_type": "display_data"
    }
   ],
   "source": [
    "is.factor(x)"
   ]
  },
  {
   "cell_type": "code",
   "execution_count": 411,
   "id": "65e7ea3c-6339-498d-b489-2334ae7da84d",
   "metadata": {},
   "outputs": [
    {
     "data": {
      "text/html": [
       "'numeric'"
      ],
      "text/latex": [
       "'numeric'"
      ],
      "text/markdown": [
       "'numeric'"
      ],
      "text/plain": [
       "[1] \"numeric\""
      ]
     },
     "metadata": {},
     "output_type": "display_data"
    }
   ],
   "source": [
    "four <- c(1,2,3,3,2,1,2,3,1,2,3,1,2,3)\n",
    "class(four)"
   ]
  },
  {
   "cell_type": "code",
   "execution_count": 412,
   "id": "43e4c952-1d87-4b9d-bae4-bc4f5a49ebc4",
   "metadata": {},
   "outputs": [
    {
     "data": {
      "text/html": [
       "<ol class=list-inline>\n",
       "\t<li>1</li>\n",
       "\t<li>2</li>\n",
       "\t<li>3</li>\n",
       "\t<li>3</li>\n",
       "\t<li>2</li>\n",
       "\t<li>1</li>\n",
       "\t<li>2</li>\n",
       "\t<li>3</li>\n",
       "\t<li>1</li>\n",
       "\t<li>2</li>\n",
       "\t<li>3</li>\n",
       "\t<li>1</li>\n",
       "\t<li>2</li>\n",
       "\t<li>3</li>\n",
       "</ol>\n",
       "\n",
       "<details>\n",
       "\t<summary style=display:list-item;cursor:pointer>\n",
       "\t\t<strong>Levels</strong>:\n",
       "\t</summary>\n",
       "\t<ol class=list-inline>\n",
       "\t\t<li>'1'</li>\n",
       "\t\t<li>'2'</li>\n",
       "\t\t<li>'3'</li>\n",
       "\t</ol>\n",
       "</details>"
      ],
      "text/latex": [
       "\\begin{enumerate*}\n",
       "\\item 1\n",
       "\\item 2\n",
       "\\item 3\n",
       "\\item 3\n",
       "\\item 2\n",
       "\\item 1\n",
       "\\item 2\n",
       "\\item 3\n",
       "\\item 1\n",
       "\\item 2\n",
       "\\item 3\n",
       "\\item 1\n",
       "\\item 2\n",
       "\\item 3\n",
       "\\end{enumerate*}\n",
       "\n",
       "\\emph{Levels}: \\begin{enumerate*}\n",
       "\\item '1'\n",
       "\\item '2'\n",
       "\\item '3'\n",
       "\\end{enumerate*}\n"
      ],
      "text/markdown": [
       "1. 1\n",
       "2. 2\n",
       "3. 3\n",
       "4. 3\n",
       "5. 2\n",
       "6. 1\n",
       "7. 2\n",
       "8. 3\n",
       "9. 1\n",
       "10. 2\n",
       "11. 3\n",
       "12. 1\n",
       "13. 2\n",
       "14. 3\n",
       "\n",
       "\n",
       "\n",
       "**Levels**: 1. '1'\n",
       "2. '2'\n",
       "3. '3'\n",
       "\n",
       "\n"
      ],
      "text/plain": [
       " [1] 1 2 3 3 2 1 2 3 1 2 3 1 2 3\n",
       "Levels: 1 2 3"
      ]
     },
     "metadata": {},
     "output_type": "display_data"
    }
   ],
   "source": [
    "facFour <-factor(four)\n",
    "facFour"
   ]
  },
  {
   "cell_type": "markdown",
   "id": "23ce50a9-d1e1-4b7b-8ce5-39472a88c5fe",
   "metadata": {
    "tags": []
   },
   "source": [
    "### Logical"
   ]
  },
  {
   "cell_type": "code",
   "execution_count": 413,
   "id": "9026a703-93cf-4d28-a8e4-6de57d055ed1",
   "metadata": {},
   "outputs": [
    {
     "data": {
      "text/html": [
       "FALSE"
      ],
      "text/latex": [
       "FALSE"
      ],
      "text/markdown": [
       "FALSE"
      ],
      "text/plain": [
       "[1] FALSE"
      ]
     },
     "metadata": {},
     "output_type": "display_data"
    }
   ],
   "source": [
    "is.logical(x)"
   ]
  },
  {
   "cell_type": "markdown",
   "id": "5dfecdf3-1493-4090-bf48-26be498c3f57",
   "metadata": {
    "tags": []
   },
   "source": [
    "## Vectors"
   ]
  },
  {
   "cell_type": "code",
   "execution_count": 414,
   "id": "f287e3eb-b361-4665-856e-7d7f0f6d75ac",
   "metadata": {},
   "outputs": [
    {
     "data": {
      "text/html": [
       "<ol class=list-inline>\n",
       "\t<li>13</li>\n",
       "\t<li>9</li>\n",
       "\t<li>6</li>\n",
       "\t<li>16</li>\n",
       "\t<li>12</li>\n",
       "\t<li>19</li>\n",
       "\t<li>8</li>\n",
       "\t<li>11</li>\n",
       "\t<li>7</li>\n",
       "\t<li>17</li>\n",
       "</ol>\n"
      ],
      "text/latex": [
       "\\begin{enumerate*}\n",
       "\\item 13\n",
       "\\item 9\n",
       "\\item 6\n",
       "\\item 16\n",
       "\\item 12\n",
       "\\item 19\n",
       "\\item 8\n",
       "\\item 11\n",
       "\\item 7\n",
       "\\item 17\n",
       "\\end{enumerate*}\n"
      ],
      "text/markdown": [
       "1. 13\n",
       "2. 9\n",
       "3. 6\n",
       "4. 16\n",
       "5. 12\n",
       "6. 19\n",
       "7. 8\n",
       "8. 11\n",
       "9. 7\n",
       "10. 17\n",
       "\n",
       "\n"
      ],
      "text/plain": [
       " [1] 13  9  6 16 12 19  8 11  7 17"
      ]
     },
     "metadata": {},
     "output_type": "display_data"
    }
   ],
   "source": [
    "sample(5:20, 10)"
   ]
  },
  {
   "cell_type": "code",
   "execution_count": 415,
   "id": "b892f88c-bb0c-41a4-9b1f-f4770ad91b3d",
   "metadata": {},
   "outputs": [
    {
     "data": {
      "text/html": [
       "'function'"
      ],
      "text/latex": [
       "'function'"
      ],
      "text/markdown": [
       "'function'"
      ],
      "text/plain": [
       "[1] \"function\""
      ]
     },
     "metadata": {},
     "output_type": "display_data"
    }
   ],
   "source": [
    "class(sample)"
   ]
  },
  {
   "cell_type": "code",
   "execution_count": 416,
   "id": "27356da1-39f9-49ec-a685-6251f184c3cc",
   "metadata": {
    "tags": []
   },
   "outputs": [
    {
     "data": {
      "text/html": [
       "<ol class=list-inline>\n",
       "\t<li>'A'</li>\n",
       "\t<li>'B'</li>\n",
       "\t<li>'C'</li>\n",
       "</ol>\n"
      ],
      "text/latex": [
       "\\begin{enumerate*}\n",
       "\\item 'A'\n",
       "\\item 'B'\n",
       "\\item 'C'\n",
       "\\end{enumerate*}\n"
      ],
      "text/markdown": [
       "1. 'A'\n",
       "2. 'B'\n",
       "3. 'C'\n",
       "\n",
       "\n"
      ],
      "text/plain": [
       "[1] \"A\" \"B\" \"C\""
      ]
     },
     "metadata": {},
     "output_type": "display_data"
    }
   ],
   "source": [
    "letters <-c('A','B','C')\n",
    "letters"
   ]
  },
  {
   "cell_type": "code",
   "execution_count": 417,
   "id": "45a09229-83e3-41ff-8708-9b496bcaaded",
   "metadata": {},
   "outputs": [],
   "source": [
    "nums <-c(2,4,6)"
   ]
  },
  {
   "cell_type": "code",
   "execution_count": 418,
   "id": "eb89a298-1a06-4400-bb8b-48439427d83f",
   "metadata": {},
   "outputs": [
    {
     "data": {
      "text/html": [
       "'character'"
      ],
      "text/latex": [
       "'character'"
      ],
      "text/markdown": [
       "'character'"
      ],
      "text/plain": [
       "[1] \"character\""
      ]
     },
     "metadata": {},
     "output_type": "display_data"
    }
   ],
   "source": [
    "class(letters)"
   ]
  },
  {
   "cell_type": "code",
   "execution_count": 419,
   "id": "666c5dc8-d2e3-4700-8bbe-a5bbfa36a43e",
   "metadata": {},
   "outputs": [
    {
     "data": {
      "text/html": [
       "'character'"
      ],
      "text/latex": [
       "'character'"
      ],
      "text/markdown": [
       "'character'"
      ],
      "text/plain": [
       "[1] \"character\""
      ]
     },
     "metadata": {},
     "output_type": "display_data"
    }
   ],
   "source": [
    "mix <-c(2,'A',TRUE)\n",
    "class(mix)"
   ]
  },
  {
   "cell_type": "code",
   "execution_count": 420,
   "id": "060d7c55-8f4c-431e-945a-6903ee400d26",
   "metadata": {},
   "outputs": [
    {
     "data": {
      "text/html": [
       "'numeric'"
      ],
      "text/latex": [
       "'numeric'"
      ],
      "text/markdown": [
       "'numeric'"
      ],
      "text/plain": [
       "[1] \"numeric\""
      ]
     },
     "metadata": {},
     "output_type": "display_data"
    }
   ],
   "source": [
    "mix2 <-c(2,TRUE)\n",
    "class(mix2)"
   ]
  },
  {
   "cell_type": "code",
   "execution_count": 421,
   "id": "e791426d-fc29-4583-b9e9-c2fd5f5ca562",
   "metadata": {},
   "outputs": [
    {
     "data": {
      "text/html": [
       "<table>\n",
       "<thead><tr><th scope=col>letters</th><th scope=col>mix</th></tr></thead>\n",
       "<tbody>\n",
       "\t<tr><td>A   </td><td>2   </td></tr>\n",
       "\t<tr><td>B   </td><td>A   </td></tr>\n",
       "\t<tr><td>C   </td><td>TRUE</td></tr>\n",
       "</tbody>\n",
       "</table>\n"
      ],
      "text/latex": [
       "\\begin{tabular}{r|ll}\n",
       " letters & mix\\\\\n",
       "\\hline\n",
       "\t A    & 2   \\\\\n",
       "\t B    & A   \\\\\n",
       "\t C    & TRUE\\\\\n",
       "\\end{tabular}\n"
      ],
      "text/markdown": [
       "\n",
       "| letters | mix |\n",
       "|---|---|\n",
       "| A    | 2    |\n",
       "| B    | A    |\n",
       "| C    | TRUE |\n",
       "\n"
      ],
      "text/plain": [
       "  letters mix \n",
       "1 A       2   \n",
       "2 B       A   \n",
       "3 C       TRUE"
      ]
     },
     "metadata": {},
     "output_type": "display_data"
    }
   ],
   "source": [
    "df <- data.frame(letters,mix)\n",
    "df"
   ]
  },
  {
   "cell_type": "code",
   "execution_count": 422,
   "id": "c2e7fe1b-bf7a-4e34-9a0a-6e5f169ed2b4",
   "metadata": {},
   "outputs": [
    {
     "data": {
      "text/html": [
       "<table>\n",
       "<thead><tr><th scope=col>letters</th><th scope=col>nums</th></tr></thead>\n",
       "<tbody>\n",
       "\t<tr><td>A</td><td>2</td></tr>\n",
       "\t<tr><td>B</td><td>4</td></tr>\n",
       "\t<tr><td>C</td><td>6</td></tr>\n",
       "</tbody>\n",
       "</table>\n"
      ],
      "text/latex": [
       "\\begin{tabular}{r|ll}\n",
       " letters & nums\\\\\n",
       "\\hline\n",
       "\t A & 2\\\\\n",
       "\t B & 4\\\\\n",
       "\t C & 6\\\\\n",
       "\\end{tabular}\n"
      ],
      "text/markdown": [
       "\n",
       "| letters | nums |\n",
       "|---|---|\n",
       "| A | 2 |\n",
       "| B | 4 |\n",
       "| C | 6 |\n",
       "\n"
      ],
      "text/plain": [
       "  letters nums\n",
       "1 A       2   \n",
       "2 B       4   \n",
       "3 C       6   "
      ]
     },
     "metadata": {},
     "output_type": "display_data"
    }
   ],
   "source": [
    "df2 <- data.frame(letters,nums)\n",
    "df2"
   ]
  },
  {
   "cell_type": "code",
   "execution_count": 423,
   "id": "02aef3be-afff-4757-aa25-445b66194086",
   "metadata": {
    "tags": []
   },
   "outputs": [
    {
     "data": {
      "text/html": [
       "<ol class=list-inline>\n",
       "\t<li>3</li>\n",
       "\t<li>4</li>\n",
       "\t<li>5</li>\n",
       "\t<li>6</li>\n",
       "\t<li>7</li>\n",
       "\t<li>8</li>\n",
       "\t<li>9</li>\n",
       "\t<li>10</li>\n",
       "\t<li>11</li>\n",
       "\t<li>12</li>\n",
       "</ol>\n"
      ],
      "text/latex": [
       "\\begin{enumerate*}\n",
       "\\item 3\n",
       "\\item 4\n",
       "\\item 5\n",
       "\\item 6\n",
       "\\item 7\n",
       "\\item 8\n",
       "\\item 9\n",
       "\\item 10\n",
       "\\item 11\n",
       "\\item 12\n",
       "\\end{enumerate*}\n"
      ],
      "text/markdown": [
       "1. 3\n",
       "2. 4\n",
       "3. 5\n",
       "4. 6\n",
       "5. 7\n",
       "6. 8\n",
       "7. 9\n",
       "8. 10\n",
       "9. 11\n",
       "10. 12\n",
       "\n",
       "\n"
      ],
      "text/plain": [
       " [1]  3  4  5  6  7  8  9 10 11 12"
      ]
     },
     "metadata": {},
     "output_type": "display_data"
    }
   ],
   "source": [
    "y=c(3:12)\n",
    "y"
   ]
  },
  {
   "cell_type": "code",
   "execution_count": 424,
   "id": "28e5d4d7-6ca0-46e6-8e36-53d16f5263cf",
   "metadata": {},
   "outputs": [
    {
     "data": {
      "text/html": [
       "'integer'"
      ],
      "text/latex": [
       "'integer'"
      ],
      "text/markdown": [
       "'integer'"
      ],
      "text/plain": [
       "[1] \"integer\""
      ]
     },
     "metadata": {},
     "output_type": "display_data"
    }
   ],
   "source": [
    "class(y)"
   ]
  },
  {
   "cell_type": "code",
   "execution_count": 425,
   "id": "e2ada072-9e30-4b90-85ce-5afc59e28d93",
   "metadata": {},
   "outputs": [
    {
     "data": {
      "text/html": [
       "<ol class=list-inline>\n",
       "\t<li>2</li>\n",
       "\t<li>2</li>\n",
       "\t<li>2</li>\n",
       "\t<li>2</li>\n",
       "\t<li>2</li>\n",
       "\t<li>2</li>\n",
       "\t<li>2</li>\n",
       "\t<li>2</li>\n",
       "\t<li>2</li>\n",
       "\t<li>2</li>\n",
       "</ol>\n"
      ],
      "text/latex": [
       "\\begin{enumerate*}\n",
       "\\item 2\n",
       "\\item 2\n",
       "\\item 2\n",
       "\\item 2\n",
       "\\item 2\n",
       "\\item 2\n",
       "\\item 2\n",
       "\\item 2\n",
       "\\item 2\n",
       "\\item 2\n",
       "\\end{enumerate*}\n"
      ],
      "text/markdown": [
       "1. 2\n",
       "2. 2\n",
       "3. 2\n",
       "4. 2\n",
       "5. 2\n",
       "6. 2\n",
       "7. 2\n",
       "8. 2\n",
       "9. 2\n",
       "10. 2\n",
       "\n",
       "\n"
      ],
      "text/plain": [
       " [1] 2 2 2 2 2 2 2 2 2 2"
      ]
     },
     "metadata": {},
     "output_type": "display_data"
    }
   ],
   "source": [
    "y=rep(2,10)\n",
    "y"
   ]
  },
  {
   "cell_type": "code",
   "execution_count": 426,
   "id": "3b5033d7-5160-414e-9c51-dc4305098d19",
   "metadata": {},
   "outputs": [
    {
     "data": {
      "text/html": [
       "<ol class=list-inline>\n",
       "\t<li>2</li>\n",
       "\t<li>1.9</li>\n",
       "\t<li>1.8</li>\n",
       "\t<li>1.7</li>\n",
       "\t<li>1.6</li>\n",
       "\t<li>1.5</li>\n",
       "\t<li>1.4</li>\n",
       "\t<li>1.3</li>\n",
       "\t<li>1.2</li>\n",
       "\t<li>1.1</li>\n",
       "\t<li>1</li>\n",
       "</ol>\n"
      ],
      "text/latex": [
       "\\begin{enumerate*}\n",
       "\\item 2\n",
       "\\item 1.9\n",
       "\\item 1.8\n",
       "\\item 1.7\n",
       "\\item 1.6\n",
       "\\item 1.5\n",
       "\\item 1.4\n",
       "\\item 1.3\n",
       "\\item 1.2\n",
       "\\item 1.1\n",
       "\\item 1\n",
       "\\end{enumerate*}\n"
      ],
      "text/markdown": [
       "1. 2\n",
       "2. 1.9\n",
       "3. 1.8\n",
       "4. 1.7\n",
       "5. 1.6\n",
       "6. 1.5\n",
       "7. 1.4\n",
       "8. 1.3\n",
       "9. 1.2\n",
       "10. 1.1\n",
       "11. 1\n",
       "\n",
       "\n"
      ],
      "text/plain": [
       " [1] 2.0 1.9 1.8 1.7 1.6 1.5 1.4 1.3 1.2 1.1 1.0"
      ]
     },
     "metadata": {},
     "output_type": "display_data"
    }
   ],
   "source": [
    "z=seq(from=2,to=1,by=-0.1)\n",
    "z"
   ]
  },
  {
   "cell_type": "code",
   "execution_count": 427,
   "id": "83dd7614-0b02-4fb8-97ba-e6a14d418ae9",
   "metadata": {},
   "outputs": [
    {
     "data": {
      "text/html": [
       "<ol class=list-inline>\n",
       "\t<li>2</li>\n",
       "\t<li>1.9</li>\n",
       "\t<li>1.8</li>\n",
       "\t<li>1.7</li>\n",
       "\t<li>1.6</li>\n",
       "\t<li>1.5</li>\n",
       "\t<li>1.4</li>\n",
       "\t<li>1.3</li>\n",
       "\t<li>1.2</li>\n",
       "\t<li>1.1</li>\n",
       "\t<li>1</li>\n",
       "</ol>\n"
      ],
      "text/latex": [
       "\\begin{enumerate*}\n",
       "\\item 2\n",
       "\\item 1.9\n",
       "\\item 1.8\n",
       "\\item 1.7\n",
       "\\item 1.6\n",
       "\\item 1.5\n",
       "\\item 1.4\n",
       "\\item 1.3\n",
       "\\item 1.2\n",
       "\\item 1.1\n",
       "\\item 1\n",
       "\\end{enumerate*}\n"
      ],
      "text/markdown": [
       "1. 2\n",
       "2. 1.9\n",
       "3. 1.8\n",
       "4. 1.7\n",
       "5. 1.6\n",
       "6. 1.5\n",
       "7. 1.4\n",
       "8. 1.3\n",
       "9. 1.2\n",
       "10. 1.1\n",
       "11. 1\n",
       "\n",
       "\n"
      ],
      "text/plain": [
       " [1] 2.0 1.9 1.8 1.7 1.6 1.5 1.4 1.3 1.2 1.1 1.0"
      ]
     },
     "metadata": {},
     "output_type": "display_data"
    }
   ],
   "source": [
    "z=seq(2,1,-0.1)\n",
    "z"
   ]
  },
  {
   "cell_type": "markdown",
   "id": "76756098-2c5d-42a2-a5a7-2b7c9fc0b04c",
   "metadata": {
    "tags": []
   },
   "source": [
    "### Accessing vectors and elements"
   ]
  },
  {
   "cell_type": "markdown",
   "id": "3900279b-5a14-43b2-b1cb-6e35bf216aee",
   "metadata": {},
   "source": [
    "### Using conditions"
   ]
  },
  {
   "cell_type": "markdown",
   "id": "197be1cf-b0a3-4954-90ac-7bcf95b48848",
   "metadata": {},
   "source": [
    "a <- 3\n",
    "b <- 8\n",
    "\n",
    "a == b     # Check if a equals b\n",
    "a > b      # Check if a is greater than b\n",
    "a < b      # Check if a is less than b\n",
    "a >= b     # Check if a is equal to or greater than b\n",
    "a <= b     # Check if a is equal to or less than b\n",
    "a != b     # Check if a is not equal to b\n",
    "is.na(a)   # Check if a is NA\n",
    "a %in% c(1, 4, 9) # Check if a equals at least one of 1, 4, 9"
   ]
  },
  {
   "cell_type": "code",
   "execution_count": 428,
   "id": "b5a8d005-0c53-4139-bffc-8f742fa62e7f",
   "metadata": {},
   "outputs": [
    {
     "data": {
      "text/html": [
       "97"
      ],
      "text/latex": [
       "97"
      ],
      "text/markdown": [
       "97"
      ],
      "text/plain": [
       "[1] 97"
      ]
     },
     "metadata": {},
     "output_type": "display_data"
    }
   ],
   "source": [
    "max(airquality$Temp)"
   ]
  },
  {
   "cell_type": "markdown",
   "id": "28fb82a3-1a17-4a0e-95e1-9240d5b81212",
   "metadata": {},
   "source": [
    "`which.max` returns the index "
   ]
  },
  {
   "cell_type": "code",
   "execution_count": 429,
   "id": "90bfadaa-26d2-4740-9142-7607aba949d1",
   "metadata": {},
   "outputs": [
    {
     "data": {
      "text/html": [
       "120"
      ],
      "text/latex": [
       "120"
      ],
      "text/markdown": [
       "120"
      ],
      "text/plain": [
       "[1] 120"
      ]
     },
     "metadata": {},
     "output_type": "display_data"
    }
   ],
   "source": [
    "which.max(airquality$Temp)"
   ]
  },
  {
   "cell_type": "code",
   "execution_count": 430,
   "id": "2e9a40c1-379d-4815-af57-7406b2383c6e",
   "metadata": {},
   "outputs": [
    {
     "data": {
      "text/html": [
       "<table>\n",
       "<thead><tr><th></th><th scope=col>Ozone</th><th scope=col>Solar.R</th><th scope=col>Wind</th><th scope=col>Temp</th><th scope=col>Month</th><th scope=col>Day</th><th scope=col>Hot</th></tr></thead>\n",
       "<tbody>\n",
       "\t<tr><th scope=row>120</th><td>76  </td><td>203 </td><td>9.7 </td><td>97  </td><td>8   </td><td>28  </td><td>TRUE</td></tr>\n",
       "</tbody>\n",
       "</table>\n"
      ],
      "text/latex": [
       "\\begin{tabular}{r|lllllll}\n",
       "  & Ozone & Solar.R & Wind & Temp & Month & Day & Hot\\\\\n",
       "\\hline\n",
       "\t120 & 76   & 203  & 9.7  & 97   & 8    & 28   & TRUE\\\\\n",
       "\\end{tabular}\n"
      ],
      "text/markdown": [
       "\n",
       "| <!--/--> | Ozone | Solar.R | Wind | Temp | Month | Day | Hot |\n",
       "|---|---|---|---|---|---|---|---|\n",
       "| 120 | 76   | 203  | 9.7  | 97   | 8    | 28   | TRUE |\n",
       "\n"
      ],
      "text/plain": [
       "    Ozone Solar.R Wind Temp Month Day Hot \n",
       "120 76    203     9.7  97   8     28  TRUE"
      ]
     },
     "metadata": {},
     "output_type": "display_data"
    }
   ],
   "source": [
    "airquality[120,]"
   ]
  },
  {
   "cell_type": "code",
   "execution_count": 431,
   "id": "b9141c3c-cf12-4ac7-8580-c2c05af41452",
   "metadata": {},
   "outputs": [
    {
     "data": {
      "text/html": [
       "<table>\n",
       "<thead><tr><th></th><th scope=col>Ozone</th><th scope=col>Solar.R</th><th scope=col>Wind</th><th scope=col>Temp</th><th scope=col>Month</th><th scope=col>Day</th><th scope=col>Hot</th></tr></thead>\n",
       "<tbody>\n",
       "\t<tr><th scope=row>120</th><td>76  </td><td>203 </td><td>9.7 </td><td>97  </td><td>8   </td><td>28  </td><td>TRUE</td></tr>\n",
       "</tbody>\n",
       "</table>\n"
      ],
      "text/latex": [
       "\\begin{tabular}{r|lllllll}\n",
       "  & Ozone & Solar.R & Wind & Temp & Month & Day & Hot\\\\\n",
       "\\hline\n",
       "\t120 & 76   & 203  & 9.7  & 97   & 8    & 28   & TRUE\\\\\n",
       "\\end{tabular}\n"
      ],
      "text/markdown": [
       "\n",
       "| <!--/--> | Ozone | Solar.R | Wind | Temp | Month | Day | Hot |\n",
       "|---|---|---|---|---|---|---|---|\n",
       "| 120 | 76   | 203  | 9.7  | 97   | 8    | 28   | TRUE |\n",
       "\n"
      ],
      "text/plain": [
       "    Ozone Solar.R Wind Temp Month Day Hot \n",
       "120 76    203     9.7  97   8     28  TRUE"
      ]
     },
     "metadata": {},
     "output_type": "display_data"
    }
   ],
   "source": [
    "airquality[which.max(airquality$Temp),]"
   ]
  },
  {
   "cell_type": "code",
   "execution_count": 432,
   "id": "f82a484b-1e97-4356-877a-9567b6570e8e",
   "metadata": {},
   "outputs": [
    {
     "data": {
      "text/html": [
       "<ol class=list-inline>\n",
       "\t<li>FALSE</li>\n",
       "\t<li>FALSE</li>\n",
       "\t<li>FALSE</li>\n",
       "\t<li>FALSE</li>\n",
       "\t<li>FALSE</li>\n",
       "\t<li>FALSE</li>\n",
       "</ol>\n"
      ],
      "text/latex": [
       "\\begin{enumerate*}\n",
       "\\item FALSE\n",
       "\\item FALSE\n",
       "\\item FALSE\n",
       "\\item FALSE\n",
       "\\item FALSE\n",
       "\\item FALSE\n",
       "\\end{enumerate*}\n"
      ],
      "text/markdown": [
       "1. FALSE\n",
       "2. FALSE\n",
       "3. FALSE\n",
       "4. FALSE\n",
       "5. FALSE\n",
       "6. FALSE\n",
       "\n",
       "\n"
      ],
      "text/plain": [
       "[1] FALSE FALSE FALSE FALSE FALSE FALSE"
      ]
     },
     "metadata": {},
     "output_type": "display_data"
    }
   ],
   "source": [
    "head(airquality$Temp > 90)"
   ]
  },
  {
   "cell_type": "code",
   "execution_count": 433,
   "id": "b4700b0a-6088-438a-a93f-e3a2441efdb5",
   "metadata": {},
   "outputs": [
    {
     "data": {
      "text/html": [
       "<ol class=list-inline>\n",
       "\t<li>67</li>\n",
       "\t<li>72</li>\n",
       "\t<li>74</li>\n",
       "\t<li>62</li>\n",
       "\t<li>56</li>\n",
       "\t<li>66</li>\n",
       "</ol>\n"
      ],
      "text/latex": [
       "\\begin{enumerate*}\n",
       "\\item 67\n",
       "\\item 72\n",
       "\\item 74\n",
       "\\item 62\n",
       "\\item 56\n",
       "\\item 66\n",
       "\\end{enumerate*}\n"
      ],
      "text/markdown": [
       "1. 67\n",
       "2. 72\n",
       "3. 74\n",
       "4. 62\n",
       "5. 56\n",
       "6. 66\n",
       "\n",
       "\n"
      ],
      "text/plain": [
       "[1] 67 72 74 62 56 66"
      ]
     },
     "metadata": {},
     "output_type": "display_data"
    }
   ],
   "source": [
    "head(airquality$Temp) "
   ]
  },
  {
   "cell_type": "code",
   "execution_count": 434,
   "id": "4e02c367-ab3e-4cde-b6dc-def920ee423e",
   "metadata": {},
   "outputs": [
    {
     "data": {
      "text/html": [
       "<table>\n",
       "<thead><tr><th></th><th scope=col>Ozone</th><th scope=col>Solar.R</th><th scope=col>Wind</th><th scope=col>Temp</th><th scope=col>Month</th><th scope=col>Day</th><th scope=col>Hot</th></tr></thead>\n",
       "<tbody>\n",
       "\t<tr><th scope=row>42</th><td> NA </td><td>259 </td><td>10.9</td><td>93  </td><td>6   </td><td>11  </td><td>TRUE</td></tr>\n",
       "\t<tr><th scope=row>43</th><td> NA </td><td>250 </td><td> 9.2</td><td>92  </td><td>6   </td><td>12  </td><td>TRUE</td></tr>\n",
       "\t<tr><th scope=row>69</th><td> 97 </td><td>267 </td><td> 6.3</td><td>92  </td><td>7   </td><td> 8  </td><td>TRUE</td></tr>\n",
       "\t<tr><th scope=row>70</th><td> 97 </td><td>272 </td><td> 5.7</td><td>92  </td><td>7   </td><td> 9  </td><td>TRUE</td></tr>\n",
       "\t<tr><th scope=row>75</th><td> NA </td><td>291 </td><td>14.9</td><td>91  </td><td>7   </td><td>14  </td><td>TRUE</td></tr>\n",
       "\t<tr><th scope=row>102</th><td> NA </td><td>222 </td><td> 8.6</td><td>92  </td><td>8   </td><td>10  </td><td>TRUE</td></tr>\n",
       "\t<tr><th scope=row>120</th><td> 76 </td><td>203 </td><td> 9.7</td><td>97  </td><td>8   </td><td>28  </td><td>TRUE</td></tr>\n",
       "\t<tr><th scope=row>121</th><td>118 </td><td>225 </td><td> 2.3</td><td>94  </td><td>8   </td><td>29  </td><td>TRUE</td></tr>\n",
       "\t<tr><th scope=row>122</th><td> 84 </td><td>237 </td><td> 6.3</td><td>96  </td><td>8   </td><td>30  </td><td>TRUE</td></tr>\n",
       "\t<tr><th scope=row>123</th><td> 85 </td><td>188 </td><td> 6.3</td><td>94  </td><td>8   </td><td>31  </td><td>TRUE</td></tr>\n",
       "\t<tr><th scope=row>124</th><td> 96 </td><td>167 </td><td> 6.9</td><td>91  </td><td>9   </td><td> 1  </td><td>TRUE</td></tr>\n",
       "\t<tr><th scope=row>125</th><td> 78 </td><td>197 </td><td> 5.1</td><td>92  </td><td>9   </td><td> 2  </td><td>TRUE</td></tr>\n",
       "\t<tr><th scope=row>126</th><td> 73 </td><td>183 </td><td> 2.8</td><td>93  </td><td>9   </td><td> 3  </td><td>TRUE</td></tr>\n",
       "\t<tr><th scope=row>127</th><td> 91 </td><td>189 </td><td> 4.6</td><td>93  </td><td>9   </td><td> 4  </td><td>TRUE</td></tr>\n",
       "</tbody>\n",
       "</table>\n"
      ],
      "text/latex": [
       "\\begin{tabular}{r|lllllll}\n",
       "  & Ozone & Solar.R & Wind & Temp & Month & Day & Hot\\\\\n",
       "\\hline\n",
       "\t42 &  NA  & 259  & 10.9 & 93   & 6    & 11   & TRUE\\\\\n",
       "\t43 &  NA  & 250  &  9.2 & 92   & 6    & 12   & TRUE\\\\\n",
       "\t69 &  97  & 267  &  6.3 & 92   & 7    &  8   & TRUE\\\\\n",
       "\t70 &  97  & 272  &  5.7 & 92   & 7    &  9   & TRUE\\\\\n",
       "\t75 &  NA  & 291  & 14.9 & 91   & 7    & 14   & TRUE\\\\\n",
       "\t102 &  NA  & 222  &  8.6 & 92   & 8    & 10   & TRUE\\\\\n",
       "\t120 &  76  & 203  &  9.7 & 97   & 8    & 28   & TRUE\\\\\n",
       "\t121 & 118  & 225  &  2.3 & 94   & 8    & 29   & TRUE\\\\\n",
       "\t122 &  84  & 237  &  6.3 & 96   & 8    & 30   & TRUE\\\\\n",
       "\t123 &  85  & 188  &  6.3 & 94   & 8    & 31   & TRUE\\\\\n",
       "\t124 &  96  & 167  &  6.9 & 91   & 9    &  1   & TRUE\\\\\n",
       "\t125 &  78  & 197  &  5.1 & 92   & 9    &  2   & TRUE\\\\\n",
       "\t126 &  73  & 183  &  2.8 & 93   & 9    &  3   & TRUE\\\\\n",
       "\t127 &  91  & 189  &  4.6 & 93   & 9    &  4   & TRUE\\\\\n",
       "\\end{tabular}\n"
      ],
      "text/markdown": [
       "\n",
       "| <!--/--> | Ozone | Solar.R | Wind | Temp | Month | Day | Hot |\n",
       "|---|---|---|---|---|---|---|---|\n",
       "| 42 |  NA  | 259  | 10.9 | 93   | 6    | 11   | TRUE |\n",
       "| 43 |  NA  | 250  |  9.2 | 92   | 6    | 12   | TRUE |\n",
       "| 69 |  97  | 267  |  6.3 | 92   | 7    |  8   | TRUE |\n",
       "| 70 |  97  | 272  |  5.7 | 92   | 7    |  9   | TRUE |\n",
       "| 75 |  NA  | 291  | 14.9 | 91   | 7    | 14   | TRUE |\n",
       "| 102 |  NA  | 222  |  8.6 | 92   | 8    | 10   | TRUE |\n",
       "| 120 |  76  | 203  |  9.7 | 97   | 8    | 28   | TRUE |\n",
       "| 121 | 118  | 225  |  2.3 | 94   | 8    | 29   | TRUE |\n",
       "| 122 |  84  | 237  |  6.3 | 96   | 8    | 30   | TRUE |\n",
       "| 123 |  85  | 188  |  6.3 | 94   | 8    | 31   | TRUE |\n",
       "| 124 |  96  | 167  |  6.9 | 91   | 9    |  1   | TRUE |\n",
       "| 125 |  78  | 197  |  5.1 | 92   | 9    |  2   | TRUE |\n",
       "| 126 |  73  | 183  |  2.8 | 93   | 9    |  3   | TRUE |\n",
       "| 127 |  91  | 189  |  4.6 | 93   | 9    |  4   | TRUE |\n",
       "\n"
      ],
      "text/plain": [
       "    Ozone Solar.R Wind Temp Month Day Hot \n",
       "42   NA   259     10.9 93   6     11  TRUE\n",
       "43   NA   250      9.2 92   6     12  TRUE\n",
       "69   97   267      6.3 92   7      8  TRUE\n",
       "70   97   272      5.7 92   7      9  TRUE\n",
       "75   NA   291     14.9 91   7     14  TRUE\n",
       "102  NA   222      8.6 92   8     10  TRUE\n",
       "120  76   203      9.7 97   8     28  TRUE\n",
       "121 118   225      2.3 94   8     29  TRUE\n",
       "122  84   237      6.3 96   8     30  TRUE\n",
       "123  85   188      6.3 94   8     31  TRUE\n",
       "124  96   167      6.9 91   9      1  TRUE\n",
       "125  78   197      5.1 92   9      2  TRUE\n",
       "126  73   183      2.8 93   9      3  TRUE\n",
       "127  91   189      4.6 93   9      4  TRUE"
      ]
     },
     "metadata": {},
     "output_type": "display_data"
    }
   ],
   "source": [
    "airquality[airquality$Temp > 90, ]"
   ]
  },
  {
   "cell_type": "code",
   "execution_count": 435,
   "id": "974002fb-17f3-459e-8f20-1e467ab4b03c",
   "metadata": {},
   "outputs": [],
   "source": [
    "airquality$Hot <- airquality$Temp > 90"
   ]
  },
  {
   "cell_type": "code",
   "execution_count": 436,
   "id": "ae70cbaf-7b17-4cbd-b3a0-0b12a2490fe9",
   "metadata": {},
   "outputs": [
    {
     "data": {
      "text/html": [
       "<table>\n",
       "<thead><tr><th scope=col>Ozone</th><th scope=col>Solar.R</th><th scope=col>Wind</th><th scope=col>Temp</th><th scope=col>Month</th><th scope=col>Day</th><th scope=col>Hot</th></tr></thead>\n",
       "<tbody>\n",
       "\t<tr><td>41   </td><td>190  </td><td> 7.4 </td><td>67   </td><td>5    </td><td>1    </td><td>FALSE</td></tr>\n",
       "\t<tr><td>36   </td><td>118  </td><td> 8.0 </td><td>72   </td><td>5    </td><td>2    </td><td>FALSE</td></tr>\n",
       "\t<tr><td>12   </td><td>149  </td><td>12.6 </td><td>74   </td><td>5    </td><td>3    </td><td>FALSE</td></tr>\n",
       "\t<tr><td>18   </td><td>313  </td><td>11.5 </td><td>62   </td><td>5    </td><td>4    </td><td>FALSE</td></tr>\n",
       "\t<tr><td>NA   </td><td> NA  </td><td>14.3 </td><td>56   </td><td>5    </td><td>5    </td><td>FALSE</td></tr>\n",
       "\t<tr><td>28   </td><td> NA  </td><td>14.9 </td><td>66   </td><td>5    </td><td>6    </td><td>FALSE</td></tr>\n",
       "</tbody>\n",
       "</table>\n"
      ],
      "text/latex": [
       "\\begin{tabular}{r|lllllll}\n",
       " Ozone & Solar.R & Wind & Temp & Month & Day & Hot\\\\\n",
       "\\hline\n",
       "\t 41    & 190   &  7.4  & 67    & 5     & 1     & FALSE\\\\\n",
       "\t 36    & 118   &  8.0  & 72    & 5     & 2     & FALSE\\\\\n",
       "\t 12    & 149   & 12.6  & 74    & 5     & 3     & FALSE\\\\\n",
       "\t 18    & 313   & 11.5  & 62    & 5     & 4     & FALSE\\\\\n",
       "\t NA    &  NA   & 14.3  & 56    & 5     & 5     & FALSE\\\\\n",
       "\t 28    &  NA   & 14.9  & 66    & 5     & 6     & FALSE\\\\\n",
       "\\end{tabular}\n"
      ],
      "text/markdown": [
       "\n",
       "| Ozone | Solar.R | Wind | Temp | Month | Day | Hot |\n",
       "|---|---|---|---|---|---|---|\n",
       "| 41    | 190   |  7.4  | 67    | 5     | 1     | FALSE |\n",
       "| 36    | 118   |  8.0  | 72    | 5     | 2     | FALSE |\n",
       "| 12    | 149   | 12.6  | 74    | 5     | 3     | FALSE |\n",
       "| 18    | 313   | 11.5  | 62    | 5     | 4     | FALSE |\n",
       "| NA    |  NA   | 14.3  | 56    | 5     | 5     | FALSE |\n",
       "| 28    |  NA   | 14.9  | 66    | 5     | 6     | FALSE |\n",
       "\n"
      ],
      "text/plain": [
       "  Ozone Solar.R Wind Temp Month Day Hot  \n",
       "1 41    190      7.4 67   5     1   FALSE\n",
       "2 36    118      8.0 72   5     2   FALSE\n",
       "3 12    149     12.6 74   5     3   FALSE\n",
       "4 18    313     11.5 62   5     4   FALSE\n",
       "5 NA     NA     14.3 56   5     5   FALSE\n",
       "6 28     NA     14.9 66   5     6   FALSE"
      ]
     },
     "metadata": {},
     "output_type": "display_data"
    }
   ],
   "source": [
    "head(airquality)"
   ]
  },
  {
   "cell_type": "code",
   "execution_count": 437,
   "id": "70695a51-32d7-40e9-9eb0-963a972e02db",
   "metadata": {},
   "outputs": [
    {
     "data": {
      "text/html": [
       "FALSE"
      ],
      "text/latex": [
       "FALSE"
      ],
      "text/markdown": [
       "FALSE"
      ],
      "text/plain": [
       "[1] FALSE"
      ]
     },
     "metadata": {},
     "output_type": "display_data"
    }
   ],
   "source": [
    "all(airquality$Temp > 90)"
   ]
  },
  {
   "cell_type": "code",
   "execution_count": 438,
   "id": "a9f2cc5c-a7fa-4613-84bb-ae27c722483f",
   "metadata": {},
   "outputs": [
    {
     "data": {
      "text/html": [
       "TRUE"
      ],
      "text/latex": [
       "TRUE"
      ],
      "text/markdown": [
       "TRUE"
      ],
      "text/plain": [
       "[1] TRUE"
      ]
     },
     "metadata": {},
     "output_type": "display_data"
    }
   ],
   "source": [
    "any(airquality$Temp > 90)"
   ]
  },
  {
   "cell_type": "markdown",
   "id": "5266e1dc-767e-47e0-abf6-4d89685b6992",
   "metadata": {},
   "source": [
    "To find how many elements that fulfill a concdtion"
   ]
  },
  {
   "cell_type": "code",
   "execution_count": 439,
   "id": "581b9929-244f-4380-878e-a348935199c4",
   "metadata": {},
   "outputs": [
    {
     "data": {
      "text/html": [
       "14"
      ],
      "text/latex": [
       "14"
      ],
      "text/markdown": [
       "14"
      ],
      "text/plain": [
       "[1] 14"
      ]
     },
     "metadata": {},
     "output_type": "display_data"
    }
   ],
   "source": [
    "sum(airquality$Temp > 90)"
   ]
  },
  {
   "cell_type": "code",
   "execution_count": 440,
   "id": "f6d86b55-5fdf-40c4-b40e-be61611e2235",
   "metadata": {},
   "outputs": [
    {
     "data": {
      "text/html": [
       "56"
      ],
      "text/latex": [
       "56"
      ],
      "text/markdown": [
       "56"
      ],
      "text/plain": [
       "[1] 56"
      ]
     },
     "metadata": {},
     "output_type": "display_data"
    }
   ],
   "source": [
    "airquality$Temp[5]"
   ]
  },
  {
   "cell_type": "code",
   "execution_count": 441,
   "id": "a1d821b9-f11d-4fe2-9a5b-04eff5a627bb",
   "metadata": {},
   "outputs": [
    {
     "data": {
      "text/html": [
       "<ol class=list-inline>\n",
       "\t<li>'Ozone'</li>\n",
       "\t<li>'Solar.R'</li>\n",
       "\t<li>'Wind'</li>\n",
       "\t<li>'Temp'</li>\n",
       "\t<li>'Month'</li>\n",
       "\t<li>'Day'</li>\n",
       "\t<li>'Hot'</li>\n",
       "</ol>\n"
      ],
      "text/latex": [
       "\\begin{enumerate*}\n",
       "\\item 'Ozone'\n",
       "\\item 'Solar.R'\n",
       "\\item 'Wind'\n",
       "\\item 'Temp'\n",
       "\\item 'Month'\n",
       "\\item 'Day'\n",
       "\\item 'Hot'\n",
       "\\end{enumerate*}\n"
      ],
      "text/markdown": [
       "1. 'Ozone'\n",
       "2. 'Solar.R'\n",
       "3. 'Wind'\n",
       "4. 'Temp'\n",
       "5. 'Month'\n",
       "6. 'Day'\n",
       "7. 'Hot'\n",
       "\n",
       "\n"
      ],
      "text/plain": [
       "[1] \"Ozone\"   \"Solar.R\" \"Wind\"    \"Temp\"    \"Month\"   \"Day\"     \"Hot\"    "
      ]
     },
     "metadata": {},
     "output_type": "display_data"
    }
   ],
   "source": [
    "# First, we check the order of the columns:\n",
    "names(airquality)"
   ]
  },
  {
   "cell_type": "code",
   "execution_count": 442,
   "id": "1cacefde-be9c-4c37-b670-4daac883cf6c",
   "metadata": {},
   "outputs": [
    {
     "data": {
      "text/html": [
       "56"
      ],
      "text/latex": [
       "56"
      ],
      "text/markdown": [
       "56"
      ],
      "text/plain": [
       "[1] 56"
      ]
     },
     "metadata": {},
     "output_type": "display_data"
    }
   ],
   "source": [
    "airquality[5, 4]    # The 5th element from the 4th column,\n",
    "                    # i.e. the same as airquality$Temp[5]"
   ]
  },
  {
   "cell_type": "code",
   "execution_count": 443,
   "id": "99677eda-0b7c-4bed-ac2c-e90ef287fd05",
   "metadata": {},
   "outputs": [
    {
     "data": {
      "text/html": [
       "<table>\n",
       "<thead><tr><th></th><th scope=col>Ozone</th><th scope=col>Solar.R</th><th scope=col>Wind</th><th scope=col>Temp</th><th scope=col>Month</th><th scope=col>Day</th><th scope=col>Hot</th></tr></thead>\n",
       "<tbody>\n",
       "\t<tr><th scope=row>5</th><td>NA   </td><td>NA   </td><td>14.3 </td><td>56   </td><td>5    </td><td>5    </td><td>FALSE</td></tr>\n",
       "</tbody>\n",
       "</table>\n"
      ],
      "text/latex": [
       "\\begin{tabular}{r|lllllll}\n",
       "  & Ozone & Solar.R & Wind & Temp & Month & Day & Hot\\\\\n",
       "\\hline\n",
       "\t5 & NA    & NA    & 14.3  & 56    & 5     & 5     & FALSE\\\\\n",
       "\\end{tabular}\n"
      ],
      "text/markdown": [
       "\n",
       "| <!--/--> | Ozone | Solar.R | Wind | Temp | Month | Day | Hot |\n",
       "|---|---|---|---|---|---|---|---|\n",
       "| 5 | NA    | NA    | 14.3  | 56    | 5     | 5     | FALSE |\n",
       "\n"
      ],
      "text/plain": [
       "  Ozone Solar.R Wind Temp Month Day Hot  \n",
       "5 NA    NA      14.3 56   5     5   FALSE"
      ]
     },
     "metadata": {},
     "output_type": "display_data"
    }
   ],
   "source": [
    "airquality[5,]      # The 5th row of the data"
   ]
  },
  {
   "cell_type": "code",
   "execution_count": 444,
   "id": "cbb50405-e7c0-4054-8c62-685c24bf439c",
   "metadata": {},
   "outputs": [
    {
     "data": {
      "text/html": [
       "<ol class=list-inline>\n",
       "\t<li>67</li>\n",
       "\t<li>72</li>\n",
       "\t<li>74</li>\n",
       "\t<li>62</li>\n",
       "\t<li>56</li>\n",
       "\t<li>66</li>\n",
       "</ol>\n"
      ],
      "text/latex": [
       "\\begin{enumerate*}\n",
       "\\item 67\n",
       "\\item 72\n",
       "\\item 74\n",
       "\\item 62\n",
       "\\item 56\n",
       "\\item 66\n",
       "\\end{enumerate*}\n"
      ],
      "text/markdown": [
       "1. 67\n",
       "2. 72\n",
       "3. 74\n",
       "4. 62\n",
       "5. 56\n",
       "6. 66\n",
       "\n",
       "\n"
      ],
      "text/plain": [
       "[1] 67 72 74 62 56 66"
      ]
     },
     "metadata": {},
     "output_type": "display_data"
    }
   ],
   "source": [
    "head(airquality[, 4])     # The 4th column of the data, like airquality$Temp"
   ]
  },
  {
   "cell_type": "code",
   "execution_count": 445,
   "id": "3946f4d0-2d5b-491d-9734-32cdb59702a3",
   "metadata": {},
   "outputs": [
    {
     "data": {
      "text/html": [
       "<ol class=list-inline>\n",
       "\t<li>67</li>\n",
       "\t<li>72</li>\n",
       "\t<li>74</li>\n",
       "\t<li>62</li>\n",
       "\t<li>56</li>\n",
       "\t<li>66</li>\n",
       "</ol>\n"
      ],
      "text/latex": [
       "\\begin{enumerate*}\n",
       "\\item 67\n",
       "\\item 72\n",
       "\\item 74\n",
       "\\item 62\n",
       "\\item 56\n",
       "\\item 66\n",
       "\\end{enumerate*}\n"
      ],
      "text/markdown": [
       "1. 67\n",
       "2. 72\n",
       "3. 74\n",
       "4. 62\n",
       "5. 56\n",
       "6. 66\n",
       "\n",
       "\n"
      ],
      "text/plain": [
       "[1] 67 72 74 62 56 66"
      ]
     },
     "metadata": {},
     "output_type": "display_data"
    }
   ],
   "source": [
    "head(airquality[[4]])   # The 4th column of the data, like airquality$Temp"
   ]
  },
  {
   "cell_type": "code",
   "execution_count": 446,
   "id": "0cb04b82-653a-4b9e-88cc-f35b1985efe4",
   "metadata": {},
   "outputs": [
    {
     "data": {
      "text/html": [
       "<table>\n",
       "<thead><tr><th scope=col>Solar.R</th><th scope=col>Temp</th><th scope=col>Day</th></tr></thead>\n",
       "<tbody>\n",
       "\t<tr><td>190</td><td>67 </td><td>1  </td></tr>\n",
       "\t<tr><td>118</td><td>72 </td><td>2  </td></tr>\n",
       "\t<tr><td>149</td><td>74 </td><td>3  </td></tr>\n",
       "\t<tr><td>313</td><td>62 </td><td>4  </td></tr>\n",
       "\t<tr><td> NA</td><td>56 </td><td>5  </td></tr>\n",
       "\t<tr><td> NA</td><td>66 </td><td>6  </td></tr>\n",
       "</tbody>\n",
       "</table>\n"
      ],
      "text/latex": [
       "\\begin{tabular}{r|lll}\n",
       " Solar.R & Temp & Day\\\\\n",
       "\\hline\n",
       "\t 190 & 67  & 1  \\\\\n",
       "\t 118 & 72  & 2  \\\\\n",
       "\t 149 & 74  & 3  \\\\\n",
       "\t 313 & 62  & 4  \\\\\n",
       "\t  NA & 56  & 5  \\\\\n",
       "\t  NA & 66  & 6  \\\\\n",
       "\\end{tabular}\n"
      ],
      "text/markdown": [
       "\n",
       "| Solar.R | Temp | Day |\n",
       "|---|---|---|\n",
       "| 190 | 67  | 1   |\n",
       "| 118 | 72  | 2   |\n",
       "| 149 | 74  | 3   |\n",
       "| 313 | 62  | 4   |\n",
       "|  NA | 56  | 5   |\n",
       "|  NA | 66  | 6   |\n",
       "\n"
      ],
      "text/plain": [
       "  Solar.R Temp Day\n",
       "1 190     67   1  \n",
       "2 118     72   2  \n",
       "3 149     74   3  \n",
       "4 313     62   4  \n",
       "5  NA     56   5  \n",
       "6  NA     66   6  "
      ]
     },
     "metadata": {},
     "output_type": "display_data"
    }
   ],
   "source": [
    "head(airquality[, c(2, 4, 6)] )# The 2nd, 4th and 6th columns of the data"
   ]
  },
  {
   "cell_type": "code",
   "execution_count": 447,
   "id": "cdc4e56a-2171-4f28-a225-18284d55120f",
   "metadata": {},
   "outputs": [
    {
     "data": {
      "text/html": [
       "<table>\n",
       "<thead><tr><th scope=col>Ozone</th><th scope=col>Wind</th><th scope=col>Temp</th><th scope=col>Month</th><th scope=col>Day</th><th scope=col>Hot</th></tr></thead>\n",
       "<tbody>\n",
       "\t<tr><td>41   </td><td> 7.4 </td><td>67   </td><td>5    </td><td>1    </td><td>FALSE</td></tr>\n",
       "\t<tr><td>36   </td><td> 8.0 </td><td>72   </td><td>5    </td><td>2    </td><td>FALSE</td></tr>\n",
       "\t<tr><td>12   </td><td>12.6 </td><td>74   </td><td>5    </td><td>3    </td><td>FALSE</td></tr>\n",
       "\t<tr><td>18   </td><td>11.5 </td><td>62   </td><td>5    </td><td>4    </td><td>FALSE</td></tr>\n",
       "\t<tr><td>NA   </td><td>14.3 </td><td>56   </td><td>5    </td><td>5    </td><td>FALSE</td></tr>\n",
       "\t<tr><td>28   </td><td>14.9 </td><td>66   </td><td>5    </td><td>6    </td><td>FALSE</td></tr>\n",
       "</tbody>\n",
       "</table>\n"
      ],
      "text/latex": [
       "\\begin{tabular}{r|llllll}\n",
       " Ozone & Wind & Temp & Month & Day & Hot\\\\\n",
       "\\hline\n",
       "\t 41    &  7.4  & 67    & 5     & 1     & FALSE\\\\\n",
       "\t 36    &  8.0  & 72    & 5     & 2     & FALSE\\\\\n",
       "\t 12    & 12.6  & 74    & 5     & 3     & FALSE\\\\\n",
       "\t 18    & 11.5  & 62    & 5     & 4     & FALSE\\\\\n",
       "\t NA    & 14.3  & 56    & 5     & 5     & FALSE\\\\\n",
       "\t 28    & 14.9  & 66    & 5     & 6     & FALSE\\\\\n",
       "\\end{tabular}\n"
      ],
      "text/markdown": [
       "\n",
       "| Ozone | Wind | Temp | Month | Day | Hot |\n",
       "|---|---|---|---|---|---|\n",
       "| 41    |  7.4  | 67    | 5     | 1     | FALSE |\n",
       "| 36    |  8.0  | 72    | 5     | 2     | FALSE |\n",
       "| 12    | 12.6  | 74    | 5     | 3     | FALSE |\n",
       "| 18    | 11.5  | 62    | 5     | 4     | FALSE |\n",
       "| NA    | 14.3  | 56    | 5     | 5     | FALSE |\n",
       "| 28    | 14.9  | 66    | 5     | 6     | FALSE |\n",
       "\n"
      ],
      "text/plain": [
       "  Ozone Wind Temp Month Day Hot  \n",
       "1 41     7.4 67   5     1   FALSE\n",
       "2 36     8.0 72   5     2   FALSE\n",
       "3 12    12.6 74   5     3   FALSE\n",
       "4 18    11.5 62   5     4   FALSE\n",
       "5 NA    14.3 56   5     5   FALSE\n",
       "6 28    14.9 66   5     6   FALSE"
      ]
     },
     "metadata": {},
     "output_type": "display_data"
    }
   ],
   "source": [
    "head(airquality[, -2] )   # All columns except the 2nd one"
   ]
  },
  {
   "cell_type": "code",
   "execution_count": 448,
   "id": "fa946ae6-e3fe-4f48-829e-8bdcbf0486ca",
   "metadata": {},
   "outputs": [
    {
     "data": {
      "text/html": [
       "<table>\n",
       "<thead><tr><th scope=col>Temp</th><th scope=col>Wind</th></tr></thead>\n",
       "<tbody>\n",
       "\t<tr><td>67  </td><td> 7.4</td></tr>\n",
       "\t<tr><td>72  </td><td> 8.0</td></tr>\n",
       "\t<tr><td>74  </td><td>12.6</td></tr>\n",
       "\t<tr><td>62  </td><td>11.5</td></tr>\n",
       "\t<tr><td>56  </td><td>14.3</td></tr>\n",
       "\t<tr><td>66  </td><td>14.9</td></tr>\n",
       "</tbody>\n",
       "</table>\n"
      ],
      "text/latex": [
       "\\begin{tabular}{r|ll}\n",
       " Temp & Wind\\\\\n",
       "\\hline\n",
       "\t 67   &  7.4\\\\\n",
       "\t 72   &  8.0\\\\\n",
       "\t 74   & 12.6\\\\\n",
       "\t 62   & 11.5\\\\\n",
       "\t 56   & 14.3\\\\\n",
       "\t 66   & 14.9\\\\\n",
       "\\end{tabular}\n"
      ],
      "text/markdown": [
       "\n",
       "| Temp | Wind |\n",
       "|---|---|\n",
       "| 67   |  7.4 |\n",
       "| 72   |  8.0 |\n",
       "| 74   | 12.6 |\n",
       "| 62   | 11.5 |\n",
       "| 56   | 14.3 |\n",
       "| 66   | 14.9 |\n",
       "\n"
      ],
      "text/plain": [
       "  Temp Wind\n",
       "1 67    7.4\n",
       "2 72    8.0\n",
       "3 74   12.6\n",
       "4 62   11.5\n",
       "5 56   14.3\n",
       "6 66   14.9"
      ]
     },
     "metadata": {},
     "output_type": "display_data"
    }
   ],
   "source": [
    "head(airquality[, c(\"Temp\", \"Wind\")] )# The Temp and Wind columns"
   ]
  },
  {
   "cell_type": "code",
   "execution_count": 449,
   "id": "e79c0bc1-91d9-4213-ab16-cec7c79915be",
   "metadata": {},
   "outputs": [
    {
     "data": {
      "text/html": [
       "<ol class=list-inline>\n",
       "\t<li>A</li>\n",
       "\t<li>B</li>\n",
       "\t<li>C</li>\n",
       "</ol>\n",
       "\n",
       "<details>\n",
       "\t<summary style=display:list-item;cursor:pointer>\n",
       "\t\t<strong>Levels</strong>:\n",
       "\t</summary>\n",
       "\t<ol class=list-inline>\n",
       "\t\t<li>'A'</li>\n",
       "\t\t<li>'B'</li>\n",
       "\t\t<li>'C'</li>\n",
       "\t</ol>\n",
       "</details>"
      ],
      "text/latex": [
       "\\begin{enumerate*}\n",
       "\\item A\n",
       "\\item B\n",
       "\\item C\n",
       "\\end{enumerate*}\n",
       "\n",
       "\\emph{Levels}: \\begin{enumerate*}\n",
       "\\item 'A'\n",
       "\\item 'B'\n",
       "\\item 'C'\n",
       "\\end{enumerate*}\n"
      ],
      "text/markdown": [
       "1. A\n",
       "2. B\n",
       "3. C\n",
       "\n",
       "\n",
       "\n",
       "**Levels**: 1. 'A'\n",
       "2. 'B'\n",
       "3. 'C'\n",
       "\n",
       "\n"
      ],
      "text/plain": [
       "[1] A B C\n",
       "Levels: A B C"
      ]
     },
     "metadata": {},
     "output_type": "display_data"
    }
   ],
   "source": [
    "df$letters"
   ]
  },
  {
   "cell_type": "code",
   "execution_count": 450,
   "id": "1d1359a6-f5ac-4bd9-bd10-46e007325c74",
   "metadata": {},
   "outputs": [
    {
     "data": {
      "text/html": [
       "2\n",
       "<details>\n",
       "\t<summary style=display:list-item;cursor:pointer>\n",
       "\t\t<strong>Levels</strong>:\n",
       "\t</summary>\n",
       "\t<ol class=list-inline>\n",
       "\t\t<li>'2'</li>\n",
       "\t\t<li>'A'</li>\n",
       "\t\t<li>'TRUE'</li>\n",
       "\t</ol>\n",
       "</details>"
      ],
      "text/latex": [
       "2\n",
       "\\emph{Levels}: \\begin{enumerate*}\n",
       "\\item '2'\n",
       "\\item 'A'\n",
       "\\item 'TRUE'\n",
       "\\end{enumerate*}\n"
      ],
      "text/markdown": [
       "2\n",
       "**Levels**: 1. '2'\n",
       "2. 'A'\n",
       "3. 'TRUE'\n",
       "\n",
       "\n"
      ],
      "text/plain": [
       "[1] 2\n",
       "Levels: 2 A TRUE"
      ]
     },
     "metadata": {},
     "output_type": "display_data"
    }
   ],
   "source": [
    "df$mix[1]"
   ]
  },
  {
   "cell_type": "code",
   "execution_count": 451,
   "id": "02b5da0f-6bdf-453d-9a80-1183e520641b",
   "metadata": {},
   "outputs": [
    {
     "data": {
      "text/html": [
       "<table>\n",
       "<thead><tr><th scope=col>letters</th><th scope=col>nums</th></tr></thead>\n",
       "<tbody>\n",
       "\t<tr><td>A</td><td>2</td></tr>\n",
       "\t<tr><td>B</td><td>4</td></tr>\n",
       "\t<tr><td>C</td><td>6</td></tr>\n",
       "</tbody>\n",
       "</table>\n"
      ],
      "text/latex": [
       "\\begin{tabular}{r|ll}\n",
       " letters & nums\\\\\n",
       "\\hline\n",
       "\t A & 2\\\\\n",
       "\t B & 4\\\\\n",
       "\t C & 6\\\\\n",
       "\\end{tabular}\n"
      ],
      "text/markdown": [
       "\n",
       "| letters | nums |\n",
       "|---|---|\n",
       "| A | 2 |\n",
       "| B | 4 |\n",
       "| C | 6 |\n",
       "\n"
      ],
      "text/plain": [
       "  letters nums\n",
       "1 A       2   \n",
       "2 B       4   \n",
       "3 C       6   "
      ]
     },
     "metadata": {},
     "output_type": "display_data"
    }
   ],
   "source": [
    "df2"
   ]
  },
  {
   "cell_type": "code",
   "execution_count": 452,
   "id": "7468ca64-747d-4821-b30a-ca3299d9b371",
   "metadata": {},
   "outputs": [
    {
     "data": {
      "text/html": [
       "2"
      ],
      "text/latex": [
       "2"
      ],
      "text/markdown": [
       "2"
      ],
      "text/plain": [
       "[1] 2"
      ]
     },
     "metadata": {},
     "output_type": "display_data"
    }
   ],
   "source": [
    "df2$nums[1] "
   ]
  },
  {
   "cell_type": "code",
   "execution_count": 453,
   "id": "848b7315-7314-4a46-9208-e60873d8e50d",
   "metadata": {},
   "outputs": [],
   "source": [
    "df2$nums[1] <- df2$nums[1] * 3"
   ]
  },
  {
   "cell_type": "code",
   "execution_count": 454,
   "id": "b2688e94-0a6a-4301-8027-d62e7ac80ef7",
   "metadata": {},
   "outputs": [
    {
     "data": {
      "text/html": [
       "<table>\n",
       "<thead><tr><th scope=col>letters</th><th scope=col>nums</th></tr></thead>\n",
       "<tbody>\n",
       "\t<tr><td>A</td><td>6</td></tr>\n",
       "\t<tr><td>B</td><td>4</td></tr>\n",
       "\t<tr><td>C</td><td>6</td></tr>\n",
       "</tbody>\n",
       "</table>\n"
      ],
      "text/latex": [
       "\\begin{tabular}{r|ll}\n",
       " letters & nums\\\\\n",
       "\\hline\n",
       "\t A & 6\\\\\n",
       "\t B & 4\\\\\n",
       "\t C & 6\\\\\n",
       "\\end{tabular}\n"
      ],
      "text/markdown": [
       "\n",
       "| letters | nums |\n",
       "|---|---|\n",
       "| A | 6 |\n",
       "| B | 4 |\n",
       "| C | 6 |\n",
       "\n"
      ],
      "text/plain": [
       "  letters nums\n",
       "1 A       6   \n",
       "2 B       4   \n",
       "3 C       6   "
      ]
     },
     "metadata": {},
     "output_type": "display_data"
    }
   ],
   "source": [
    "df2"
   ]
  },
  {
   "cell_type": "code",
   "execution_count": 455,
   "id": "d306ef34-5e42-4be5-895a-10055a46a082",
   "metadata": {},
   "outputs": [],
   "source": [
    "df2$new_nums <- df2$nums * 3"
   ]
  },
  {
   "cell_type": "code",
   "execution_count": 456,
   "id": "ca633a67-52bc-4c50-8dfa-5d352407c19e",
   "metadata": {},
   "outputs": [
    {
     "data": {
      "text/html": [
       "<table>\n",
       "<thead><tr><th scope=col>letters</th><th scope=col>nums</th><th scope=col>new_nums</th></tr></thead>\n",
       "<tbody>\n",
       "\t<tr><td>A </td><td>6 </td><td>18</td></tr>\n",
       "\t<tr><td>B </td><td>4 </td><td>12</td></tr>\n",
       "\t<tr><td>C </td><td>6 </td><td>18</td></tr>\n",
       "</tbody>\n",
       "</table>\n"
      ],
      "text/latex": [
       "\\begin{tabular}{r|lll}\n",
       " letters & nums & new\\_nums\\\\\n",
       "\\hline\n",
       "\t A  & 6  & 18\\\\\n",
       "\t B  & 4  & 12\\\\\n",
       "\t C  & 6  & 18\\\\\n",
       "\\end{tabular}\n"
      ],
      "text/markdown": [
       "\n",
       "| letters | nums | new_nums |\n",
       "|---|---|---|\n",
       "| A  | 6  | 18 |\n",
       "| B  | 4  | 12 |\n",
       "| C  | 6  | 18 |\n",
       "\n"
      ],
      "text/plain": [
       "  letters nums new_nums\n",
       "1 A       6    18      \n",
       "2 B       4    12      \n",
       "3 C       6    18      "
      ]
     },
     "metadata": {},
     "output_type": "display_data"
    }
   ],
   "source": [
    "df2"
   ]
  },
  {
   "cell_type": "markdown",
   "id": "1752e996-04c7-4e52-abc1-28f0c3a8aaf9",
   "metadata": {
    "tags": []
   },
   "source": [
    "## Data Frames"
   ]
  },
  {
   "cell_type": "code",
   "execution_count": 457,
   "id": "5e8d65d2-0f3a-4185-a026-5f024bf672d9",
   "metadata": {},
   "outputs": [],
   "source": [
    "x = sample(0:1, 10, replace = TRUE)\n",
    "y = c(rep('a', 5), rep('b',5))\n",
    "z = runif(10)"
   ]
  },
  {
   "cell_type": "code",
   "execution_count": 458,
   "id": "efe8ecce-bc4e-44b2-b627-106a39634c50",
   "metadata": {},
   "outputs": [
    {
     "data": {
      "text/html": [
       "<table>\n",
       "<thead><tr><th scope=col>x</th><th scope=col>y</th><th scope=col>z</th></tr></thead>\n",
       "<tbody>\n",
       "\t<tr><td>0        </td><td>a        </td><td>0.9977113</td></tr>\n",
       "\t<tr><td>0        </td><td>a        </td><td>0.3376667</td></tr>\n",
       "\t<tr><td>0        </td><td>a        </td><td>0.5421455</td></tr>\n",
       "\t<tr><td>0        </td><td>a        </td><td>0.9324349</td></tr>\n",
       "\t<tr><td>1        </td><td>a        </td><td>0.9630839</td></tr>\n",
       "\t<tr><td>0        </td><td>b        </td><td>0.5940232</td></tr>\n",
       "\t<tr><td>1        </td><td>b        </td><td>0.7119159</td></tr>\n",
       "\t<tr><td>1        </td><td>b        </td><td>0.4009163</td></tr>\n",
       "\t<tr><td>1        </td><td>b        </td><td>0.9354806</td></tr>\n",
       "\t<tr><td>0        </td><td>b        </td><td>0.2371894</td></tr>\n",
       "</tbody>\n",
       "</table>\n"
      ],
      "text/latex": [
       "\\begin{tabular}{r|lll}\n",
       " x & y & z\\\\\n",
       "\\hline\n",
       "\t 0         & a         & 0.9977113\\\\\n",
       "\t 0         & a         & 0.3376667\\\\\n",
       "\t 0         & a         & 0.5421455\\\\\n",
       "\t 0         & a         & 0.9324349\\\\\n",
       "\t 1         & a         & 0.9630839\\\\\n",
       "\t 0         & b         & 0.5940232\\\\\n",
       "\t 1         & b         & 0.7119159\\\\\n",
       "\t 1         & b         & 0.4009163\\\\\n",
       "\t 1         & b         & 0.9354806\\\\\n",
       "\t 0         & b         & 0.2371894\\\\\n",
       "\\end{tabular}\n"
      ],
      "text/markdown": [
       "\n",
       "| x | y | z |\n",
       "|---|---|---|\n",
       "| 0         | a         | 0.9977113 |\n",
       "| 0         | a         | 0.3376667 |\n",
       "| 0         | a         | 0.5421455 |\n",
       "| 0         | a         | 0.9324349 |\n",
       "| 1         | a         | 0.9630839 |\n",
       "| 0         | b         | 0.5940232 |\n",
       "| 1         | b         | 0.7119159 |\n",
       "| 1         | b         | 0.4009163 |\n",
       "| 1         | b         | 0.9354806 |\n",
       "| 0         | b         | 0.2371894 |\n",
       "\n"
      ],
      "text/plain": [
       "   x y z        \n",
       "1  0 a 0.9977113\n",
       "2  0 a 0.3376667\n",
       "3  0 a 0.5421455\n",
       "4  0 a 0.9324349\n",
       "5  1 a 0.9630839\n",
       "6  0 b 0.5940232\n",
       "7  1 b 0.7119159\n",
       "8  1 b 0.4009163\n",
       "9  1 b 0.9354806\n",
       "10 0 b 0.2371894"
      ]
     },
     "metadata": {},
     "output_type": "display_data"
    }
   ],
   "source": [
    "data = data.frame(x, y, z)\n",
    "data"
   ]
  },
  {
   "cell_type": "code",
   "execution_count": 459,
   "id": "751b2c7b-84c3-4781-9c49-2297f25b882e",
   "metadata": {},
   "outputs": [
    {
     "data": {
      "text/html": [
       "<table>\n",
       "<thead><tr><th scope=col>Person</th><th scope=col>Grade</th></tr></thead>\n",
       "<tbody>\n",
       "\t<tr><td>Jill</td><td>75  </td></tr>\n",
       "\t<tr><td>John</td><td>92  </td></tr>\n",
       "\t<tr><td>Jack</td><td>91  </td></tr>\n",
       "</tbody>\n",
       "</table>\n"
      ],
      "text/latex": [
       "\\begin{tabular}{r|ll}\n",
       " Person & Grade\\\\\n",
       "\\hline\n",
       "\t Jill & 75  \\\\\n",
       "\t John & 92  \\\\\n",
       "\t Jack & 91  \\\\\n",
       "\\end{tabular}\n"
      ],
      "text/markdown": [
       "\n",
       "| Person | Grade |\n",
       "|---|---|\n",
       "| Jill | 75   |\n",
       "| John | 92   |\n",
       "| Jack | 91   |\n",
       "\n"
      ],
      "text/plain": [
       "  Person Grade\n",
       "1 Jill   75   \n",
       "2 John   92   \n",
       "3 Jack   91   "
      ]
     },
     "metadata": {},
     "output_type": "display_data"
    }
   ],
   "source": [
    "Person = c('Jill', 'John', 'Jack')\n",
    "Grade = c('75','92','91')\n",
    "Lab= data.frame(Person, Grade)\n",
    "Lab"
   ]
  },
  {
   "cell_type": "code",
   "execution_count": 460,
   "id": "18a20258-9cb6-4c52-8dac-f73c6cb27890",
   "metadata": {},
   "outputs": [
    {
     "data": {
      "text/html": [
       "<table>\n",
       "<thead><tr><th scope=col>Person</th><th scope=col>Grade</th><th scope=col>System</th></tr></thead>\n",
       "<tbody>\n",
       "\t<tr><td>Jill   </td><td>75     </td><td>Windows</td></tr>\n",
       "\t<tr><td>John   </td><td>92     </td><td>Mac    </td></tr>\n",
       "\t<tr><td>Jack   </td><td>91     </td><td>Windows</td></tr>\n",
       "</tbody>\n",
       "</table>\n"
      ],
      "text/latex": [
       "\\begin{tabular}{r|lll}\n",
       " Person & Grade & System\\\\\n",
       "\\hline\n",
       "\t Jill    & 75      & Windows\\\\\n",
       "\t John    & 92      & Mac    \\\\\n",
       "\t Jack    & 91      & Windows\\\\\n",
       "\\end{tabular}\n"
      ],
      "text/markdown": [
       "\n",
       "| Person | Grade | System |\n",
       "|---|---|---|\n",
       "| Jill    | 75      | Windows |\n",
       "| John    | 92      | Mac     |\n",
       "| Jack    | 91      | Windows |\n",
       "\n"
      ],
      "text/plain": [
       "  Person Grade System \n",
       "1 Jill   75    Windows\n",
       "2 John   92    Mac    \n",
       "3 Jack   91    Windows"
      ]
     },
     "metadata": {},
     "output_type": "display_data"
    }
   ],
   "source": [
    "Sys = c('Windows', 'Mac', 'Windows')\n",
    "Lab$System=Sys\n",
    "Lab"
   ]
  },
  {
   "cell_type": "code",
   "execution_count": 461,
   "id": "5a164ccf-971f-49d0-b5c3-885bdd094e53",
   "metadata": {},
   "outputs": [
    {
     "data": {
      "text/html": [
       "<ol class=list-inline>\n",
       "\t<li>Jill</li>\n",
       "\t<li>John</li>\n",
       "\t<li>Jack</li>\n",
       "</ol>\n",
       "\n",
       "<details>\n",
       "\t<summary style=display:list-item;cursor:pointer>\n",
       "\t\t<strong>Levels</strong>:\n",
       "\t</summary>\n",
       "\t<ol class=list-inline>\n",
       "\t\t<li>'Jack'</li>\n",
       "\t\t<li>'Jill'</li>\n",
       "\t\t<li>'John'</li>\n",
       "\t</ol>\n",
       "</details>"
      ],
      "text/latex": [
       "\\begin{enumerate*}\n",
       "\\item Jill\n",
       "\\item John\n",
       "\\item Jack\n",
       "\\end{enumerate*}\n",
       "\n",
       "\\emph{Levels}: \\begin{enumerate*}\n",
       "\\item 'Jack'\n",
       "\\item 'Jill'\n",
       "\\item 'John'\n",
       "\\end{enumerate*}\n"
      ],
      "text/markdown": [
       "1. Jill\n",
       "2. John\n",
       "3. Jack\n",
       "\n",
       "\n",
       "\n",
       "**Levels**: 1. 'Jack'\n",
       "2. 'Jill'\n",
       "3. 'John'\n",
       "\n",
       "\n"
      ],
      "text/plain": [
       "[1] Jill John Jack\n",
       "Levels: Jack Jill John"
      ]
     },
     "metadata": {},
     "output_type": "display_data"
    }
   ],
   "source": [
    "Lab$Person"
   ]
  },
  {
   "cell_type": "markdown",
   "id": "3378d735-8e63-494e-8f2c-f9be4223afb4",
   "metadata": {
    "tags": []
   },
   "source": [
    "### Referencing"
   ]
  },
  {
   "cell_type": "code",
   "execution_count": 462,
   "id": "2bae0815-947e-4815-a206-62e6e3231a5a",
   "metadata": {},
   "outputs": [
    {
     "data": {
      "text/html": [
       "<table>\n",
       "<thead><tr><th scope=col>V1</th><th scope=col>V2</th><th scope=col>V3</th></tr></thead>\n",
       "<tbody>\n",
       "\t<tr><td>5 </td><td>9 </td><td>13</td></tr>\n",
       "\t<tr><td>1 </td><td>6 </td><td>15</td></tr>\n",
       "\t<tr><td>3 </td><td>8 </td><td>29</td></tr>\n",
       "</tbody>\n",
       "</table>\n"
      ],
      "text/latex": [
       "\\begin{tabular}{r|lll}\n",
       " V1 & V2 & V3\\\\\n",
       "\\hline\n",
       "\t 5  & 9  & 13\\\\\n",
       "\t 1  & 6  & 15\\\\\n",
       "\t 3  & 8  & 29\\\\\n",
       "\\end{tabular}\n"
      ],
      "text/markdown": [
       "\n",
       "| V1 | V2 | V3 |\n",
       "|---|---|---|\n",
       "| 5  | 9  | 13 |\n",
       "| 1  | 6  | 15 |\n",
       "| 3  | 8  | 29 |\n",
       "\n"
      ],
      "text/plain": [
       "  V1 V2 V3\n",
       "1 5  9  13\n",
       "2 1  6  15\n",
       "3 3  8  29"
      ]
     },
     "metadata": {},
     "output_type": "display_data"
    }
   ],
   "source": [
    "example1"
   ]
  },
  {
   "cell_type": "code",
   "execution_count": 463,
   "id": "d1b30fba-252c-4ae4-81bb-13e6c98fb521",
   "metadata": {},
   "outputs": [
    {
     "data": {
      "text/html": [
       "<ol class=list-inline>\n",
       "\t<li>'V1'</li>\n",
       "\t<li>'V2'</li>\n",
       "\t<li>'V3'</li>\n",
       "</ol>\n"
      ],
      "text/latex": [
       "\\begin{enumerate*}\n",
       "\\item 'V1'\n",
       "\\item 'V2'\n",
       "\\item 'V3'\n",
       "\\end{enumerate*}\n"
      ],
      "text/markdown": [
       "1. 'V1'\n",
       "2. 'V2'\n",
       "3. 'V3'\n",
       "\n",
       "\n"
      ],
      "text/plain": [
       "[1] \"V1\" \"V2\" \"V3\""
      ]
     },
     "metadata": {},
     "output_type": "display_data"
    }
   ],
   "source": [
    "colnames(example1)"
   ]
  },
  {
   "cell_type": "code",
   "execution_count": 464,
   "id": "6f095477-ee92-435e-a3da-ab910a7c23c1",
   "metadata": {},
   "outputs": [
    {
     "data": {
      "text/html": [
       "<ol class=list-inline>\n",
       "\t<li>'1'</li>\n",
       "\t<li>'2'</li>\n",
       "\t<li>'3'</li>\n",
       "</ol>\n"
      ],
      "text/latex": [
       "\\begin{enumerate*}\n",
       "\\item '1'\n",
       "\\item '2'\n",
       "\\item '3'\n",
       "\\end{enumerate*}\n"
      ],
      "text/markdown": [
       "1. '1'\n",
       "2. '2'\n",
       "3. '3'\n",
       "\n",
       "\n"
      ],
      "text/plain": [
       "[1] \"1\" \"2\" \"3\""
      ]
     },
     "metadata": {},
     "output_type": "display_data"
    }
   ],
   "source": [
    "rownames(example1)"
   ]
  },
  {
   "cell_type": "code",
   "execution_count": 465,
   "id": "193b515b-a08c-46f6-b5ca-dc5d724e3267",
   "metadata": {},
   "outputs": [
    {
     "data": {
      "text/html": [
       "<ol class=list-inline>\n",
       "\t<li>5</li>\n",
       "\t<li>1</li>\n",
       "\t<li>3</li>\n",
       "</ol>\n"
      ],
      "text/latex": [
       "\\begin{enumerate*}\n",
       "\\item 5\n",
       "\\item 1\n",
       "\\item 3\n",
       "\\end{enumerate*}\n"
      ],
      "text/markdown": [
       "1. 5\n",
       "2. 1\n",
       "3. 3\n",
       "\n",
       "\n"
      ],
      "text/plain": [
       "[1] 5 1 3"
      ]
     },
     "metadata": {},
     "output_type": "display_data"
    }
   ],
   "source": [
    "example1$V1"
   ]
  },
  {
   "cell_type": "code",
   "execution_count": 466,
   "id": "ce10fc10-55dc-47c7-ac89-dfdf3193b02c",
   "metadata": {},
   "outputs": [
    {
     "data": {
      "text/html": [
       "<ol class=list-inline>\n",
       "\t<li>9</li>\n",
       "\t<li>6</li>\n",
       "\t<li>8</li>\n",
       "</ol>\n"
      ],
      "text/latex": [
       "\\begin{enumerate*}\n",
       "\\item 9\n",
       "\\item 6\n",
       "\\item 8\n",
       "\\end{enumerate*}\n"
      ],
      "text/markdown": [
       "1. 9\n",
       "2. 6\n",
       "3. 8\n",
       "\n",
       "\n"
      ],
      "text/plain": [
       "[1] 9 6 8"
      ]
     },
     "metadata": {},
     "output_type": "display_data"
    }
   ],
   "source": [
    "example1$V2"
   ]
  },
  {
   "cell_type": "code",
   "execution_count": 467,
   "id": "e6a03c75-3000-4410-bbe2-8647bd110e13",
   "metadata": {},
   "outputs": [
    {
     "data": {
      "text/html": [
       "<table>\n",
       "<thead><tr><th scope=col>V2</th></tr></thead>\n",
       "<tbody>\n",
       "\t<tr><td>9</td></tr>\n",
       "\t<tr><td>6</td></tr>\n",
       "\t<tr><td>8</td></tr>\n",
       "</tbody>\n",
       "</table>\n"
      ],
      "text/latex": [
       "\\begin{tabular}{r|l}\n",
       " V2\\\\\n",
       "\\hline\n",
       "\t 9\\\\\n",
       "\t 6\\\\\n",
       "\t 8\\\\\n",
       "\\end{tabular}\n"
      ],
      "text/markdown": [
       "\n",
       "| V2 |\n",
       "|---|\n",
       "| 9 |\n",
       "| 6 |\n",
       "| 8 |\n",
       "\n"
      ],
      "text/plain": [
       "  V2\n",
       "1 9 \n",
       "2 6 \n",
       "3 8 "
      ]
     },
     "metadata": {},
     "output_type": "display_data"
    }
   ],
   "source": [
    "example1[2]"
   ]
  },
  {
   "cell_type": "code",
   "execution_count": 468,
   "id": "cb1ba450-5268-4c60-a8d6-ddb2e4d609fd",
   "metadata": {},
   "outputs": [
    {
     "data": {
      "text/html": [
       "<table>\n",
       "<thead><tr><th></th><th scope=col>V1</th><th scope=col>V2</th><th scope=col>V3</th></tr></thead>\n",
       "<tbody>\n",
       "\t<tr><th scope=row>2</th><td>1 </td><td>6 </td><td>15</td></tr>\n",
       "</tbody>\n",
       "</table>\n"
      ],
      "text/latex": [
       "\\begin{tabular}{r|lll}\n",
       "  & V1 & V2 & V3\\\\\n",
       "\\hline\n",
       "\t2 & 1  & 6  & 15\\\\\n",
       "\\end{tabular}\n"
      ],
      "text/markdown": [
       "\n",
       "| <!--/--> | V1 | V2 | V3 |\n",
       "|---|---|---|---|\n",
       "| 2 | 1  | 6  | 15 |\n",
       "\n"
      ],
      "text/plain": [
       "  V1 V2 V3\n",
       "2 1  6  15"
      ]
     },
     "metadata": {},
     "output_type": "display_data"
    }
   ],
   "source": [
    "example1[2,]"
   ]
  },
  {
   "cell_type": "code",
   "execution_count": 469,
   "id": "b5b6e439-484b-4a13-9ef1-bceaf92cd933",
   "metadata": {},
   "outputs": [
    {
     "data": {
      "text/html": [
       "<table>\n",
       "<thead><tr><th scope=col>V1</th><th scope=col>V2</th><th scope=col>V3</th></tr></thead>\n",
       "<tbody>\n",
       "\t<tr><td>5 </td><td>9 </td><td>13</td></tr>\n",
       "</tbody>\n",
       "</table>\n"
      ],
      "text/latex": [
       "\\begin{tabular}{r|lll}\n",
       " V1 & V2 & V3\\\\\n",
       "\\hline\n",
       "\t 5  & 9  & 13\\\\\n",
       "\\end{tabular}\n"
      ],
      "text/markdown": [
       "\n",
       "| V1 | V2 | V3 |\n",
       "|---|---|---|\n",
       "| 5  | 9  | 13 |\n",
       "\n"
      ],
      "text/plain": [
       "  V1 V2 V3\n",
       "1 5  9  13"
      ]
     },
     "metadata": {},
     "output_type": "display_data"
    }
   ],
   "source": [
    "example1[1,]"
   ]
  },
  {
   "cell_type": "markdown",
   "id": "7680f3a9-d3b2-4ea9-bb10-da675ea3cab7",
   "metadata": {
    "tags": []
   },
   "source": [
    "### Subsetting"
   ]
  },
  {
   "cell_type": "code",
   "execution_count": 470,
   "id": "a609fc38-49db-4d5c-a2a2-d8a4a5df3879",
   "metadata": {},
   "outputs": [
    {
     "data": {
      "text/html": [
       "<table>\n",
       "<thead><tr><th></th><th scope=col>x</th><th scope=col>y</th><th scope=col>z</th></tr></thead>\n",
       "<tbody>\n",
       "\t<tr><th scope=row>5</th><td>1        </td><td>a        </td><td>0.9630839</td></tr>\n",
       "\t<tr><th scope=row>7</th><td>1        </td><td>b        </td><td>0.7119159</td></tr>\n",
       "\t<tr><th scope=row>8</th><td>1        </td><td>b        </td><td>0.4009163</td></tr>\n",
       "\t<tr><th scope=row>9</th><td>1        </td><td>b        </td><td>0.9354806</td></tr>\n",
       "</tbody>\n",
       "</table>\n"
      ],
      "text/latex": [
       "\\begin{tabular}{r|lll}\n",
       "  & x & y & z\\\\\n",
       "\\hline\n",
       "\t5 & 1         & a         & 0.9630839\\\\\n",
       "\t7 & 1         & b         & 0.7119159\\\\\n",
       "\t8 & 1         & b         & 0.4009163\\\\\n",
       "\t9 & 1         & b         & 0.9354806\\\\\n",
       "\\end{tabular}\n"
      ],
      "text/markdown": [
       "\n",
       "| <!--/--> | x | y | z |\n",
       "|---|---|---|---|\n",
       "| 5 | 1         | a         | 0.9630839 |\n",
       "| 7 | 1         | b         | 0.7119159 |\n",
       "| 8 | 1         | b         | 0.4009163 |\n",
       "| 9 | 1         | b         | 0.9354806 |\n",
       "\n"
      ],
      "text/plain": [
       "  x y z        \n",
       "5 1 a 0.9630839\n",
       "7 1 b 0.7119159\n",
       "8 1 b 0.4009163\n",
       "9 1 b 0.9354806"
      ]
     },
     "metadata": {},
     "output_type": "display_data"
    }
   ],
   "source": [
    "subset(data, x == 1)"
   ]
  },
  {
   "cell_type": "code",
   "execution_count": 471,
   "id": "b7bb738b-5962-4c45-8aa5-ece1a3974fa3",
   "metadata": {},
   "outputs": [
    {
     "data": {
      "text/html": [
       "<table>\n",
       "<thead><tr><th scope=col>x</th><th scope=col>y</th><th scope=col>z</th></tr></thead>\n",
       "<tbody>\n",
       "\t<tr><td>0        </td><td>a        </td><td>0.9977113</td></tr>\n",
       "\t<tr><td>0        </td><td>a        </td><td>0.3376667</td></tr>\n",
       "\t<tr><td>0        </td><td>a        </td><td>0.5421455</td></tr>\n",
       "\t<tr><td>0        </td><td>a        </td><td>0.9324349</td></tr>\n",
       "\t<tr><td>1        </td><td>a        </td><td>0.9630839</td></tr>\n",
       "</tbody>\n",
       "</table>\n"
      ],
      "text/latex": [
       "\\begin{tabular}{r|lll}\n",
       " x & y & z\\\\\n",
       "\\hline\n",
       "\t 0         & a         & 0.9977113\\\\\n",
       "\t 0         & a         & 0.3376667\\\\\n",
       "\t 0         & a         & 0.5421455\\\\\n",
       "\t 0         & a         & 0.9324349\\\\\n",
       "\t 1         & a         & 0.9630839\\\\\n",
       "\\end{tabular}\n"
      ],
      "text/markdown": [
       "\n",
       "| x | y | z |\n",
       "|---|---|---|\n",
       "| 0         | a         | 0.9977113 |\n",
       "| 0         | a         | 0.3376667 |\n",
       "| 0         | a         | 0.5421455 |\n",
       "| 0         | a         | 0.9324349 |\n",
       "| 1         | a         | 0.9630839 |\n",
       "\n"
      ],
      "text/plain": [
       "  x y z        \n",
       "1 0 a 0.9977113\n",
       "2 0 a 0.3376667\n",
       "3 0 a 0.5421455\n",
       "4 0 a 0.9324349\n",
       "5 1 a 0.9630839"
      ]
     },
     "metadata": {},
     "output_type": "display_data"
    }
   ],
   "source": [
    "subset(data, y == 'a')"
   ]
  },
  {
   "cell_type": "markdown",
   "id": "426aee37-1f25-440c-92e2-7aa8e1fc7c74",
   "metadata": {
    "tags": []
   },
   "source": [
    "## Math"
   ]
  },
  {
   "cell_type": "markdown",
   "id": "2203d50d-7e48-46b9-b031-5edea967a6cb",
   "metadata": {
    "jp-MarkdownHeadingCollapsed": true,
    "tags": []
   },
   "source": [
    "#### Addition"
   ]
  },
  {
   "cell_type": "code",
   "execution_count": 472,
   "id": "00f1f209-745c-4ce0-a96b-75e01a3cd973",
   "metadata": {},
   "outputs": [
    {
     "data": {
      "text/html": [
       "44"
      ],
      "text/latex": [
       "44"
      ],
      "text/markdown": [
       "44"
      ],
      "text/plain": [
       "[1] 44"
      ]
     },
     "metadata": {},
     "output_type": "display_data"
    }
   ],
   "source": [
    "22 + 22"
   ]
  },
  {
   "cell_type": "markdown",
   "id": "f5623a68-52aa-4c40-a397-703f51861ccd",
   "metadata": {},
   "source": [
    "a + b\n",
    "a - b\n",
    "a * b\n",
    "a / b\n",
    "a ^ 2"
   ]
  },
  {
   "cell_type": "code",
   "execution_count": 473,
   "id": "baf39961-243a-4a21-a1e6-3510f278cc7e",
   "metadata": {},
   "outputs": [
    {
     "data": {
      "text/html": [
       "3"
      ],
      "text/latex": [
       "3"
      ],
      "text/markdown": [
       "3"
      ],
      "text/plain": [
       "[1] 3"
      ]
     },
     "metadata": {},
     "output_type": "display_data"
    }
   ],
   "source": [
    "1 + 2"
   ]
  },
  {
   "cell_type": "code",
   "execution_count": 474,
   "id": "1265ba5c-23ee-460e-8b28-a0a442294a68",
   "metadata": {},
   "outputs": [
    {
     "data": {
      "text/html": [
       "15"
      ],
      "text/latex": [
       "15"
      ],
      "text/markdown": [
       "15"
      ],
      "text/plain": [
       "[1] 15"
      ]
     },
     "metadata": {},
     "output_type": "display_data"
    }
   ],
   "source": [
    "1 + 4 + 10"
   ]
  },
  {
   "cell_type": "markdown",
   "id": "76ea8bdb-7f7a-47fd-af8f-598a937b1968",
   "metadata": {
    "jp-MarkdownHeadingCollapsed": true,
    "tags": []
   },
   "source": [
    "#### Subtraction"
   ]
  },
  {
   "cell_type": "code",
   "execution_count": 475,
   "id": "b1060e99-2be9-4b78-925e-4284cab1b964",
   "metadata": {},
   "outputs": [
    {
     "data": {
      "text/html": [
       "20"
      ],
      "text/latex": [
       "20"
      ],
      "text/markdown": [
       "20"
      ],
      "text/plain": [
       "[1] 20"
      ]
     },
     "metadata": {},
     "output_type": "display_data"
    }
   ],
   "source": [
    "22 - 2"
   ]
  },
  {
   "cell_type": "code",
   "execution_count": 476,
   "id": "0fe659c8-6fc6-46a4-ac22-125358a5e741",
   "metadata": {},
   "outputs": [
    {
     "data": {
      "text/html": [
       "-3"
      ],
      "text/latex": [
       "-3"
      ],
      "text/markdown": [
       "-3"
      ],
      "text/plain": [
       "[1] -3"
      ]
     },
     "metadata": {},
     "output_type": "display_data"
    }
   ],
   "source": [
    "0 - 3"
   ]
  },
  {
   "cell_type": "code",
   "execution_count": 477,
   "id": "d81a366b-732e-4534-87cc-046bf78d08d2",
   "metadata": {},
   "outputs": [
    {
     "data": {
      "text/html": [
       "-14"
      ],
      "text/latex": [
       "-14"
      ],
      "text/markdown": [
       "-14"
      ],
      "text/plain": [
       "[1] -14"
      ]
     },
     "metadata": {},
     "output_type": "display_data"
    }
   ],
   "source": [
    "1 - 5 - 10"
   ]
  },
  {
   "cell_type": "markdown",
   "id": "dab70aa0-849c-4f7a-85c4-5d1da0f9367f",
   "metadata": {
    "jp-MarkdownHeadingCollapsed": true,
    "tags": []
   },
   "source": [
    "#### Multiplication"
   ]
  },
  {
   "cell_type": "code",
   "execution_count": 478,
   "id": "3fc335fd-b2ae-4d1f-b918-f0d32bde1ca0",
   "metadata": {},
   "outputs": [
    {
     "data": {
      "text/html": [
       "1794"
      ],
      "text/latex": [
       "1794"
      ],
      "text/markdown": [
       "1794"
      ],
      "text/plain": [
       "[1] 1794"
      ]
     },
     "metadata": {},
     "output_type": "display_data"
    }
   ],
   "source": [
    "23 * 78"
   ]
  },
  {
   "cell_type": "code",
   "execution_count": 479,
   "id": "c2c8ff34-3519-4086-a936-6c98907bdc00",
   "metadata": {},
   "outputs": [
    {
     "data": {
      "text/html": [
       "374"
      ],
      "text/latex": [
       "374"
      ],
      "text/markdown": [
       "374"
      ],
      "text/plain": [
       "[1] 374"
      ]
     },
     "metadata": {},
     "output_type": "display_data"
    }
   ],
   "source": [
    "11 * 34"
   ]
  },
  {
   "cell_type": "code",
   "execution_count": 480,
   "id": "f5e2bc32-c960-4cce-9978-5232e1821f70",
   "metadata": {},
   "outputs": [
    {
     "data": {
      "text/html": [
       "80"
      ],
      "text/latex": [
       "80"
      ],
      "text/markdown": [
       "80"
      ],
      "text/plain": [
       "[1] 80"
      ]
     },
     "metadata": {},
     "output_type": "display_data"
    }
   ],
   "source": [
    "1 * 8 * 10"
   ]
  },
  {
   "cell_type": "markdown",
   "id": "29c3565c-27c7-4101-a404-02265227fecf",
   "metadata": {
    "jp-MarkdownHeadingCollapsed": true,
    "tags": []
   },
   "source": [
    "#### Division"
   ]
  },
  {
   "cell_type": "code",
   "execution_count": 481,
   "id": "5dc0ddde-0bac-4340-9de4-b69e3d1d3984",
   "metadata": {},
   "outputs": [
    {
     "data": {
      "text/html": [
       "13"
      ],
      "text/latex": [
       "13"
      ],
      "text/markdown": [
       "13"
      ],
      "text/plain": [
       "[1] 13"
      ]
     },
     "metadata": {},
     "output_type": "display_data"
    }
   ],
   "source": [
    "78 / 6"
   ]
  },
  {
   "cell_type": "code",
   "execution_count": 482,
   "id": "5892d6a9-24eb-469d-8218-c4f70024436a",
   "metadata": {},
   "outputs": [
    {
     "data": {
      "text/html": [
       "1"
      ],
      "text/latex": [
       "1"
      ],
      "text/markdown": [
       "1"
      ],
      "text/plain": [
       "[1] 1"
      ]
     },
     "metadata": {},
     "output_type": "display_data"
    }
   ],
   "source": [
    "99/11/9"
   ]
  },
  {
   "cell_type": "code",
   "execution_count": 483,
   "id": "20052e0c-8392-4cc0-b95e-f9c82d2f75cc",
   "metadata": {},
   "outputs": [
    {
     "data": {
      "text/html": [
       "18.75"
      ],
      "text/latex": [
       "18.75"
      ],
      "text/markdown": [
       "18.75"
      ],
      "text/plain": [
       "[1] 18.75"
      ]
     },
     "metadata": {},
     "output_type": "display_data"
    }
   ],
   "source": [
    "75/4"
   ]
  },
  {
   "cell_type": "code",
   "execution_count": 484,
   "id": "263b5967-a873-4ee2-941b-5e3fe2cddc89",
   "metadata": {},
   "outputs": [
    {
     "data": {
      "text/html": [
       "9.525"
      ],
      "text/latex": [
       "9.525"
      ],
      "text/markdown": [
       "9.525"
      ],
      "text/plain": [
       "[1] 9.525"
      ]
     },
     "metadata": {},
     "output_type": "display_data"
    }
   ],
   "source": [
    "76.2/8"
   ]
  },
  {
   "cell_type": "markdown",
   "id": "85b4afeb-1398-4d38-8fcd-97e0b257ec94",
   "metadata": {
    "jp-MarkdownHeadingCollapsed": true,
    "tags": []
   },
   "source": [
    "#### Power"
   ]
  },
  {
   "cell_type": "code",
   "execution_count": 485,
   "id": "1b4a9e7f-0f8d-4bca-9ca3-11ea7d93bba5",
   "metadata": {},
   "outputs": [
    {
     "data": {
      "text/html": [
       "8"
      ],
      "text/latex": [
       "8"
      ],
      "text/markdown": [
       "8"
      ],
      "text/plain": [
       "[1] 8"
      ]
     },
     "metadata": {},
     "output_type": "display_data"
    }
   ],
   "source": [
    "2 ^ 3"
   ]
  },
  {
   "cell_type": "code",
   "execution_count": 486,
   "id": "7b152ca6-606f-4d40-b609-2d527b504dbb",
   "metadata": {},
   "outputs": [
    {
     "data": {
      "text/html": [
       "4"
      ],
      "text/latex": [
       "4"
      ],
      "text/markdown": [
       "4"
      ],
      "text/plain": [
       "[1] 4"
      ]
     },
     "metadata": {},
     "output_type": "display_data"
    }
   ],
   "source": [
    "16 ^ (1/2)"
   ]
  },
  {
   "cell_type": "markdown",
   "id": "f8b5003a-3b2a-4849-a85d-eb725909114a",
   "metadata": {
    "jp-MarkdownHeadingCollapsed": true,
    "tags": []
   },
   "source": [
    "#### Remainders"
   ]
  },
  {
   "cell_type": "code",
   "execution_count": 487,
   "id": "f85b915b-bdfe-44b4-bab6-1749f3481f95",
   "metadata": {},
   "outputs": [
    {
     "data": {
      "text/html": [
       "0"
      ],
      "text/latex": [
       "0"
      ],
      "text/markdown": [
       "0"
      ],
      "text/plain": [
       "[1] 0"
      ]
     },
     "metadata": {},
     "output_type": "display_data"
    }
   ],
   "source": [
    "78 %% 13"
   ]
  },
  {
   "cell_type": "markdown",
   "id": "1f079658",
   "metadata": {},
   "source": [
    "4 %% 3"
   ]
  },
  {
   "cell_type": "markdown",
   "id": "46aa3b14-bd53-45eb-ba5e-ff61fe09cbad",
   "metadata": {
    "jp-MarkdownHeadingCollapsed": true,
    "tags": []
   },
   "source": [
    "#### Exponential power"
   ]
  },
  {
   "cell_type": "code",
   "execution_count": 488,
   "id": "3a272c48",
   "metadata": {},
   "outputs": [
    {
     "data": {
      "text/html": [
       "2.68811714181614e+43"
      ],
      "text/latex": [
       "2.68811714181614e+43"
      ],
      "text/markdown": [
       "2.68811714181614e+43"
      ],
      "text/plain": [
       "[1] 2.688117e+43"
      ]
     },
     "metadata": {},
     "output_type": "display_data"
    }
   ],
   "source": [
    "c <- 100\n",
    "exp(c)"
   ]
  },
  {
   "cell_type": "code",
   "execution_count": 489,
   "id": "a082f200-963e-4440-aaab-37c5f1517f7e",
   "metadata": {},
   "outputs": [
    {
     "data": {
      "text/html": [
       "20.0855369231877"
      ],
      "text/latex": [
       "20.0855369231877"
      ],
      "text/markdown": [
       "20.0855369231877"
      ],
      "text/plain": [
       "[1] 20.08554"
      ]
     },
     "metadata": {},
     "output_type": "display_data"
    }
   ],
   "source": [
    "exp(3)"
   ]
  },
  {
   "cell_type": "code",
   "execution_count": 490,
   "id": "cb08a5a5-98ab-429d-a629-63729903e473",
   "metadata": {},
   "outputs": [],
   "source": [
    "d <- c(500, 75)"
   ]
  },
  {
   "cell_type": "code",
   "execution_count": 491,
   "id": "2c537e52-f7f5-4c7e-829c-547322881c5b",
   "metadata": {},
   "outputs": [
    {
     "data": {
      "text/html": [
       "<ol class=list-inline>\n",
       "\t<li>1.40359221785284e+217</li>\n",
       "\t<li>3.733241996799e+32</li>\n",
       "</ol>\n"
      ],
      "text/latex": [
       "\\begin{enumerate*}\n",
       "\\item 1.40359221785284e+217\n",
       "\\item 3.733241996799e+32\n",
       "\\end{enumerate*}\n"
      ],
      "text/markdown": [
       "1. 1.40359221785284e+217\n",
       "2. 3.733241996799e+32\n",
       "\n",
       "\n"
      ],
      "text/plain": [
       "[1] 1.403592e+217  3.733242e+32"
      ]
     },
     "metadata": {},
     "output_type": "display_data"
    }
   ],
   "source": [
    "e = exp(d)\n",
    "e"
   ]
  },
  {
   "cell_type": "markdown",
   "id": "f6cf83b2",
   "metadata": {
    "jp-MarkdownHeadingCollapsed": true,
    "tags": []
   },
   "source": [
    "#### Natural log  - base e"
   ]
  },
  {
   "cell_type": "code",
   "execution_count": 492,
   "id": "30bdf725-cb42-4c56-9304-a58d20642b55",
   "metadata": {},
   "outputs": [
    {
     "data": {
      "text/html": [
       "1.79175946922805"
      ],
      "text/latex": [
       "1.79175946922805"
      ],
      "text/markdown": [
       "1.79175946922805"
      ],
      "text/plain": [
       "[1] 1.791759"
      ]
     },
     "metadata": {},
     "output_type": "display_data"
    }
   ],
   "source": [
    "log(6)"
   ]
  },
  {
   "cell_type": "code",
   "execution_count": 493,
   "id": "f309ae14",
   "metadata": {},
   "outputs": [],
   "source": [
    "a <- 100"
   ]
  },
  {
   "cell_type": "code",
   "execution_count": 494,
   "id": "9af262a6",
   "metadata": {},
   "outputs": [
    {
     "data": {
      "text/html": [
       "4.60517018598809"
      ],
      "text/latex": [
       "4.60517018598809"
      ],
      "text/markdown": [
       "4.60517018598809"
      ],
      "text/plain": [
       "[1] 4.60517"
      ]
     },
     "metadata": {},
     "output_type": "display_data"
    }
   ],
   "source": [
    "log(a)"
   ]
  },
  {
   "cell_type": "code",
   "execution_count": 495,
   "id": "0d68bf23",
   "metadata": {},
   "outputs": [
    {
     "data": {
      "text/html": [
       "<ol class=list-inline>\n",
       "\t<li>3.91202300542815</li>\n",
       "\t<li>4.31748811353631</li>\n",
       "\t<li>4.60517018598809</li>\n",
       "\t<li>-1.6094379124341</li>\n",
       "</ol>\n"
      ],
      "text/latex": [
       "\\begin{enumerate*}\n",
       "\\item 3.91202300542815\n",
       "\\item 4.31748811353631\n",
       "\\item 4.60517018598809\n",
       "\\item -1.6094379124341\n",
       "\\end{enumerate*}\n"
      ],
      "text/markdown": [
       "1. 3.91202300542815\n",
       "2. 4.31748811353631\n",
       "3. 4.60517018598809\n",
       "4. -1.6094379124341\n",
       "\n",
       "\n"
      ],
      "text/plain": [
       "[1]  3.912023  4.317488  4.605170 -1.609438"
      ]
     },
     "metadata": {},
     "output_type": "display_data"
    }
   ],
   "source": [
    "b <- c(50, 75,100,0.2)\n",
    "log(b)"
   ]
  },
  {
   "cell_type": "markdown",
   "id": "1331269b",
   "metadata": {
    "jp-MarkdownHeadingCollapsed": true,
    "tags": []
   },
   "source": [
    "#### Log base 10 "
   ]
  },
  {
   "cell_type": "code",
   "execution_count": 496,
   "id": "572383ab-f09b-4659-8ad8-658d15e88d98",
   "metadata": {},
   "outputs": [
    {
     "data": {
      "text/html": [
       "0.778151250383644"
      ],
      "text/latex": [
       "0.778151250383644"
      ],
      "text/markdown": [
       "0.778151250383644"
      ],
      "text/plain": [
       "[1] 0.7781513"
      ]
     },
     "metadata": {},
     "output_type": "display_data"
    }
   ],
   "source": [
    "log10(6)"
   ]
  },
  {
   "cell_type": "markdown",
   "id": "5ab549d6",
   "metadata": {
    "jp-MarkdownHeadingCollapsed": true,
    "tags": []
   },
   "source": [
    "#### Absolute value"
   ]
  },
  {
   "cell_type": "code",
   "execution_count": 497,
   "id": "102f745b-7155-4ac1-8c21-ad7e90636426",
   "metadata": {},
   "outputs": [
    {
     "data": {
      "text/html": [
       "5"
      ],
      "text/latex": [
       "5"
      ],
      "text/markdown": [
       "5"
      ],
      "text/plain": [
       "[1] 5"
      ]
     },
     "metadata": {},
     "output_type": "display_data"
    }
   ],
   "source": [
    "abs(-5)"
   ]
  },
  {
   "cell_type": "markdown",
   "id": "bc898bca",
   "metadata": {
    "jp-MarkdownHeadingCollapsed": true,
    "tags": []
   },
   "source": [
    "#### Square root"
   ]
  },
  {
   "cell_type": "code",
   "execution_count": 498,
   "id": "709062a9-2d18-40f3-911d-831b65c4b114",
   "metadata": {},
   "outputs": [
    {
     "data": {
      "text/html": [
       "3"
      ],
      "text/latex": [
       "3"
      ],
      "text/markdown": [
       "3"
      ],
      "text/plain": [
       "[1] 3"
      ]
     },
     "metadata": {},
     "output_type": "display_data"
    }
   ],
   "source": [
    "sqrt(9)"
   ]
  },
  {
   "cell_type": "markdown",
   "id": "3a2004a3-4a92-41cd-b95d-0d97c03294dc",
   "metadata": {
    "tags": []
   },
   "source": [
    "## Basic statistics "
   ]
  },
  {
   "cell_type": "code",
   "execution_count": 499,
   "id": "fcf49a10-326d-4c4f-b424-71cb113539af",
   "metadata": {
    "tags": []
   },
   "outputs": [],
   "source": [
    "f11 <- c(1,2,3,4)"
   ]
  },
  {
   "cell_type": "code",
   "execution_count": 500,
   "id": "956058d7-c87d-4265-bcf3-a1a0be6175f9",
   "metadata": {},
   "outputs": [
    {
     "data": {
      "text/plain": [
       "   Min. 1st Qu.  Median    Mean 3rd Qu.    Max. \n",
       "   1.00    1.75    2.50    2.50    3.25    4.00 "
      ]
     },
     "metadata": {},
     "output_type": "display_data"
    }
   ],
   "source": [
    "summary(f11)"
   ]
  },
  {
   "cell_type": "code",
   "execution_count": 501,
   "id": "4d5d5110-a01b-44df-9a42-cb405906883c",
   "metadata": {},
   "outputs": [
    {
     "data": {
      "text/html": [
       "2.5"
      ],
      "text/latex": [
       "2.5"
      ],
      "text/markdown": [
       "2.5"
      ],
      "text/plain": [
       "[1] 2.5"
      ]
     },
     "metadata": {},
     "output_type": "display_data"
    }
   ],
   "source": [
    "median(f11)"
   ]
  },
  {
   "cell_type": "code",
   "execution_count": 502,
   "id": "c75a728b-3184-47b4-87d7-3c092d2fd9c7",
   "metadata": {},
   "outputs": [
    {
     "data": {
      "text/html": [
       "1.29099444873581"
      ],
      "text/latex": [
       "1.29099444873581"
      ],
      "text/markdown": [
       "1.29099444873581"
      ],
      "text/plain": [
       "[1] 1.290994"
      ]
     },
     "metadata": {},
     "output_type": "display_data"
    }
   ],
   "source": [
    "sd(f11)"
   ]
  },
  {
   "cell_type": "code",
   "execution_count": 503,
   "id": "8c611201-01a4-454c-a8bf-79635dc209eb",
   "metadata": {},
   "outputs": [
    {
     "data": {
      "text/html": [
       "1.5"
      ],
      "text/latex": [
       "1.5"
      ],
      "text/markdown": [
       "1.5"
      ],
      "text/plain": [
       "[1] 1.5"
      ]
     },
     "metadata": {},
     "output_type": "display_data"
    }
   ],
   "source": [
    "IQR(f11)"
   ]
  },
  {
   "cell_type": "code",
   "execution_count": 504,
   "id": "11e464ed-8be1-4134-99d6-cfe7d9ae96a1",
   "metadata": {},
   "outputs": [
    {
     "data": {
      "text/html": [
       "2.5"
      ],
      "text/latex": [
       "2.5"
      ],
      "text/markdown": [
       "2.5"
      ],
      "text/plain": [
       "[1] 2.5"
      ]
     },
     "metadata": {},
     "output_type": "display_data"
    }
   ],
   "source": [
    "mean(f11)"
   ]
  },
  {
   "cell_type": "markdown",
   "id": "0aba24df-0981-4595-8c73-b196790acef5",
   "metadata": {
    "tags": []
   },
   "source": [
    "## Graphing / Plot "
   ]
  },
  {
   "cell_type": "code",
   "execution_count": 505,
   "id": "315619b9-64c4-4072-adba-b9a9c66ae1aa",
   "metadata": {},
   "outputs": [
    {
     "data": {
      "image/png": "[encoded data removed]",
      "text/plain": [
       "plot without title"
      ]
     },
     "metadata": {},
     "output_type": "display_data"
    }
   ],
   "source": [
    "plot(msleep$sleep_total, msleep$sleep_rem, pch = 16)\n",
    "grid()"
   ]
  },
  {
   "cell_type": "code",
   "execution_count": 506,
   "id": "670b43c0-ca96-4fea-b78a-302beb4d9cf7",
   "metadata": {},
   "outputs": [
    {
     "data": {
      "image/png": "[encoded data removed]",
      "text/plain": [
       "plot without title"
      ]
     },
     "metadata": {},
     "output_type": "display_data"
    }
   ],
   "source": [
    "plot(msleep$sleep_total, msleep$sleep_rem)"
   ]
  },
  {
   "cell_type": "code",
   "execution_count": 507,
   "id": "cda9e06a-abcd-42d0-a66c-2c8c60422320",
   "metadata": {},
   "outputs": [
    {
     "data": {
      "image/png": "[encoded data removed]",
      "text/plain": [
       "plot without title"
      ]
     },
     "metadata": {},
     "output_type": "display_data"
    }
   ],
   "source": [
    "plot(msleep$sleep_total, msleep$sleep_rem, pch = 16)\n",
    "grid()"
   ]
  },
  {
   "cell_type": "code",
   "execution_count": 508,
   "id": "3ccb704e-fe84-4b5c-9c4c-d3a8cb7e8d6c",
   "metadata": {},
   "outputs": [
    {
     "name": "stderr",
     "output_type": "stream",
     "text": [
      "Warning message:\n",
      "\"Removed 22 rows containing missing values (geom_point).\""
     ]
    },
    {
     "data": {
      "image/png": "[encoded data removed]",
      "text/plain": [
       "plot without title"
      ]
     },
     "metadata": {},
     "output_type": "display_data"
    }
   ],
   "source": [
    "ggplot(msleep,aes(x=sleep_total, y= sleep_rem))+geom_point()"
   ]
  },
  {
   "cell_type": "code",
   "execution_count": 509,
   "id": "892c9c80-171b-4a7d-93fe-233017287b11",
   "metadata": {},
   "outputs": [
    {
     "data": {
      "image/png": "[encoded data removed]",
      "text/plain": [
       "plot without title"
      ]
     },
     "metadata": {},
     "output_type": "display_data"
    }
   ],
   "source": [
    "ggplot(msleep,aes(x=sleep_total, y= awake))+geom_point()"
   ]
  },
  {
   "cell_type": "markdown",
   "id": "a81c98f7-1a59-4dc9-8e2e-1afd765c0a9d",
   "metadata": {},
   "source": [
    "### Title, Colours, Shapes, Size, Limit and Scales"
   ]
  },
  {
   "cell_type": "code",
   "execution_count": 510,
   "id": "c2359705-bcee-4706-8256-995c4fe777f2",
   "metadata": {},
   "outputs": [
    {
     "name": "stderr",
     "output_type": "stream",
     "text": [
      "Warning message:\n",
      "\"Removed 22 rows containing missing values (geom_point).\""
     ]
    },
    {
     "data": {
      "image/png": "[encoded data removed]",
      "text/plain": [
       "plot without title"
      ]
     },
     "metadata": {},
     "output_type": "display_data"
    }
   ],
   "source": [
    "ggplot(msleep, aes(sleep_total, sleep_rem)) +\n",
    "      geom_point(colour = \"red\") +\n",
    "      xlab(\"Total sleep time (h)\")"
   ]
  },
  {
   "cell_type": "code",
   "execution_count": 511,
   "id": "28240a1f-7a6c-4456-88aa-da51844262a1",
   "metadata": {},
   "outputs": [
    {
     "name": "stderr",
     "output_type": "stream",
     "text": [
      "Warning message:\n",
      "\"Removed 22 rows containing missing values (geom_point).\""
     ]
    },
    {
     "data": {
      "image/png": "[encoded data removed]",
      "text/plain": [
       "plot without title"
      ]
     },
     "metadata": {},
     "output_type": "display_data"
    }
   ],
   "source": [
    "ggplot(msleep, aes(sleep_total, sleep_rem, colour = vore)) +\n",
    "      geom_point() +\n",
    "      xlab(\"Total sleep time (h)\")"
   ]
  },
  {
   "cell_type": "code",
   "execution_count": 512,
   "id": "2b4660ef-3055-4fef-a910-7afed125c50a",
   "metadata": {},
   "outputs": [
    {
     "name": "stderr",
     "output_type": "stream",
     "text": [
      "Warning message:\n",
      "\"Removed 22 rows containing missing values (geom_point).\""
     ]
    },
    {
     "data": {
      "image/png": "[encoded data removed]",
      "text/plain": [
       "plot without title"
      ]
     },
     "metadata": {},
     "output_type": "display_data"
    }
   ],
   "source": [
    "ggplot(msleep, aes(sleep_total, sleep_rem, colour = sleep_cycle)) +\n",
    "      geom_point() +\n",
    "      xlab(\"Total sleep time (h)\")"
   ]
  },
  {
   "cell_type": "markdown",
   "id": "3683631a-b594-477e-94e0-9b0860c8e2fa",
   "metadata": {},
   "source": [
    "#### Limits and scales"
   ]
  },
  {
   "cell_type": "code",
   "execution_count": 513,
   "id": "d46a5747-8eae-49d6-a585-54aabda07443",
   "metadata": {},
   "outputs": [
    {
     "name": "stderr",
     "output_type": "stream",
     "text": [
      "Warning message:\n",
      "\"Removed 27 rows containing missing values (geom_point).\""
     ]
    },
    {
     "data": {
      "image/png": "[encoded data removed]",
      "text/plain": [
       "plot without title"
      ]
     },
     "metadata": {},
     "output_type": "display_data"
    }
   ],
   "source": [
    "ggplot(msleep, aes(brainwt, sleep_total, colour = vore)) + \n",
    "      geom_point() +\n",
    "      xlab(\"Brain weight\") +\n",
    "      ylab(\"Total sleep time\")"
   ]
  },
  {
   "cell_type": "code",
   "execution_count": 514,
   "id": "9ff9caae-bd44-4d1b-8791-fe0ac98cbc16",
   "metadata": {},
   "outputs": [
    {
     "name": "stderr",
     "output_type": "stream",
     "text": [
      "Warning message:\n",
      "\"Removed 29 rows containing missing values (geom_point).\""
     ]
    },
    {
     "data": {
      "image/png": "[encoded data removed]",
      "text/plain": [
       "plot without title"
      ]
     },
     "metadata": {},
     "output_type": "display_data"
    }
   ],
   "source": [
    "ggplot(msleep, aes(brainwt, sleep_total, colour = vore)) + \n",
    "      geom_point() +\n",
    "      xlab(\"Brain weight\") +\n",
    "      ylab(\"Total sleep time\") +\n",
    "      xlim(0, 1.5)"
   ]
  },
  {
   "cell_type": "code",
   "execution_count": 515,
   "id": "4cf43ef1-9cd6-44d6-8e3a-968e60a653d8",
   "metadata": {},
   "outputs": [
    {
     "name": "stderr",
     "output_type": "stream",
     "text": [
      "Warning message:\n",
      "\"Removed 27 rows containing missing values (geom_point).\""
     ]
    },
    {
     "data": {
      "image/png": "[encoded data removed]",
      "text/plain": [
       "plot without title"
      ]
     },
     "metadata": {},
     "output_type": "display_data"
    }
   ],
   "source": [
    "ggplot(msleep, aes(log(brainwt), sleep_total, colour = vore)) + \n",
    "      geom_point() +\n",
    "      xlab(\"log(Brain weight)\") +\n",
    "      ylab(\"Total sleep time\")"
   ]
  },
  {
   "cell_type": "code",
   "execution_count": 516,
   "id": "d6730d9e-8ae6-4807-81e8-adb188a53c11",
   "metadata": {},
   "outputs": [
    {
     "name": "stderr",
     "output_type": "stream",
     "text": [
      "Warning message:\n",
      "\"Removed 27 rows containing missing values (geom_point).\""
     ]
    },
    {
     "data": {
      "image/png": "[encoded data removed]",
      "text/plain": [
       "plot without title"
      ]
     },
     "metadata": {},
     "output_type": "display_data"
    }
   ],
   "source": [
    "ggplot(msleep, aes(brainwt, sleep_total, colour = vore)) + \n",
    "      geom_point() +\n",
    "      xlab(\"Brain weight (logarithmic scale)\") +\n",
    "      ylab(\"Total sleep time\") +\n",
    "      scale_x_log10()"
   ]
  },
  {
   "cell_type": "markdown",
   "id": "b37a5474-e2f5-4326-bf2b-10e304137a4d",
   "metadata": {},
   "source": [
    "### Comparing groups"
   ]
  },
  {
   "cell_type": "code",
   "execution_count": 517,
   "id": "01326325-b8e6-4344-be73-14d4e0dc3809",
   "metadata": {},
   "outputs": [
    {
     "name": "stderr",
     "output_type": "stream",
     "text": [
      "Warning message:\n",
      "\"Removed 27 rows containing missing values (geom_point).\""
     ]
    },
    {
     "data": {
      "image/png": "[encoded data removed]",
      "text/plain": [
       "plot without title"
      ]
     },
     "metadata": {},
     "output_type": "display_data"
    }
   ],
   "source": [
    "ggplot(msleep, aes(brainwt, sleep_total)) + \n",
    "      geom_point() +\n",
    "      xlab(\"Brain weight (logarithmic scale)\") +\n",
    "      ylab(\"Total sleep time\") +\n",
    "      scale_x_log10() +\n",
    "      facet_wrap(~ vore)"
   ]
  },
  {
   "cell_type": "markdown",
   "id": "06e5e55c-cbb6-4664-8630-a06482266b5d",
   "metadata": {
    "tags": []
   },
   "source": [
    "### Boxplots"
   ]
  },
  {
   "cell_type": "code",
   "execution_count": 518,
   "id": "34fb085d-0dab-4a7e-a4fe-0e79951e0b36",
   "metadata": {},
   "outputs": [
    {
     "data": {
      "image/png": "[encoded data removed]",
      "text/plain": [
       "plot without title"
      ]
     },
     "metadata": {},
     "output_type": "display_data"
    },
    {
     "data": {
      "image/png": "[encoded data removed]",
      "text/plain": [
       "plot without title"
      ]
     },
     "metadata": {},
     "output_type": "display_data"
    }
   ],
   "source": [
    "# Base R:\n",
    "boxplot(sleep_total ~ vore, data = msleep)\n",
    "\n",
    "# ggplot2:\n",
    "ggplot(msleep, aes(vore, sleep_total)) +\n",
    "      geom_boxplot()"
   ]
  },
  {
   "cell_type": "markdown",
   "id": "a92a5d34-3d00-49d2-ae3c-8d4356174015",
   "metadata": {},
   "source": [
    "### Histograms"
   ]
  },
  {
   "cell_type": "code",
   "execution_count": 519,
   "id": "6ff2ef5e-5b59-43b6-94c8-3396c6dc33a8",
   "metadata": {},
   "outputs": [
    {
     "name": "stderr",
     "output_type": "stream",
     "text": [
      "`stat_bin()` using `bins = 30`. Pick better value with `binwidth`.\n"
     ]
    },
    {
     "data": {
      "image/png": "[encoded data removed]",
      "text/plain": [
       "Plot with title \"Histogram of msleep$sleep_total\""
      ]
     },
     "metadata": {},
     "output_type": "display_data"
    },
    {
     "data": {
      "image/png": "[encoded data removed]",
      "text/plain": [
       "plot without title"
      ]
     },
     "metadata": {},
     "output_type": "display_data"
    }
   ],
   "source": [
    "# Base R:\n",
    "hist(msleep$sleep_total)\n",
    "\n",
    "# ggplot2:\n",
    "ggplot(msleep, aes(sleep_total)) +\n",
    "      geom_histogram()"
   ]
  },
  {
   "cell_type": "markdown",
   "id": "e463d662-ca27-4af6-ac1f-1ff526c33b30",
   "metadata": {
    "jp-MarkdownHeadingCollapsed": true,
    "tags": []
   },
   "source": [
    "### Bar charts"
   ]
  },
  {
   "cell_type": "code",
   "execution_count": 520,
   "id": "f015c853-de87-4e35-8c29-743b47f749ed",
   "metadata": {},
   "outputs": [
    {
     "data": {
      "image/png": "[encoded data removed]",
      "text/plain": [
       "plot without title"
      ]
     },
     "metadata": {},
     "output_type": "display_data"
    },
    {
     "data": {
      "image/png": "[encoded data removed]",
      "text/plain": [
       "plot without title"
      ]
     },
     "metadata": {},
     "output_type": "display_data"
    }
   ],
   "source": [
    "# Base R\n",
    "barplot(table(msleep$vore))\n",
    "\n",
    "# ggplot2\n",
    "ggplot(msleep, aes(vore)) +\n",
    "      geom_bar()"
   ]
  },
  {
   "cell_type": "code",
   "execution_count": 521,
   "id": "3fbbbcfb-2140-4614-af5e-eae99dd2cb98",
   "metadata": {},
   "outputs": [
    {
     "data": {
      "image/png": "[encoded data removed]",
      "text/plain": [
       "plot without title"
      ]
     },
     "metadata": {},
     "output_type": "display_data"
    }
   ],
   "source": [
    "ggplot(msleep, aes(factor(1), fill = vore)) +\n",
    "      geom_bar()"
   ]
  },
  {
   "cell_type": "code",
   "execution_count": 522,
   "id": "493ede36-e487-4ddd-a4e8-4ee271bca3b8",
   "metadata": {},
   "outputs": [
    {
     "data": {
      "image/png": "[encoded data removed]",
      "text/plain": [
       "plot without title"
      ]
     },
     "metadata": {},
     "output_type": "display_data"
    }
   ],
   "source": [
    "ggplot(msleep, aes(vore, fill = vore)) +\n",
    "    geom_bar()"
   ]
  },
  {
   "cell_type": "code",
   "execution_count": 523,
   "id": "90574a60-1a3c-4e37-aec1-fd4a9eb0c0e3",
   "metadata": {},
   "outputs": [
    {
     "data": {
      "image/png": "[encoded data removed]",
      "text/plain": [
       "plot without title"
      ]
     },
     "metadata": {},
     "output_type": "display_data"
    }
   ],
   "source": [
    "ggplot(msleep, aes(vore)) +\n",
    "    geom_bar(fill = c('red','yellow','blue','green','purple'))"
   ]
  },
  {
   "cell_type": "code",
   "execution_count": 524,
   "id": "830b2992-1132-460c-a67d-15620cdbfde0",
   "metadata": {},
   "outputs": [
    {
     "data": {
      "image/png": "[encoded data removed]",
      "text/plain": [
       "plot without title"
      ]
     },
     "metadata": {},
     "output_type": "display_data"
    }
   ],
   "source": [
    "ggplot(msleep, aes(vore, fill = conservation)) +\n",
    "      geom_bar()"
   ]
  },
  {
   "cell_type": "code",
   "execution_count": 525,
   "id": "1a633a51-ca06-40f4-b83b-9197a2285512",
   "metadata": {},
   "outputs": [
    {
     "data": {
      "image/png": "[encoded data removed]",
      "text/plain": [
       "plot without title"
      ]
     },
     "metadata": {},
     "output_type": "display_data"
    }
   ],
   "source": [
    "ggplot(msleep, aes(vore, fill = conservation)) +\n",
    "      geom_bar(position = 'dodge')"
   ]
  },
  {
   "cell_type": "code",
   "execution_count": 526,
   "id": "d6495157-0ff4-4aa4-b229-8c33abcb1681",
   "metadata": {},
   "outputs": [
    {
     "data": {
      "image/png": "[encoded data removed]",
      "text/plain": [
       "plot without title"
      ]
     },
     "metadata": {},
     "output_type": "display_data"
    }
   ],
   "source": [
    "ggplot(msleep, aes(vore, fill = vore)) +\n",
    "      geom_bar(width = 0.5) +\n",
    "coord_flip()"
   ]
  },
  {
   "cell_type": "markdown",
   "id": "1f5bb374-e405-48a3-b31e-97d52c18ffd6",
   "metadata": {
    "jp-MarkdownHeadingCollapsed": true,
    "tags": []
   },
   "source": [
    "## t-test\n",
    "test whether the mean of two populations are equal"
   ]
  },
  {
   "cell_type": "code",
   "execution_count": 527,
   "id": "1a169cb7-0317-4646-b5d1-d60accf54d7f",
   "metadata": {},
   "outputs": [
    {
     "data": {
      "text/plain": [
       "\n",
       "\tWelch Two Sample t-test\n",
       "\n",
       "data:  carnivores$sleep_total and herbivores$sleep_total\n",
       "t = 0.63232, df = 39.31, p-value = 0.5308\n",
       "alternative hypothesis: true difference in means is not equal to 0\n",
       "95 percent confidence interval:\n",
       " -1.911365  3.650509\n",
       "sample estimates:\n",
       "mean of x mean of y \n",
       "10.378947  9.509375 \n"
      ]
     },
     "metadata": {},
     "output_type": "display_data"
    }
   ],
   "source": [
    "library(ggplot2)\n",
    "carnivores <- msleep[msleep$vore == \"carni\",]\n",
    "herbivores <- msleep[msleep$vore == \"herbi\",]\n",
    "t.test(carnivores$sleep_total, herbivores$sleep_total)"
   ]
  },
  {
   "cell_type": "markdown",
   "id": "b1dd012f-aac3-4bbd-95d1-892a617adfe8",
   "metadata": {},
   "source": [
    "The output contains a lot of useful information, including the p-value ( \n",
    "0.53\n",
    " ) and a 95 % confidence interval. t.test contains a number of useful arguments that we can use to tailor the test to our taste. For instance, we can change the confidence level of the confidence interval (to 90 %, say), use a one-sided alternative hypothesis (“carnivores sleep more than herbivores,” i.e. the mean of the first group is greater than that of the second group) and perform the test under the assumption of equal variances in the two samples:"
   ]
  },
  {
   "cell_type": "code",
   "execution_count": 528,
   "id": "13f300f7-0034-4c11-9319-49f5e9d1cd88",
   "metadata": {},
   "outputs": [
    {
     "data": {
      "text/plain": [
       "\n",
       "\tTwo Sample t-test\n",
       "\n",
       "data:  carnivores$sleep_total and herbivores$sleep_total\n",
       "t = 0.62514, df = 49, p-value = 0.2674\n",
       "alternative hypothesis: true difference in means is greater than 0\n",
       "90 percent confidence interval:\n",
       " -0.9374361        Inf\n",
       "sample estimates:\n",
       "mean of x mean of y \n",
       "10.378947  9.509375 \n"
      ]
     },
     "metadata": {},
     "output_type": "display_data"
    }
   ],
   "source": [
    "t.test(carnivores$sleep_total, herbivores$sleep_total,\n",
    "       conf.level = 0.90,\n",
    "       alternative = \"greater\",\n",
    "       var.equal = TRUE)"
   ]
  },
  {
   "cell_type": "markdown",
   "id": "08b68939-5578-4dd6-b20c-68a8da9d5c90",
   "metadata": {
    "jp-MarkdownHeadingCollapsed": true,
    "tags": []
   },
   "source": [
    "## fitting  a linear regression model"
   ]
  },
  {
   "cell_type": "code",
   "execution_count": 529,
   "id": "de58c8e1-4135-4767-a51d-c628b2a8ccdd",
   "metadata": {},
   "outputs": [
    {
     "data": {
      "text/html": [
       "<table>\n",
       "<thead><tr><th></th><th scope=col>mpg</th><th scope=col>cyl</th><th scope=col>disp</th><th scope=col>hp</th><th scope=col>drat</th><th scope=col>wt</th><th scope=col>qsec</th><th scope=col>vs</th><th scope=col>am</th><th scope=col>gear</th><th scope=col>carb</th></tr></thead>\n",
       "<tbody>\n",
       "\t<tr><th scope=row>Mazda RX4</th><td>21.0 </td><td>6    </td><td>160  </td><td>110  </td><td>3.90 </td><td>2.620</td><td>16.46</td><td>0    </td><td>1    </td><td>4    </td><td>4    </td></tr>\n",
       "\t<tr><th scope=row>Mazda RX4 Wag</th><td>21.0 </td><td>6    </td><td>160  </td><td>110  </td><td>3.90 </td><td>2.875</td><td>17.02</td><td>0    </td><td>1    </td><td>4    </td><td>4    </td></tr>\n",
       "\t<tr><th scope=row>Datsun 710</th><td>22.8 </td><td>4    </td><td>108  </td><td> 93  </td><td>3.85 </td><td>2.320</td><td>18.61</td><td>1    </td><td>1    </td><td>4    </td><td>1    </td></tr>\n",
       "\t<tr><th scope=row>Hornet 4 Drive</th><td>21.4 </td><td>6    </td><td>258  </td><td>110  </td><td>3.08 </td><td>3.215</td><td>19.44</td><td>1    </td><td>0    </td><td>3    </td><td>1    </td></tr>\n",
       "\t<tr><th scope=row>Hornet Sportabout</th><td>18.7 </td><td>8    </td><td>360  </td><td>175  </td><td>3.15 </td><td>3.440</td><td>17.02</td><td>0    </td><td>0    </td><td>3    </td><td>2    </td></tr>\n",
       "\t<tr><th scope=row>Valiant</th><td>18.1 </td><td>6    </td><td>225  </td><td>105  </td><td>2.76 </td><td>3.460</td><td>20.22</td><td>1    </td><td>0    </td><td>3    </td><td>1    </td></tr>\n",
       "</tbody>\n",
       "</table>\n"
      ],
      "text/latex": [
       "\\begin{tabular}{r|lllllllllll}\n",
       "  & mpg & cyl & disp & hp & drat & wt & qsec & vs & am & gear & carb\\\\\n",
       "\\hline\n",
       "\tMazda RX4 & 21.0  & 6     & 160   & 110   & 3.90  & 2.620 & 16.46 & 0     & 1     & 4     & 4    \\\\\n",
       "\tMazda RX4 Wag & 21.0  & 6     & 160   & 110   & 3.90  & 2.875 & 17.02 & 0     & 1     & 4     & 4    \\\\\n",
       "\tDatsun 710 & 22.8  & 4     & 108   &  93   & 3.85  & 2.320 & 18.61 & 1     & 1     & 4     & 1    \\\\\n",
       "\tHornet 4 Drive & 21.4  & 6     & 258   & 110   & 3.08  & 3.215 & 19.44 & 1     & 0     & 3     & 1    \\\\\n",
       "\tHornet Sportabout & 18.7  & 8     & 360   & 175   & 3.15  & 3.440 & 17.02 & 0     & 0     & 3     & 2    \\\\\n",
       "\tValiant & 18.1  & 6     & 225   & 105   & 2.76  & 3.460 & 20.22 & 1     & 0     & 3     & 1    \\\\\n",
       "\\end{tabular}\n"
      ],
      "text/markdown": [
       "\n",
       "| <!--/--> | mpg | cyl | disp | hp | drat | wt | qsec | vs | am | gear | carb |\n",
       "|---|---|---|---|---|---|---|---|---|---|---|---|\n",
       "| Mazda RX4 | 21.0  | 6     | 160   | 110   | 3.90  | 2.620 | 16.46 | 0     | 1     | 4     | 4     |\n",
       "| Mazda RX4 Wag | 21.0  | 6     | 160   | 110   | 3.90  | 2.875 | 17.02 | 0     | 1     | 4     | 4     |\n",
       "| Datsun 710 | 22.8  | 4     | 108   |  93   | 3.85  | 2.320 | 18.61 | 1     | 1     | 4     | 1     |\n",
       "| Hornet 4 Drive | 21.4  | 6     | 258   | 110   | 3.08  | 3.215 | 19.44 | 1     | 0     | 3     | 1     |\n",
       "| Hornet Sportabout | 18.7  | 8     | 360   | 175   | 3.15  | 3.440 | 17.02 | 0     | 0     | 3     | 2     |\n",
       "| Valiant | 18.1  | 6     | 225   | 105   | 2.76  | 3.460 | 20.22 | 1     | 0     | 3     | 1     |\n",
       "\n"
      ],
      "text/plain": [
       "                  mpg  cyl disp hp  drat wt    qsec  vs am gear carb\n",
       "Mazda RX4         21.0 6   160  110 3.90 2.620 16.46 0  1  4    4   \n",
       "Mazda RX4 Wag     21.0 6   160  110 3.90 2.875 17.02 0  1  4    4   \n",
       "Datsun 710        22.8 4   108   93 3.85 2.320 18.61 1  1  4    1   \n",
       "Hornet 4 Drive    21.4 6   258  110 3.08 3.215 19.44 1  0  3    1   \n",
       "Hornet Sportabout 18.7 8   360  175 3.15 3.440 17.02 0  0  3    2   \n",
       "Valiant           18.1 6   225  105 2.76 3.460 20.22 1  0  3    1   "
      ]
     },
     "metadata": {},
     "output_type": "display_data"
    },
    {
     "data": {
      "text/html": [
       "\n",
       "<table width=\"100%\" summary=\"page for mtcars {datasets}\"><tr><td>mtcars {datasets}</td><td style=\"text-align: right;\">R Documentation</td></tr></table>\n",
       "\n",
       "<h2>Motor Trend Car Road Tests</h2>\n",
       "\n",
       "<h3>Description</h3>\n",
       "\n",
       "<p>The data was extracted from the 1974 <em>Motor Trend</em> US magazine,\n",
       "and comprises fuel consumption and 10 aspects of\n",
       "automobile design and performance for 32 automobiles (1973&ndash;74\n",
       "models).\n",
       "</p>\n",
       "\n",
       "\n",
       "<h3>Usage</h3>\n",
       "\n",
       "<pre>mtcars</pre>\n",
       "\n",
       "\n",
       "<h3>Format</h3>\n",
       "\n",
       "<p>A data frame with 32 observations on 11 (numeric) variables.\n",
       "</p>\n",
       "\n",
       "<table summary=\"Rd table\">\n",
       "<tr>\n",
       " <td style=\"text-align: right;\">\n",
       "    [, 1] </td><td style=\"text-align: left;\"> mpg  </td><td style=\"text-align: left;\"> Miles/(US) gallon </td>\n",
       "</tr>\n",
       "<tr>\n",
       " <td style=\"text-align: right;\">\n",
       "    [, 2] </td><td style=\"text-align: left;\"> cyl  </td><td style=\"text-align: left;\"> Number of cylinders </td>\n",
       "</tr>\n",
       "<tr>\n",
       " <td style=\"text-align: right;\">\n",
       "    [, 3] </td><td style=\"text-align: left;\"> disp </td><td style=\"text-align: left;\"> Displacement (cu.in.) </td>\n",
       "</tr>\n",
       "<tr>\n",
       " <td style=\"text-align: right;\">\n",
       "    [, 4] </td><td style=\"text-align: left;\"> hp   </td><td style=\"text-align: left;\"> Gross horsepower </td>\n",
       "</tr>\n",
       "<tr>\n",
       " <td style=\"text-align: right;\">\n",
       "    [, 5] </td><td style=\"text-align: left;\"> drat </td><td style=\"text-align: left;\"> Rear axle ratio </td>\n",
       "</tr>\n",
       "<tr>\n",
       " <td style=\"text-align: right;\">\n",
       "    [, 6] </td><td style=\"text-align: left;\"> wt   </td><td style=\"text-align: left;\"> Weight (1000 lbs) </td>\n",
       "</tr>\n",
       "<tr>\n",
       " <td style=\"text-align: right;\">\n",
       "    [, 7] </td><td style=\"text-align: left;\"> qsec </td><td style=\"text-align: left;\"> 1/4 mile time </td>\n",
       "</tr>\n",
       "<tr>\n",
       " <td style=\"text-align: right;\">\n",
       "    [, 8] </td><td style=\"text-align: left;\"> vs   </td><td style=\"text-align: left;\"> Engine (0 = V-shaped, 1 = straight) </td>\n",
       "</tr>\n",
       "<tr>\n",
       " <td style=\"text-align: right;\">\n",
       "    [, 9] </td><td style=\"text-align: left;\"> am   </td><td style=\"text-align: left;\"> Transmission (0 = automatic, 1 = manual) </td>\n",
       "</tr>\n",
       "<tr>\n",
       " <td style=\"text-align: right;\">\n",
       "    [,10] </td><td style=\"text-align: left;\"> gear </td><td style=\"text-align: left;\"> Number of forward gears </td>\n",
       "</tr>\n",
       "<tr>\n",
       " <td style=\"text-align: right;\">\n",
       "    [,11] </td><td style=\"text-align: left;\"> carb </td><td style=\"text-align: left;\"> Number of carburetors\n",
       "  </td>\n",
       "</tr>\n",
       "\n",
       "</table>\n",
       "\n",
       "\n",
       "\n",
       "<h3>Note</h3>\n",
       "\n",
       "<p>Henderson and Velleman (1981) comment in a footnote to Table 1:\n",
       "&lsquo;Hocking [original transcriber]'s noncrucial coding of the\n",
       "Mazda's rotary engine as a straight six-cylinder engine and the\n",
       "Porsche's flat engine as a V engine, as well as the inclusion of the\n",
       "diesel Mercedes 240D, have been retained to enable direct comparisons\n",
       "to be made with previous analyses.&rsquo;\n",
       "</p>\n",
       "\n",
       "\n",
       "<h3>Source</h3>\n",
       "\n",
       "<p>Henderson and Velleman (1981),\n",
       "Building multiple regression models interactively.\n",
       "<em>Biometrics</em>, <b>37</b>, 391&ndash;411.\n",
       "</p>\n",
       "\n",
       "\n",
       "<h3>Examples</h3>\n",
       "\n",
       "<pre>\n",
       "require(graphics)\n",
       "pairs(mtcars, main = \"mtcars data\", gap = 1/4)\n",
       "coplot(mpg ~ disp | as.factor(cyl), data = mtcars,\n",
       "       panel = panel.smooth, rows = 1)\n",
       "## possibly more meaningful, e.g., for summary() or bivariate plots:\n",
       "mtcars2 &lt;- within(mtcars, {\n",
       "   vs &lt;- factor(vs, labels = c(\"V\", \"S\"))\n",
       "   am &lt;- factor(am, labels = c(\"automatic\", \"manual\"))\n",
       "   cyl  &lt;- ordered(cyl)\n",
       "   gear &lt;- ordered(gear)\n",
       "   carb &lt;- ordered(carb)\n",
       "})\n",
       "summary(mtcars2)\n",
       "</pre>\n",
       "\n",
       "<hr /><div style=\"text-align: center;\">[Package <em>datasets</em> version 3.6.1 ]</div>"
      ],
      "text/latex": [
       "\\inputencoding{utf8}\n",
       "\\HeaderA{mtcars}{Motor Trend Car Road Tests}{mtcars}\n",
       "\\keyword{datasets}{mtcars}\n",
       "%\n",
       "\\begin{Description}\\relax\n",
       "The data was extracted from the 1974 \\emph{Motor Trend} US magazine,\n",
       "and comprises fuel consumption and 10 aspects of\n",
       "automobile design and performance for 32 automobiles (1973--74\n",
       "models).\n",
       "\\end{Description}\n",
       "%\n",
       "\\begin{Usage}\n",
       "\\begin{verbatim}\n",
       "mtcars\n",
       "\\end{verbatim}\n",
       "\\end{Usage}\n",
       "%\n",
       "\\begin{Format}\n",
       "A data frame with 32 observations on 11 (numeric) variables.\n",
       "\n",
       "\\Tabular{rll}{\n",
       "[, 1] & mpg  & Miles/(US) gallon \\\\{}\n",
       "[, 2] & cyl  & Number of cylinders \\\\{}\n",
       "[, 3] & disp & Displacement (cu.in.) \\\\{}\n",
       "[, 4] & hp   & Gross horsepower \\\\{}\n",
       "[, 5] & drat & Rear axle ratio \\\\{}\n",
       "[, 6] & wt   & Weight (1000 lbs) \\\\{}\n",
       "[, 7] & qsec & 1/4 mile time \\\\{}\n",
       "[, 8] & vs   & Engine (0 = V-shaped, 1 = straight) \\\\{}\n",
       "[, 9] & am   & Transmission (0 = automatic, 1 = manual) \\\\{}\n",
       "[,10] & gear & Number of forward gears \\\\{}\n",
       "[,11] & carb & Number of carburetors\n",
       "}\n",
       "\\end{Format}\n",
       "%\n",
       "\\begin{Note}\\relax\n",
       "Henderson and Velleman (1981) comment in a footnote to Table 1:\n",
       "`Hocking [original transcriber]'s noncrucial coding of the\n",
       "Mazda's rotary engine as a straight six-cylinder engine and the\n",
       "Porsche's flat engine as a V engine, as well as the inclusion of the\n",
       "diesel Mercedes 240D, have been retained to enable direct comparisons\n",
       "to be made with previous analyses.'\n",
       "\\end{Note}\n",
       "%\n",
       "\\begin{Source}\\relax\n",
       "Henderson and Velleman (1981),\n",
       "Building multiple regression models interactively.\n",
       "\\emph{Biometrics}, \\bold{37}, 391--411.\n",
       "\\end{Source}\n",
       "%\n",
       "\\begin{Examples}\n",
       "\\begin{ExampleCode}\n",
       "require(graphics)\n",
       "pairs(mtcars, main = \"mtcars data\", gap = 1/4)\n",
       "coplot(mpg ~ disp | as.factor(cyl), data = mtcars,\n",
       "       panel = panel.smooth, rows = 1)\n",
       "## possibly more meaningful, e.g., for summary() or bivariate plots:\n",
       "mtcars2 <- within(mtcars, {\n",
       "   vs <- factor(vs, labels = c(\"V\", \"S\"))\n",
       "   am <- factor(am, labels = c(\"automatic\", \"manual\"))\n",
       "   cyl  <- ordered(cyl)\n",
       "   gear <- ordered(gear)\n",
       "   carb <- ordered(carb)\n",
       "})\n",
       "summary(mtcars2)\n",
       "\\end{ExampleCode}\n",
       "\\end{Examples}"
      ],
      "text/plain": [
       "mtcars                package:datasets                 R Documentation\n",
       "\n",
       "_\bM_\bo_\bt_\bo_\br _\bT_\br_\be_\bn_\bd _\bC_\ba_\br _\bR_\bo_\ba_\bd _\bT_\be_\bs_\bt_\bs\n",
       "\n",
       "_\bD_\be_\bs_\bc_\br_\bi_\bp_\bt_\bi_\bo_\bn:\n",
       "\n",
       "     The data was extracted from the 1974 _Motor Trend_ US magazine,\n",
       "     and comprises fuel consumption and 10 aspects of automobile design\n",
       "     and performance for 32 automobiles (1973-74 models).\n",
       "\n",
       "_\bU_\bs_\ba_\bg_\be:\n",
       "\n",
       "     mtcars\n",
       "     \n",
       "_\bF_\bo_\br_\bm_\ba_\bt:\n",
       "\n",
       "     A data frame with 32 observations on 11 (numeric) variables.\n",
       "\n",
       "       [, 1]  mpg   Miles/(US) gallon                        \n",
       "       [, 2]  cyl   Number of cylinders                      \n",
       "       [, 3]  disp  Displacement (cu.in.)                    \n",
       "       [, 4]  hp    Gross horsepower                         \n",
       "       [, 5]  drat  Rear axle ratio                          \n",
       "       [, 6]  wt    Weight (1000 lbs)                        \n",
       "       [, 7]  qsec  1/4 mile time                            \n",
       "       [, 8]  vs    Engine (0 = V-shaped, 1 = straight)      \n",
       "       [, 9]  am    Transmission (0 = automatic, 1 = manual) \n",
       "       [,10]  gear  Number of forward gears                  \n",
       "       [,11]  carb  Number of carburetors                    \n",
       "      \n",
       "_\bN_\bo_\bt_\be:\n",
       "\n",
       "     Henderson and Velleman (1981) comment in a footnote to Table 1:\n",
       "     'Hocking [original transcriber]'s noncrucial coding of the Mazda's\n",
       "     rotary engine as a straight six-cylinder engine and the Porsche's\n",
       "     flat engine as a V engine, as well as the inclusion of the diesel\n",
       "     Mercedes 240D, have been retained to enable direct comparisons to\n",
       "     be made with previous analyses.'\n",
       "\n",
       "_\bS_\bo_\bu_\br_\bc_\be:\n",
       "\n",
       "     Henderson and Velleman (1981), Building multiple regression models\n",
       "     interactively.  _Biometrics_, *37*, 391-411.\n",
       "\n",
       "_\bE_\bx_\ba_\bm_\bp_\bl_\be_\bs:\n",
       "\n",
       "     require(graphics)\n",
       "     pairs(mtcars, main = \"mtcars data\", gap = 1/4)\n",
       "     coplot(mpg ~ disp | as.factor(cyl), data = mtcars,\n",
       "            panel = panel.smooth, rows = 1)\n",
       "     ## possibly more meaningful, e.g., for summary() or bivariate plots:\n",
       "     mtcars2 <- within(mtcars, {\n",
       "        vs <- factor(vs, labels = c(\"V\", \"S\"))\n",
       "        am <- factor(am, labels = c(\"automatic\", \"manual\"))\n",
       "        cyl  <- ordered(cyl)\n",
       "        gear <- ordered(gear)\n",
       "        carb <- ordered(carb)\n",
       "     })\n",
       "     summary(mtcars2)\n",
       "     "
      ]
     },
     "metadata": {},
     "output_type": "display_data"
    }
   ],
   "source": [
    "?mtcars\n",
    "head(mtcars)"
   ]
  },
  {
   "cell_type": "code",
   "execution_count": 530,
   "id": "d2383fd7-05d2-4ced-9a8e-2432fadd8f9b",
   "metadata": {},
   "outputs": [
    {
     "data": {
      "image/png": "[encoded data removed]",
      "text/plain": [
       "plot without title"
      ]
     },
     "metadata": {},
     "output_type": "display_data"
    }
   ],
   "source": [
    "library(ggplot2)\n",
    "ggplot(mtcars, aes(hp, mpg)) +\n",
    "      geom_point()"
   ]
  },
  {
   "cell_type": "code",
   "execution_count": 531,
   "id": "f9b838df-6a61-4aa9-854c-5632ab2f8945",
   "metadata": {},
   "outputs": [],
   "source": [
    "m <- lm(mpg ~ hp, data = mtcars)"
   ]
  },
  {
   "cell_type": "code",
   "execution_count": 532,
   "id": "c137216f-2f1b-4cdb-96e8-8cc8bd56eacb",
   "metadata": {},
   "outputs": [
    {
     "data": {
      "text/plain": [
       "\n",
       "Call:\n",
       "lm(formula = mpg ~ hp, data = mtcars)\n",
       "\n",
       "Residuals:\n",
       "    Min      1Q  Median      3Q     Max \n",
       "-5.7121 -2.1122 -0.8854  1.5819  8.2360 \n",
       "\n",
       "Coefficients:\n",
       "            Estimate Std. Error t value Pr(>|t|)    \n",
       "(Intercept) 30.09886    1.63392  18.421  < 2e-16 ***\n",
       "hp          -0.06823    0.01012  -6.742 1.79e-07 ***\n",
       "---\n",
       "Signif. codes:  0 '***' 0.001 '**' 0.01 '*' 0.05 '.' 0.1 ' ' 1\n",
       "\n",
       "Residual standard error: 3.863 on 30 degrees of freedom\n",
       "Multiple R-squared:  0.6024,\tAdjusted R-squared:  0.5892 \n",
       "F-statistic: 45.46 on 1 and 30 DF,  p-value: 1.788e-07\n"
      ]
     },
     "metadata": {},
     "output_type": "display_data"
    }
   ],
   "source": [
    "summary(m)"
   ]
  },
  {
   "cell_type": "code",
   "execution_count": 533,
   "id": "fd7abeef-2abc-4873-9961-9f20fa2e8d67",
   "metadata": {},
   "outputs": [
    {
     "data": {
      "text/html": [
       "<dl class=dl-horizontal>\n",
       "\t<dt>(Intercept)</dt>\n",
       "\t\t<dd>30.0988605396225</dd>\n",
       "\t<dt>hp</dt>\n",
       "\t\t<dd>-0.0682282780715636</dd>\n",
       "</dl>\n"
      ],
      "text/latex": [
       "\\begin{description*}\n",
       "\\item[(Intercept)] 30.0988605396225\n",
       "\\item[hp] -0.0682282780715636\n",
       "\\end{description*}\n"
      ],
      "text/markdown": [
       "(Intercept)\n",
       ":   30.0988605396225hp\n",
       ":   -0.0682282780715636\n",
       "\n"
      ],
      "text/plain": [
       "(Intercept)          hp \n",
       "30.09886054 -0.06822828 "
      ]
     },
     "metadata": {},
     "output_type": "display_data"
    },
    {
     "data": {
      "image/png": "[encoded data removed]",
      "text/plain": [
       "plot without title"
      ]
     },
     "metadata": {},
     "output_type": "display_data"
    }
   ],
   "source": [
    "# Check model coefficients:\n",
    "coef(m)\n",
    "\n",
    "# Add regression line to plot:\n",
    "ggplot(mtcars, aes(hp, mpg)) +\n",
    "      geom_point() + \n",
    "      geom_abline(aes(intercept = coef(m)[1], slope = coef(m)[2]),\n",
    "                colour = \"red\")"
   ]
  },
  {
   "cell_type": "code",
   "execution_count": 534,
   "id": "d4785aae-712b-4c06-8202-9cd14bb9da2d",
   "metadata": {},
   "outputs": [
    {
     "data": {
      "image/png": "[encoded data removed]",
      "text/plain": [
       "Plot with title \"\""
      ]
     },
     "metadata": {},
     "output_type": "display_data"
    },
    {
     "data": {
      "image/png": "[encoded data removed]",
      "text/plain": [
       "Plot with title \"\""
      ]
     },
     "metadata": {},
     "output_type": "display_data"
    },
    {
     "data": {
      "image/png": "[encoded data removed]",
      "text/plain": [
       "Plot with title \"\""
      ]
     },
     "metadata": {},
     "output_type": "display_data"
    },
    {
     "data": {
      "image/png": "[encoded data removed]",
      "text/plain": [
       "Plot with title \"\""
      ]
     },
     "metadata": {},
     "output_type": "display_data"
    }
   ],
   "source": [
    "plot(m)"
   ]
  },
  {
   "cell_type": "code",
   "execution_count": 535,
   "id": "2d5b53ce-ed32-4afd-9b13-efa9b33891e7",
   "metadata": {},
   "outputs": [
    {
     "data": {
      "text/plain": [
       "\n",
       "Call:\n",
       "lm(formula = mpg ~ hp + wt, data = mtcars)\n",
       "\n",
       "Residuals:\n",
       "   Min     1Q Median     3Q    Max \n",
       "-3.941 -1.600 -0.182  1.050  5.854 \n",
       "\n",
       "Coefficients:\n",
       "            Estimate Std. Error t value Pr(>|t|)    \n",
       "(Intercept) 37.22727    1.59879  23.285  < 2e-16 ***\n",
       "hp          -0.03177    0.00903  -3.519  0.00145 ** \n",
       "wt          -3.87783    0.63273  -6.129 1.12e-06 ***\n",
       "---\n",
       "Signif. codes:  0 '***' 0.001 '**' 0.01 '*' 0.05 '.' 0.1 ' ' 1\n",
       "\n",
       "Residual standard error: 2.593 on 29 degrees of freedom\n",
       "Multiple R-squared:  0.8268,\tAdjusted R-squared:  0.8148 \n",
       "F-statistic: 69.21 on 2 and 29 DF,  p-value: 9.109e-12\n"
      ]
     },
     "metadata": {},
     "output_type": "display_data"
    }
   ],
   "source": [
    "m2 <- lm(mpg ~ hp + wt, data = mtcars)\n",
    "summary(m2)"
   ]
  },
  {
   "cell_type": "markdown",
   "id": "45d8dc48-e8c5-47b9-a46e-8e0223ee80fb",
   "metadata": {},
   "source": [
    "### Grouped summaries / aggregate"
   ]
  },
  {
   "cell_type": "code",
   "execution_count": 536,
   "id": "bcd79e99-c96d-4bd5-b295-3e188ad83de0",
   "metadata": {},
   "outputs": [
    {
     "data": {
      "text/html": [
       "<table>\n",
       "<thead><tr><th scope=col>Month</th><th scope=col>Temp</th></tr></thead>\n",
       "<tbody>\n",
       "\t<tr><td>5       </td><td>65.54839</td></tr>\n",
       "\t<tr><td>6       </td><td>79.10000</td></tr>\n",
       "\t<tr><td>7       </td><td>83.90323</td></tr>\n",
       "\t<tr><td>8       </td><td>83.96774</td></tr>\n",
       "\t<tr><td>9       </td><td>76.90000</td></tr>\n",
       "</tbody>\n",
       "</table>\n"
      ],
      "text/latex": [
       "\\begin{tabular}{r|ll}\n",
       " Month & Temp\\\\\n",
       "\\hline\n",
       "\t 5        & 65.54839\\\\\n",
       "\t 6        & 79.10000\\\\\n",
       "\t 7        & 83.90323\\\\\n",
       "\t 8        & 83.96774\\\\\n",
       "\t 9        & 76.90000\\\\\n",
       "\\end{tabular}\n"
      ],
      "text/markdown": [
       "\n",
       "| Month | Temp |\n",
       "|---|---|\n",
       "| 5        | 65.54839 |\n",
       "| 6        | 79.10000 |\n",
       "| 7        | 83.90323 |\n",
       "| 8        | 83.96774 |\n",
       "| 9        | 76.90000 |\n",
       "\n"
      ],
      "text/plain": [
       "  Month Temp    \n",
       "1 5     65.54839\n",
       "2 6     79.10000\n",
       "3 7     83.90323\n",
       "4 8     83.96774\n",
       "5 9     76.90000"
      ]
     },
     "metadata": {},
     "output_type": "display_data"
    }
   ],
   "source": [
    "aggregate(Temp ~ Month, data = airquality, FUN = mean)"
   ]
  },
  {
   "cell_type": "code",
   "execution_count": 537,
   "id": "b3c9e1aa-2a2f-4780-bf9a-3661463cbdcb",
   "metadata": {},
   "outputs": [
    {
     "data": {
      "text/html": [
       "<table>\n",
       "<thead><tr><th scope=col>Month</th><th scope=col>Ozone</th></tr></thead>\n",
       "<tbody>\n",
       "\t<tr><td>5       </td><td>23.61538</td></tr>\n",
       "\t<tr><td>6       </td><td>29.44444</td></tr>\n",
       "\t<tr><td>7       </td><td>59.11538</td></tr>\n",
       "\t<tr><td>8       </td><td>59.96154</td></tr>\n",
       "\t<tr><td>9       </td><td>31.44828</td></tr>\n",
       "</tbody>\n",
       "</table>\n"
      ],
      "text/latex": [
       "\\begin{tabular}{r|ll}\n",
       " Month & Ozone\\\\\n",
       "\\hline\n",
       "\t 5        & 23.61538\\\\\n",
       "\t 6        & 29.44444\\\\\n",
       "\t 7        & 59.11538\\\\\n",
       "\t 8        & 59.96154\\\\\n",
       "\t 9        & 31.44828\\\\\n",
       "\\end{tabular}\n"
      ],
      "text/markdown": [
       "\n",
       "| Month | Ozone |\n",
       "|---|---|\n",
       "| 5        | 23.61538 |\n",
       "| 6        | 29.44444 |\n",
       "| 7        | 59.11538 |\n",
       "| 8        | 59.96154 |\n",
       "| 9        | 31.44828 |\n",
       "\n"
      ],
      "text/plain": [
       "  Month Ozone   \n",
       "1 5     23.61538\n",
       "2 6     29.44444\n",
       "3 7     59.11538\n",
       "4 8     59.96154\n",
       "5 9     31.44828"
      ]
     },
     "metadata": {},
     "output_type": "display_data"
    }
   ],
   "source": [
    "aggregate(Ozone ~ Month, data = airquality, FUN = mean)"
   ]
  },
  {
   "cell_type": "code",
   "execution_count": 538,
   "id": "93222b47-46c5-4aad-ac53-0afb04428882",
   "metadata": {},
   "outputs": [
    {
     "data": {
      "text/html": [
       "<table>\n",
       "<thead><tr><th scope=col>Month</th><th scope=col>Temp</th><th scope=col>Wind</th></tr></thead>\n",
       "<tbody>\n",
       "\t<tr><td>5       </td><td>6.854870</td><td>3.531450</td></tr>\n",
       "\t<tr><td>6       </td><td>6.598589</td><td>3.769234</td></tr>\n",
       "\t<tr><td>7       </td><td>4.315513</td><td>3.035981</td></tr>\n",
       "\t<tr><td>8       </td><td>6.585256</td><td>3.225930</td></tr>\n",
       "\t<tr><td>9       </td><td>8.355671</td><td>3.461254</td></tr>\n",
       "</tbody>\n",
       "</table>\n"
      ],
      "text/latex": [
       "\\begin{tabular}{r|lll}\n",
       " Month & Temp & Wind\\\\\n",
       "\\hline\n",
       "\t 5        & 6.854870 & 3.531450\\\\\n",
       "\t 6        & 6.598589 & 3.769234\\\\\n",
       "\t 7        & 4.315513 & 3.035981\\\\\n",
       "\t 8        & 6.585256 & 3.225930\\\\\n",
       "\t 9        & 8.355671 & 3.461254\\\\\n",
       "\\end{tabular}\n"
      ],
      "text/markdown": [
       "\n",
       "| Month | Temp | Wind |\n",
       "|---|---|---|\n",
       "| 5        | 6.854870 | 3.531450 |\n",
       "| 6        | 6.598589 | 3.769234 |\n",
       "| 7        | 4.315513 | 3.035981 |\n",
       "| 8        | 6.585256 | 3.225930 |\n",
       "| 9        | 8.355671 | 3.461254 |\n",
       "\n"
      ],
      "text/plain": [
       "  Month Temp     Wind    \n",
       "1 5     6.854870 3.531450\n",
       "2 6     6.598589 3.769234\n",
       "3 7     4.315513 3.035981\n",
       "4 8     6.585256 3.225930\n",
       "5 9     8.355671 3.461254"
      ]
     },
     "metadata": {},
     "output_type": "display_data"
    }
   ],
   "source": [
    "aggregate(cbind(Temp, Wind) ~ Month, data = airquality, FUN = sd)"
   ]
  },
  {
   "cell_type": "code",
   "execution_count": 539,
   "id": "8dee11df-d7a0-4b30-86e2-d424318b2542",
   "metadata": {},
   "outputs": [
    {
     "data": {
      "text/html": [
       "<table>\n",
       "<thead><tr><th scope=col>Month</th><th scope=col>Temp</th></tr></thead>\n",
       "<tbody>\n",
       "\t<tr><td>5 </td><td>31</td></tr>\n",
       "\t<tr><td>6 </td><td>30</td></tr>\n",
       "\t<tr><td>7 </td><td>31</td></tr>\n",
       "\t<tr><td>8 </td><td>31</td></tr>\n",
       "\t<tr><td>9 </td><td>30</td></tr>\n",
       "</tbody>\n",
       "</table>\n"
      ],
      "text/latex": [
       "\\begin{tabular}{r|ll}\n",
       " Month & Temp\\\\\n",
       "\\hline\n",
       "\t 5  & 31\\\\\n",
       "\t 6  & 30\\\\\n",
       "\t 7  & 31\\\\\n",
       "\t 8  & 31\\\\\n",
       "\t 9  & 30\\\\\n",
       "\\end{tabular}\n"
      ],
      "text/markdown": [
       "\n",
       "| Month | Temp |\n",
       "|---|---|\n",
       "| 5  | 31 |\n",
       "| 6  | 30 |\n",
       "| 7  | 31 |\n",
       "| 8  | 31 |\n",
       "| 9  | 30 |\n",
       "\n"
      ],
      "text/plain": [
       "  Month Temp\n",
       "1 5     31  \n",
       "2 6     30  \n",
       "3 7     31  \n",
       "4 8     31  \n",
       "5 9     30  "
      ]
     },
     "metadata": {},
     "output_type": "display_data"
    }
   ],
   "source": [
    "aggregate(Temp ~ Month, data = airquality, FUN = length)"
   ]
  },
  {
   "cell_type": "code",
   "execution_count": 540,
   "id": "f15c6752-9666-4116-8d0b-1dac65443576",
   "metadata": {},
   "outputs": [
    {
     "data": {
      "text/plain": [
       "airquality$Month: 5\n",
       "[1] 65.54839\n",
       "------------------------------------------------------------ \n",
       "airquality$Month: 6\n",
       "[1] 79.1\n",
       "------------------------------------------------------------ \n",
       "airquality$Month: 7\n",
       "[1] 83.90323\n",
       "------------------------------------------------------------ \n",
       "airquality$Month: 8\n",
       "[1] 83.96774\n",
       "------------------------------------------------------------ \n",
       "airquality$Month: 9\n",
       "[1] 76.9"
      ]
     },
     "metadata": {},
     "output_type": "display_data"
    }
   ],
   "source": [
    "by(airquality$Temp, airquality$Month, mean)"
   ]
  },
  {
   "cell_type": "code",
   "execution_count": 541,
   "id": "4f318811-47f6-4906-b952-723113be16dd",
   "metadata": {},
   "outputs": [
    {
     "data": {
      "text/html": [
       "<ol class=list-inline>\n",
       "\t<li>'Ozone'</li>\n",
       "\t<li>'Solar.R'</li>\n",
       "\t<li>'Wind'</li>\n",
       "\t<li>'Temp'</li>\n",
       "\t<li>'Month'</li>\n",
       "\t<li>'Day'</li>\n",
       "\t<li>'Hot'</li>\n",
       "</ol>\n"
      ],
      "text/latex": [
       "\\begin{enumerate*}\n",
       "\\item 'Ozone'\n",
       "\\item 'Solar.R'\n",
       "\\item 'Wind'\n",
       "\\item 'Temp'\n",
       "\\item 'Month'\n",
       "\\item 'Day'\n",
       "\\item 'Hot'\n",
       "\\end{enumerate*}\n"
      ],
      "text/markdown": [
       "1. 'Ozone'\n",
       "2. 'Solar.R'\n",
       "3. 'Wind'\n",
       "4. 'Temp'\n",
       "5. 'Month'\n",
       "6. 'Day'\n",
       "7. 'Hot'\n",
       "\n",
       "\n"
      ],
      "text/plain": [
       "[1] \"Ozone\"   \"Solar.R\" \"Wind\"    \"Temp\"    \"Month\"   \"Day\"     \"Hot\"    "
      ]
     },
     "metadata": {},
     "output_type": "display_data"
    },
    {
     "data": {
      "text/plain": [
       "airquality$Month: 5\n",
       "          Wind      Temp\n",
       "Wind  1.000000 -0.373276\n",
       "Temp -0.373276  1.000000\n",
       "------------------------------------------------------------ \n",
       "airquality$Month: 6\n",
       "           Wind       Temp\n",
       "Wind  1.0000000 -0.1210353\n",
       "Temp -0.1210353  1.0000000\n",
       "------------------------------------------------------------ \n",
       "airquality$Month: 7\n",
       "           Wind       Temp\n",
       "Wind  1.0000000 -0.3052355\n",
       "Temp -0.3052355  1.0000000\n",
       "------------------------------------------------------------ \n",
       "airquality$Month: 8\n",
       "           Wind       Temp\n",
       "Wind  1.0000000 -0.5076146\n",
       "Temp -0.5076146  1.0000000\n",
       "------------------------------------------------------------ \n",
       "airquality$Month: 9\n",
       "           Wind       Temp\n",
       "Wind  1.0000000 -0.5704701\n",
       "Temp -0.5704701  1.0000000"
      ]
     },
     "metadata": {},
     "output_type": "display_data"
    }
   ],
   "source": [
    "names(airquality)  # Check that Wind and Temp are in columns 3 and 4\n",
    "by(airquality[, 3:4], airquality$Month, cor)"
   ]
  },
  {
   "cell_type": "markdown",
   "id": "c749cd8f-0949-4bfa-9a93-5e4507d03fdb",
   "metadata": {
    "tags": []
   },
   "source": [
    "## 🚧 Using %>% pipes"
   ]
  },
  {
   "cell_type": "code",
   "execution_count": 542,
   "id": "54bc7b87-7330-427c-92e4-69584f2e7d75",
   "metadata": {},
   "outputs": [],
   "source": [
    "df2$pipe <- df2$new_nums / df2$nums"
   ]
  },
  {
   "cell_type": "code",
   "execution_count": 543,
   "id": "bbe464ea-5ad5-47c2-a011-74b906110678",
   "metadata": {},
   "outputs": [
    {
     "data": {
      "text/html": [
       "<table>\n",
       "<thead><tr><th scope=col>letters</th><th scope=col>nums</th><th scope=col>new_nums</th><th scope=col>pipe</th></tr></thead>\n",
       "<tbody>\n",
       "\t<tr><td>A </td><td>6 </td><td>18</td><td>3 </td></tr>\n",
       "\t<tr><td>B </td><td>4 </td><td>12</td><td>3 </td></tr>\n",
       "\t<tr><td>C </td><td>6 </td><td>18</td><td>3 </td></tr>\n",
       "</tbody>\n",
       "</table>\n"
      ],
      "text/latex": [
       "\\begin{tabular}{r|llll}\n",
       " letters & nums & new\\_nums & pipe\\\\\n",
       "\\hline\n",
       "\t A  & 6  & 18 & 3 \\\\\n",
       "\t B  & 4  & 12 & 3 \\\\\n",
       "\t C  & 6  & 18 & 3 \\\\\n",
       "\\end{tabular}\n"
      ],
      "text/markdown": [
       "\n",
       "| letters | nums | new_nums | pipe |\n",
       "|---|---|---|---|\n",
       "| A  | 6  | 18 | 3  |\n",
       "| B  | 4  | 12 | 3  |\n",
       "| C  | 6  | 18 | 3  |\n",
       "\n"
      ],
      "text/plain": [
       "  letters nums new_nums pipe\n",
       "1 A       6    18       3   \n",
       "2 B       4    12       3   \n",
       "3 C       6    18       3   "
      ]
     },
     "metadata": {},
     "output_type": "display_data"
    }
   ],
   "source": [
    "df2"
   ]
  }
 ],
 "metadata": {
  "kernelspec": {
   "display_name": "R",
   "language": "R",
   "name": "ir"
  },
  "language_info": {
   "codemirror_mode": "r",
   "file_extension": ".r",
   "mimetype": "text/x-r-source",
   "name": "R",
   "pygments_lexer": "r",
   "version": "3.6.1"
  }
 },
 "nbformat": 4,
 "nbformat_minor": 5
}
